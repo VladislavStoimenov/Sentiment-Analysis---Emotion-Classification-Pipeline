{
 "cells": [
  {
   "cell_type": "markdown",
   "id": "8c158371-6664-4c7f-be14-346b9ebad622",
   "metadata": {},
   "source": [
    "# Bert large | 128 tokens | 2e-5 | 6 no neutral = Macro F1 - 0.40 / Weighted F1 - 0.57"
   ]
  },
  {
   "cell_type": "code",
   "execution_count": 3,
   "id": "28b5ee72-d12b-40a4-b633-f0a9a6dd33ed",
   "metadata": {},
   "outputs": [],
   "source": [
    "import os\n",
    "os.environ[\"CUDA_VISIBLE_DEVICES\"] = \"1\"  # or 2 or 3 depending on what's free"
   ]
  },
  {
   "cell_type": "code",
   "execution_count": 2,
   "id": "1d92b7cf-9674-46d0-965e-63de266151ba",
   "metadata": {},
   "outputs": [
    {
     "name": "stderr",
     "output_type": "stream",
     "text": [
      "2025-03-26 14:24:33.370219: I tensorflow/core/util/port.cc:153] oneDNN custom operations are on. You may see slightly different numerical results due to floating-point round-off errors from different computation orders. To turn them off, set the environment variable `TF_ENABLE_ONEDNN_OPTS=0`.\n",
      "2025-03-26 14:24:33.382667: E external/local_xla/xla/stream_executor/cuda/cuda_fft.cc:467] Unable to register cuFFT factory: Attempting to register factory for plugin cuFFT when one has already been registered\n",
      "WARNING: All log messages before absl::InitializeLog() is called are written to STDERR\n",
      "E0000 00:00:1742999073.396849    6338 cuda_dnn.cc:8579] Unable to register cuDNN factory: Attempting to register factory for plugin cuDNN when one has already been registered\n",
      "E0000 00:00:1742999073.401198    6338 cuda_blas.cc:1407] Unable to register cuBLAS factory: Attempting to register factory for plugin cuBLAS when one has already been registered\n",
      "W0000 00:00:1742999073.412986    6338 computation_placer.cc:177] computation placer already registered. Please check linkage and avoid linking the same target more than once.\n",
      "W0000 00:00:1742999073.413000    6338 computation_placer.cc:177] computation placer already registered. Please check linkage and avoid linking the same target more than once.\n",
      "W0000 00:00:1742999073.413002    6338 computation_placer.cc:177] computation placer already registered. Please check linkage and avoid linking the same target more than once.\n",
      "W0000 00:00:1742999073.413004    6338 computation_placer.cc:177] computation placer already registered. Please check linkage and avoid linking the same target more than once.\n",
      "2025-03-26 14:24:33.416716: I tensorflow/core/platform/cpu_feature_guard.cc:210] This TensorFlow binary is optimized to use available CPU instructions in performance-critical operations.\n",
      "To enable the following instructions: AVX2 AVX512F AVX512_VNNI AVX512_BF16 FMA, in other operations, rebuild TensorFlow with the appropriate compiler flags.\n"
     ]
    }
   ],
   "source": [
    "import pandas as pd\n",
    "import numpy as np\n",
    "from sklearn.model_selection import train_test_split\n",
    "from sklearn.utils.class_weight import compute_class_weight\n",
    "import os\n",
    "from transformers import AutoTokenizer, BertForSequenceClassification, Trainer, TrainingArguments, AutoModelForSequenceClassification\n",
    "import torch\n",
    "from torch.utils.data import Dataset\n",
    "from sklearn.metrics import f1_score, accuracy_score, classification_report, confusion_matrix\n",
    "import matplotlib.pyplot as plt\n",
    "import seaborn as sns"
   ]
  },
  {
   "cell_type": "code",
   "execution_count": 3,
   "id": "ad16450a-7a0a-41f8-9c8d-aa34c330039e",
   "metadata": {},
   "outputs": [
    {
     "name": "stdout",
     "output_type": "stream",
     "text": [
      "Preprocessing complete!\n",
      "Train size: 348005\n",
      "Val size: 87002\n",
      "Label2ID: {'anger': 0, 'disgust': 1, 'fear': 2, 'happiness': 3, 'sadness': 4, 'surprise': 5}\n",
      "Class Weights: {0: 1.0786237207024592, 1: 41.42916666666667, 2: 1.4793866585046507, 3: 0.4313708719764187, 4: 0.560129342951968, 5: 3.7132415706359367}\n"
     ]
    }
   ],
   "source": [
    "# Load dataset\n",
    "df = pd.read_csv(\"final_combined_dataset_sentence&emotion_only.csv\")\n",
    "\n",
    "# Iteration 4: remove neutral\n",
    "df = df[df[\"emotion\"] != \"neutral\"]\n",
    "\n",
    "# Label mapping\n",
    "unique_emotions = df[\"emotion\"].unique()\n",
    "label2id = {label: idx for idx, label in enumerate(sorted(unique_emotions))}\n",
    "id2label = {idx: label for label, idx in label2id.items()}\n",
    "\n",
    "# Apply mapping\n",
    "df[\"label\"] = df[\"emotion\"].map(label2id)\n",
    "\n",
    "# Stratified split\n",
    "train_df, val_df = train_test_split(\n",
    "    df,\n",
    "    test_size=0.2,\n",
    "    stratify=df[\"label\"],\n",
    "    random_state=42\n",
    ")\n",
    "\n",
    "# Class weights\n",
    "class_weights = compute_class_weight(\n",
    "    class_weight=\"balanced\",\n",
    "    classes=np.unique(train_df[\"label\"]),\n",
    "    y=train_df[\"label\"]\n",
    ")\n",
    "class_weights_dict = {i: weight for i, weight in enumerate(class_weights)}\n",
    "\n",
    "# Print for verification\n",
    "print(\"Preprocessing complete!\")\n",
    "print(f\"Train size: {len(train_df)}\")\n",
    "print(f\"Val size: {len(val_df)}\")\n",
    "print(\"Label2ID:\", label2id)\n",
    "print(\"Class Weights:\", class_weights_dict)"
   ]
  },
  {
   "cell_type": "code",
   "execution_count": 4,
   "id": "8045acc1-4d7d-4922-8b50-ea996b12d48c",
   "metadata": {},
   "outputs": [
    {
     "name": "stdout",
     "output_type": "stream",
     "text": [
      "Tokenization complete. Ready for training.\n"
     ]
    }
   ],
   "source": [
    "# Load tokenizer\n",
    "tokenizer = AutoTokenizer.from_pretrained(\"bert-large-uncased\")\n",
    "\n",
    "# Tokenization function\n",
    "def tokenize_data(sentences, labels):\n",
    "    encodings = tokenizer(\n",
    "        sentences.tolist(),\n",
    "        padding=True,\n",
    "        truncation=True,\n",
    "        max_length=128,\n",
    "        return_tensors=\"pt\"\n",
    "    )\n",
    "    return encodings, torch.tensor(labels.tolist())\n",
    "\n",
    "# Tokenize train and validation data\n",
    "train_encodings, train_labels = tokenize_data(train_df[\"sentence\"], train_df[\"label\"])\n",
    "val_encodings, val_labels = tokenize_data(val_df[\"sentence\"], val_df[\"label\"])\n",
    "\n",
    "# Custom Dataset class\n",
    "class EmotionDataset(Dataset):\n",
    "    def __init__(self, encodings, labels):\n",
    "        self.encodings = encodings\n",
    "        self.labels = labels\n",
    "\n",
    "    def __getitem__(self, idx):\n",
    "        item = {key: val[idx] for key, val in self.encodings.items()}\n",
    "        item[\"labels\"] = self.labels[idx]\n",
    "        return item\n",
    "\n",
    "    def __len__(self):\n",
    "        return len(self.labels)\n",
    "\n",
    "# Create dataset objects\n",
    "train_dataset = EmotionDataset(train_encodings, train_labels)\n",
    "val_dataset = EmotionDataset(val_encodings, val_labels)\n",
    "\n",
    "print(\"Tokenization complete. Ready for training.\")\n"
   ]
  },
  {
   "cell_type": "code",
   "execution_count": 5,
   "id": "0b9b9262-feb8-487b-8afd-7c60102a684e",
   "metadata": {},
   "outputs": [
    {
     "name": "stderr",
     "output_type": "stream",
     "text": [
      "Some weights of BertForSequenceClassification were not initialized from the model checkpoint at bert-large-uncased and are newly initialized: ['classifier.bias', 'classifier.weight']\n",
      "You should probably TRAIN this model on a down-stream task to be able to use it for predictions and inference.\n",
      "/usr/local/lib/python3.11/dist-packages/transformers/training_args.py:1594: FutureWarning: `evaluation_strategy` is deprecated and will be removed in version 4.46 of 🤗 Transformers. Use `eval_strategy` instead\n",
      "  warnings.warn(\n"
     ]
    }
   ],
   "source": [
    "# Load model\n",
    "model = BertForSequenceClassification.from_pretrained(\n",
    "    \"bert-large-uncased\",\n",
    "    num_labels=6,\n",
    "    id2label=id2label,\n",
    "    label2id=label2id\n",
    ")\n",
    "\n",
    "# Move to GPU if available\n",
    "device = torch.device(\"cuda\" if torch.cuda.is_available() else \"cpu\")\n",
    "model.to(device)\n",
    "\n",
    "# Convert class weights to tensor\n",
    "weights = torch.tensor(list(class_weights_dict.values()), dtype=torch.float).to(device)\n",
    "loss_fn = torch.nn.CrossEntropyLoss(weight=weights)\n",
    "\n",
    "# Custom compute_metrics function\n",
    "def compute_metrics(pred):\n",
    "    labels = pred.label_ids\n",
    "    preds = pred.predictions.argmax(-1)\n",
    "    f1 = f1_score(labels, preds, average='macro')\n",
    "    acc = accuracy_score(labels, preds)\n",
    "    return {\"macro_f1\": f1, \"accuracy\": acc}\n",
    "\n",
    "training_args = TrainingArguments(\n",
    "    output_dir=\"checkpoints\",\n",
    "    evaluation_strategy=\"epoch\",\n",
    "    save_strategy=\"epoch\",\n",
    "    logging_strategy=\"epoch\",\n",
    "    load_best_model_at_end=True,\n",
    "    metric_for_best_model=\"macro_f1\",\n",
    "    greater_is_better=True,\n",
    "    save_total_limit=2,\n",
    "    num_train_epochs=5,\n",
    "    per_device_train_batch_size=32,\n",
    "    per_device_eval_batch_size=32,\n",
    "    learning_rate=2e-5,\n",
    "    weight_decay=0.01,\n",
    "    warmup_ratio=0.1,\n",
    "    report_to=\"none\",\n",
    "    fp16=True\n",
    ")\n",
    "\n",
    "\n",
    "\n",
    "\n",
    "# Trainer with custom loss function\n",
    "class CustomTrainer(Trainer):\n",
    "    def compute_loss(self, model, inputs, return_outputs=False, **kwargs):\n",
    "        labels = inputs.pop(\"labels\")\n",
    "        outputs = model(**inputs)\n",
    "        logits = outputs.logits\n",
    "        loss = loss_fn(logits, labels)\n",
    "        return (loss, outputs) if return_outputs else loss\n",
    "\n",
    "\n",
    "# Initialize trainer\n",
    "trainer = CustomTrainer(\n",
    "    model=model,\n",
    "    args=training_args,\n",
    "    train_dataset=train_dataset,\n",
    "    eval_dataset=val_dataset,\n",
    "    compute_metrics=compute_metrics,\n",
    ")"
   ]
  },
  {
   "cell_type": "code",
   "execution_count": 6,
   "id": "90d6c260-e95b-4e50-95be-9a90cdd8164e",
   "metadata": {},
   "outputs": [
    {
     "data": {
      "text/html": [
       "\n",
       "    <div>\n",
       "      \n",
       "      <progress value='54380' max='54380' style='width:300px; height:20px; vertical-align: middle;'></progress>\n",
       "      [54380/54380 3:13:59, Epoch 5/5]\n",
       "    </div>\n",
       "    <table border=\"1\" class=\"dataframe\">\n",
       "  <thead>\n",
       " <tr style=\"text-align: left;\">\n",
       "      <th>Epoch</th>\n",
       "      <th>Training Loss</th>\n",
       "      <th>Validation Loss</th>\n",
       "      <th>Macro F1</th>\n",
       "      <th>Accuracy</th>\n",
       "    </tr>\n",
       "  </thead>\n",
       "  <tbody>\n",
       "    <tr>\n",
       "      <td>1</td>\n",
       "      <td>0.518900</td>\n",
       "      <td>0.364432</td>\n",
       "      <td>0.784325</td>\n",
       "      <td>0.919600</td>\n",
       "    </tr>\n",
       "    <tr>\n",
       "      <td>2</td>\n",
       "      <td>0.333300</td>\n",
       "      <td>0.341597</td>\n",
       "      <td>0.785138</td>\n",
       "      <td>0.921450</td>\n",
       "    </tr>\n",
       "    <tr>\n",
       "      <td>3</td>\n",
       "      <td>0.272600</td>\n",
       "      <td>0.386707</td>\n",
       "      <td>0.790324</td>\n",
       "      <td>0.923864</td>\n",
       "    </tr>\n",
       "    <tr>\n",
       "      <td>4</td>\n",
       "      <td>0.201400</td>\n",
       "      <td>0.575000</td>\n",
       "      <td>0.783301</td>\n",
       "      <td>0.924347</td>\n",
       "    </tr>\n",
       "    <tr>\n",
       "      <td>5</td>\n",
       "      <td>0.136600</td>\n",
       "      <td>0.756599</td>\n",
       "      <td>0.783046</td>\n",
       "      <td>0.923427</td>\n",
       "    </tr>\n",
       "  </tbody>\n",
       "</table><p>"
      ],
      "text/plain": [
       "<IPython.core.display.HTML object>"
      ]
     },
     "metadata": {},
     "output_type": "display_data"
    },
    {
     "name": "stderr",
     "output_type": "stream",
     "text": [
      "IOPub message rate exceeded.\n",
      "The Jupyter server will temporarily stop sending output\n",
      "to the client in order to avoid crashing it.\n",
      "To change this limit, set the config variable\n",
      "`--ServerApp.iopub_msg_rate_limit`.\n",
      "\n",
      "Current values:\n",
      "ServerApp.iopub_msg_rate_limit=1000.0 (msgs/sec)\n",
      "ServerApp.rate_limit_window=3.0 (secs)\n",
      "\n",
      "IOPub message rate exceeded.\n",
      "The Jupyter server will temporarily stop sending output\n",
      "to the client in order to avoid crashing it.\n",
      "To change this limit, set the config variable\n",
      "`--ServerApp.iopub_msg_rate_limit`.\n",
      "\n",
      "Current values:\n",
      "ServerApp.iopub_msg_rate_limit=1000.0 (msgs/sec)\n",
      "ServerApp.rate_limit_window=3.0 (secs)\n",
      "\n",
      "IOPub message rate exceeded.\n",
      "The Jupyter server will temporarily stop sending output\n",
      "to the client in order to avoid crashing it.\n",
      "To change this limit, set the config variable\n",
      "`--ServerApp.iopub_msg_rate_limit`.\n",
      "\n",
      "Current values:\n",
      "ServerApp.iopub_msg_rate_limit=1000.0 (msgs/sec)\n",
      "ServerApp.rate_limit_window=3.0 (secs)\n",
      "\n"
     ]
    },
    {
     "data": {
      "text/plain": [
       "TrainOutput(global_step=54380, training_loss=0.29257751217919614, metrics={'train_runtime': 11640.3817, 'train_samples_per_second': 149.482, 'train_steps_per_second': 4.672, 'total_flos': 4.054014466094208e+17, 'train_loss': 0.29257751217919614, 'epoch': 5.0})"
      ]
     },
     "execution_count": 6,
     "metadata": {},
     "output_type": "execute_result"
    }
   ],
   "source": [
    "# Train the model\n",
    "trainer.train()"
   ]
  },
  {
   "cell_type": "code",
   "execution_count": 7,
   "id": "a34cf209-8417-4452-84fb-8432a5d7b5ca",
   "metadata": {},
   "outputs": [
    {
     "data": {
      "text/plain": [
       "('bert_large_4/tokenizer_config.json',\n",
       " 'bert_large_4/special_tokens_map.json',\n",
       " 'bert_large_4/vocab.txt',\n",
       " 'bert_large_4/added_tokens.json',\n",
       " 'bert_large_4/tokenizer.json')"
      ]
     },
     "execution_count": 7,
     "metadata": {},
     "output_type": "execute_result"
    }
   ],
   "source": [
    "trainer.save_model(\"bert_large_4\")\n",
    "tokenizer.save_pretrained(\"bert_large_4\")"
   ]
  },
  {
   "cell_type": "code",
   "execution_count": 3,
   "id": "c173f5b3-9134-48c4-9908-0f8983a78482",
   "metadata": {},
   "outputs": [
    {
     "data": {
      "text/html": [],
      "text/plain": [
       "<IPython.core.display.HTML object>"
      ]
     },
     "metadata": {},
     "output_type": "display_data"
    },
    {
     "name": "stdout",
     "output_type": "stream",
     "text": [
      "Classification Report:\n",
      "              precision    recall  f1-score   support\n",
      "\n",
      "       anger       0.61      0.49      0.54       217\n",
      "     disgust       0.00      0.00      0.00         2\n",
      "        fear       0.60      0.14      0.23        42\n",
      "   happiness       0.67      0.81      0.73       184\n",
      "     sadness       0.53      0.56      0.54       144\n",
      "    surprise       0.25      0.48      0.33        25\n",
      "\n",
      "    accuracy                           0.58       614\n",
      "   macro avg       0.44      0.41      0.40       614\n",
      "weighted avg       0.59      0.58      0.57       614\n",
      "\n"
     ]
    },
    {
     "data": {
      "image/png": "[encoded data removed]",
      "text/plain": [
       "<Figure size 800x600 with 2 Axes>"
      ]
     },
     "metadata": {},
     "output_type": "display_data"
    }
   ],
   "source": [
    "# Emotion mapping provided by teacher\n",
    "emotion_mapping = {\n",
    "    \"happiness\": [\n",
    "        \"joy\", \"optimism\", \"approval\", \"pride\", \"gratitude\", \"confidence\",\n",
    "        \"satisfaction\", \"hope\", \"love\", \"excitement\", \"caring\", \"relief\", \"admiration\",\n",
    "        \"amusement\", \"anticipation\", \"encouragement\", \"desire\", \"happiness\"\n",
    "    ],\n",
    "    \"sadness\": [\n",
    "        \"disappointment\", \"nostalgia\", \"remorse\", \"pain\", \"stress\", \"regret\",\n",
    "        \"resignation\", \"despair\", \"confusion\", \"uncertainty\", \"sadness\"\n",
    "    ],\n",
    "    \"anger\": [\n",
    "        \"anger\", \"annoyance\", \"disapproval\", \"frustration\", \"disbelief\", \"warning\",\n",
    "        \"rejection\"\n",
    "    ],\n",
    "    \"disgust\": [\"disgust\"],\n",
    "    \"fear\": [\n",
    "        \"fear\", \"nervousness\", \"worry\", \"anxiety\", \"doubt\", \"insecurity\", \"urgency\",\n",
    "        \"panic\"\n",
    "    ],\n",
    "    \"surprise\": [\"surprise\", \"realization\", \"shock\", \"amazement\", \"wonder\"],\n",
    "    \"neutral\": [\n",
    "        \"neutral\", \"mixed\", \"trust\", \"agreement\", \"instruction\", \"suggestion\",\n",
    "        \"request\", \"confirmation\", \"acceptance\", \"reassurance\", \"clarification\",\n",
    "        \"understanding\", \"certainty\"\n",
    "    ]\n",
    "}\n",
    "\n",
    "# Reverse the mapping for fast lookup\n",
    "reverse_mapping = {sub: main for main, subs in emotion_mapping.items() for sub in subs}\n",
    "\n",
    "# Load test data\n",
    "df = pd.read_excel(\"group 24_url1.xlsx\")\n",
    "\n",
    "# Apply mapping\n",
    "df[\"Mapped_Emotion\"] = df[\"Emotion\"].map(reverse_mapping)\n",
    "\n",
    "# Drop rows with unmapped emotions (should be none if clean)\n",
    "df = df.dropna(subset=[\"Mapped_Emotion\"])\n",
    "df = df[df[\"Mapped_Emotion\"] != \"neutral\"]\n",
    "\n",
    "# Define label2id and id2label\n",
    "core_emotions = ['anger', 'disgust', 'fear', 'happiness', 'sadness', 'surprise']\n",
    "label2id = {label: i for i, label in enumerate(core_emotions)}\n",
    "id2label = {i: label for label, i in label2id.items()}\n",
    "\n",
    "# Convert mapped emotion to numeric labels\n",
    "df[\"label\"] = df[\"Mapped_Emotion\"].map(label2id)\n",
    "\n",
    "# Tokenize\n",
    "tokenizer = AutoTokenizer.from_pretrained(\"bert_large_4\")\n",
    "encodings = tokenizer(\n",
    "    df[\"Translation\"].tolist(),\n",
    "    truncation=True,\n",
    "    padding=True,\n",
    "    max_length=128,\n",
    "    return_tensors=\"pt\"\n",
    ")\n",
    "\n",
    "# Dataset wrapper\n",
    "class EmotionTestDataset(torch.utils.data.Dataset):\n",
    "    def __init__(self, encodings, labels):\n",
    "        self.encodings = encodings\n",
    "        self.labels = torch.tensor(labels)\n",
    "\n",
    "    def __getitem__(self, idx):\n",
    "        item = {k: v[idx] for k, v in self.encodings.items()}\n",
    "        item[\"labels\"] = self.labels[idx]\n",
    "        return item\n",
    "\n",
    "    def __len__(self):\n",
    "        return len(self.labels)\n",
    "\n",
    "test_dataset = EmotionTestDataset(encodings, df[\"label\"].tolist())\n",
    "\n",
    "# Load trained model\n",
    "model = AutoModelForSequenceClassification.from_pretrained(\"bert_large_4\")\n",
    "\n",
    "# Predict\n",
    "trainer = Trainer(model=model)\n",
    "predictions = trainer.predict(test_dataset)\n",
    "y_pred = np.argmax(predictions.predictions, axis=1)\n",
    "y_true = df[\"label\"].tolist()\n",
    "\n",
    "# Evaluation\n",
    "print(\"Classification Report:\")\n",
    "print(classification_report(y_true, y_pred, target_names=core_emotions))\n",
    "\n",
    "# Confusion matrix\n",
    "cm = confusion_matrix(y_true, y_pred)\n",
    "plt.figure(figsize=(8, 6))\n",
    "sns.heatmap(cm, annot=True, fmt=\"d\", cmap=\"Blues\",\n",
    "            xticklabels=core_emotions,\n",
    "            yticklabels=core_emotions)\n",
    "plt.xlabel(\"Predicted\")\n",
    "plt.ylabel(\"True\")\n",
    "plt.title(\"Confusion Matrix\")\n",
    "plt.tight_layout()\n",
    "plt.show()"
   ]
  },
  {
   "cell_type": "code",
   "execution_count": 4,
   "id": "6d081afd-4bf3-4549-92b9-a31eddc254c1",
   "metadata": {},
   "outputs": [
    {
     "name": "stdout",
     "output_type": "stream",
     "text": [
      "F1-score: 0.3961\n"
     ]
    }
   ],
   "source": [
    "# Macro F1: unweighted mean across all classes\n",
    "macro_f1 = f1_score(y_true, y_pred, average=\"macro\")\n",
    "print(\"F1-score:\", round(macro_f1, 4))"
   ]
  },
  {
   "cell_type": "code",
   "execution_count": 7,
   "id": "574e09ff-2630-4585-b97b-143031643591",
   "metadata": {},
   "outputs": [
    {
     "name": "stdout",
     "output_type": "stream",
     "text": [
      "Weighted F1-score: 0.5678\n"
     ]
    }
   ],
   "source": [
    "weighted_f1 = f1_score(y_true, y_pred, average=\"weighted\")\n",
    "print(\"Weighted F1-score:\", round(weighted_f1, 4))\n"
   ]
  },
  {
   "cell_type": "code",
   "execution_count": 5,
   "id": "78d64191-4242-4e66-9380-0f38d08aa7a6",
   "metadata": {},
   "outputs": [
    {
     "data": {
      "image/png": "[encoded data removed]",
      "text/plain": [
       "<Figure size 1000x500 with 1 Axes>"
      ]
     },
     "metadata": {},
     "output_type": "display_data"
    }
   ],
   "source": [
    "from transformers import TrainerCallback\n",
    "import matplotlib.pyplot as plt\n",
    "import json\n",
    "import os\n",
    "\n",
    "# Load the training log file\n",
    "log_path = os.path.join(\"checkpoints/bert_large_4_128_noneutral\", \"trainer_state.json\")\n",
    "with open(log_path, \"r\") as f:\n",
    "    logs = json.load(f)\n",
    "\n",
    "# Extract log history\n",
    "history = logs[\"log_history\"]\n",
    "\n",
    "# Parse training and evaluation losses\n",
    "train_steps = []\n",
    "train_losses = []\n",
    "eval_steps = []\n",
    "eval_losses = []\n",
    "\n",
    "for entry in history:\n",
    "    if \"loss\" in entry and \"step\" in entry:\n",
    "        train_steps.append(entry[\"step\"])\n",
    "        train_losses.append(entry[\"loss\"])\n",
    "    elif \"eval_loss\" in entry:\n",
    "        eval_steps.append(entry[\"step\"])\n",
    "        eval_losses.append(entry[\"eval_loss\"])\n",
    "\n",
    "# Plotting\n",
    "plt.figure(figsize=(10, 5))\n",
    "plt.plot(train_steps, train_losses, label=\"Training Loss\")\n",
    "plt.plot(eval_steps, eval_losses, label=\"Validation Loss\", marker=\"o\")\n",
    "plt.xlabel(\"Step\")\n",
    "plt.ylabel(\"Loss\")\n",
    "plt.title(\"Training & Validation Loss Over Time\")\n",
    "plt.legend()\n",
    "plt.grid(True)\n",
    "plt.tight_layout()\n",
    "plt.show()"
   ]
  },
  {
   "cell_type": "code",
   "execution_count": 6,
   "id": "4963456c-5d30-4f33-a382-ead07a5071f2",
   "metadata": {},
   "outputs": [
    {
     "name": "stdout",
     "output_type": "stream",
     "text": [
      "False predictions (sample):\n",
      "                                            Translation true_label  \\\n",
      "78                            Look what she did to you.      anger   \n",
      "638                     You know very well what I mean.      anger   \n",
      "812                              While the dog is here.      anger   \n",
      "656                         that dogs are very soothing   surprise   \n",
      "759                     was raised from Liliana's word.    sadness   \n",
      "1014           Psychology turned out to be quite baked.  happiness   \n",
      "607                            Brazy, scum, scum, scum!      anger   \n",
      "515   She is used to receiving everything she wants it.      anger   \n",
      "20                In my opinion, this is a big mistake.      anger   \n",
      "616                   Now will I clean everything here?      anger   \n",
      "68                Okay, what do I think? Do I pound it?      anger   \n",
      "768                             What happened? Nothing.    sadness   \n",
      "247                                  He didn't show me.    sadness   \n",
      "738              I can't allow Nicky to suffer anymore.  happiness   \n",
      "690                    Velina falls into real euphoria.  happiness   \n",
      "742           Take the dog and my child is in hospital.      anger   \n",
      "872                                        I'm leaving.  happiness   \n",
      "17             Her mother worships and buys everything.      anger   \n",
      "805            You have to think a little about me too.      anger   \n",
      "372             I thought this time would be different,    sadness   \n",
      "409               Lilyana and Todor are called by phone   surprise   \n",
      "423                                 No shoes at a stop.    sadness   \n",
      "59    But I couldn't stand it when I saw what was go...      anger   \n",
      "733                 Another will continue to harass us.       fear   \n",
      "622                  I don't even think to talk to her.      anger   \n",
      "134                     If you men tract them a little.      anger   \n",
      "244             Where do we all have to comply with it.      anger   \n",
      "130                            It looked colored to me.    sadness   \n",
      "545   What's going on? Break our magazines a car and...    sadness   \n",
      "33    She must stop retreating and explain to Little...      anger   \n",
      "844                       is a very nasty postponement.    disgust   \n",
      "827                       No, please, just not the dog.       fear   \n",
      "526   My daughter is not a boat, she is a little ner...  happiness   \n",
      "87                           Okay, why are you looking?    sadness   \n",
      "721            Liliana is not at herself from worrying.       fear   \n",
      "363                 Can't you see your son what he did?      anger   \n",
      "765                                 Please don't leave.       fear   \n",
      "23    I prefer to be left without money than to figh...       fear   \n",
      "398   Now he just plays with us, she wants us to be ...      anger   \n",
      "350                                 And were you crazy?    sadness   \n",
      "330               I lose Theodore because he is the man       fear   \n",
      "537                            She poured my magazines.      anger   \n",
      "70    You can simply explain to her that there is al...  happiness   \n",
      "549   Look what, I'm tired of this work, and I don't...      anger   \n",
      "49    I don't know what to do, Velina. It became a v...      anger   \n",
      "847                         Neither will I forgive him.      anger   \n",
      "503             And he happens to Veli to the daughter.    sadness   \n",
      "219                Oh, sometimes it comes to me to beat      anger   \n",
      "351                                      Are you crazy?      anger   \n",
      "577        Some kind of tin to get him out of his skin.    sadness   \n",
      "\n",
      "     predicted_label  \n",
      "78           sadness  \n",
      "638        happiness  \n",
      "812        happiness  \n",
      "656        happiness  \n",
      "759        happiness  \n",
      "1014        surprise  \n",
      "607          disgust  \n",
      "515        happiness  \n",
      "20           sadness  \n",
      "616        happiness  \n",
      "68           sadness  \n",
      "768         surprise  \n",
      "247            anger  \n",
      "738            anger  \n",
      "690             fear  \n",
      "742        happiness  \n",
      "872          sadness  \n",
      "17         happiness  \n",
      "805        happiness  \n",
      "372        happiness  \n",
      "409        happiness  \n",
      "423            anger  \n",
      "59           sadness  \n",
      "733            anger  \n",
      "622          sadness  \n",
      "134        happiness  \n",
      "244          sadness  \n",
      "130        happiness  \n",
      "545         surprise  \n",
      "33          surprise  \n",
      "844            anger  \n",
      "827            anger  \n",
      "526             fear  \n",
      "87          surprise  \n",
      "721        happiness  \n",
      "363          sadness  \n",
      "765        happiness  \n",
      "23             anger  \n",
      "398        happiness  \n",
      "350         surprise  \n",
      "330          sadness  \n",
      "537        happiness  \n",
      "70             anger  \n",
      "549          sadness  \n",
      "49           sadness  \n",
      "847          sadness  \n",
      "503         surprise  \n",
      "219         surprise  \n",
      "351         surprise  \n",
      "577            anger  \n"
     ]
    }
   ],
   "source": [
    "# Reverse label mapping to get string labels\n",
    "id2label = {v: k for k, v in label2id.items()}\n",
    "\n",
    "# Add predictions to DataFrame\n",
    "df[\"true_label\"] = [id2label[i] for i in y_true]\n",
    "df[\"predicted_label\"] = [id2label[i] for i in y_pred]\n",
    "\n",
    "# Filter for mismatches\n",
    "false_predictions = df[df[\"true_label\"] != df[\"predicted_label\"]]\n",
    "\n",
    "# Show sample of incorrect predictions\n",
    "print(\"False predictions (sample):\")\n",
    "print(false_predictions[[\"Translation\", \"true_label\", \"predicted_label\"]].sample(50, random_state=42))\n"
   ]
  },
  {
   "cell_type": "code",
   "execution_count": 8,
   "id": "a26b5f7c-3670-4094-a54d-c260ff2093ad",
   "metadata": {},
   "outputs": [
    {
     "ename": "NameError",
     "evalue": "name 'label_names' is not defined",
     "output_type": "error",
     "traceback": [
      "\u001b[0;31m---------------------------------------------------------------------------\u001b[0m",
      "\u001b[0;31mNameError\u001b[0m                                 Traceback (most recent call last)",
      "Cell \u001b[0;32mIn[8], line 3\u001b[0m\n\u001b[1;32m      1\u001b[0m \u001b[38;5;28;01mfrom\u001b[39;00m \u001b[38;5;21;01msklearn\u001b[39;00m\u001b[38;5;21;01m.\u001b[39;00m\u001b[38;5;21;01mmetrics\u001b[39;00m \u001b[38;5;28;01mimport\u001b[39;00m classification_report\n\u001b[0;32m----> 3\u001b[0m \u001b[38;5;28mprint\u001b[39m(classification_report(y_true, y_pred, target_names\u001b[38;5;241m=\u001b[39m\u001b[43mlabel_names\u001b[49m))\n",
      "\u001b[0;31mNameError\u001b[0m: name 'label_names' is not defined"
     ]
    }
   ],
   "source": [
    "from sklearn.metrics import classification_report\n",
    "\n",
    "print(classification_report(y_true, y_pred, target_names=label_names))\n"
   ]
  }
 ],
 "metadata": {
  "kernelspec": {
   "display_name": "Python 3 (ipykernel)",
   "language": "python",
   "name": "python3"
  },
  "language_info": {
   "codemirror_mode": {
    "name": "ipython",
    "version": 3
   },
   "file_extension": ".py",
   "mimetype": "text/x-python",
   "name": "python",
   "nbconvert_exporter": "python",
   "pygments_lexer": "ipython3",
   "version": "3.11.0rc1"
  }
 },
 "nbformat": 4,
 "nbformat_minor": 5
}
