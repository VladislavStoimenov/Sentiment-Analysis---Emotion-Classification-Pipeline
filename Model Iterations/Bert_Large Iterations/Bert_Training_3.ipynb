{
 "cells": [
  {
   "cell_type": "markdown",
   "id": "f2d9bb11-5ad2-4c57-a122-68f3665b154f",
   "metadata": {},
   "source": [
    "# Bert large | 64 tokens | 2e-5 | 6 + neutral = Macro F1 - 0.26 / Weighted F1 - 0.34"
   ]
  },
  {
   "cell_type": "code",
   "execution_count": 1,
   "id": "28b5ee72-d12b-40a4-b633-f0a9a6dd33ed",
   "metadata": {},
   "outputs": [],
   "source": [
    "import os\n",
    "os.environ[\"CUDA_VISIBLE_DEVICES\"] = \"3\"  # or 2 or 3 depending on what's free"
   ]
  },
  {
   "cell_type": "code",
   "execution_count": 2,
   "id": "1d92b7cf-9674-46d0-965e-63de266151ba",
   "metadata": {},
   "outputs": [
    {
     "name": "stderr",
     "output_type": "stream",
     "text": [
      "2025-03-26 14:50:16.757438: I tensorflow/core/util/port.cc:153] oneDNN custom operations are on. You may see slightly different numerical results due to floating-point round-off errors from different computation orders. To turn them off, set the environment variable `TF_ENABLE_ONEDNN_OPTS=0`.\n",
      "2025-03-26 14:50:16.770372: E external/local_xla/xla/stream_executor/cuda/cuda_fft.cc:467] Unable to register cuFFT factory: Attempting to register factory for plugin cuFFT when one has already been registered\n",
      "WARNING: All log messages before absl::InitializeLog() is called are written to STDERR\n",
      "E0000 00:00:1743000616.785061    2781 cuda_dnn.cc:8579] Unable to register cuDNN factory: Attempting to register factory for plugin cuDNN when one has already been registered\n",
      "E0000 00:00:1743000616.789603    2781 cuda_blas.cc:1407] Unable to register cuBLAS factory: Attempting to register factory for plugin cuBLAS when one has already been registered\n",
      "W0000 00:00:1743000616.801613    2781 computation_placer.cc:177] computation placer already registered. Please check linkage and avoid linking the same target more than once.\n",
      "W0000 00:00:1743000616.801629    2781 computation_placer.cc:177] computation placer already registered. Please check linkage and avoid linking the same target more than once.\n",
      "W0000 00:00:1743000616.801631    2781 computation_placer.cc:177] computation placer already registered. Please check linkage and avoid linking the same target more than once.\n",
      "W0000 00:00:1743000616.801633    2781 computation_placer.cc:177] computation placer already registered. Please check linkage and avoid linking the same target more than once.\n",
      "2025-03-26 14:50:16.806117: I tensorflow/core/platform/cpu_feature_guard.cc:210] This TensorFlow binary is optimized to use available CPU instructions in performance-critical operations.\n",
      "To enable the following instructions: AVX2 AVX512F AVX512_VNNI AVX512_BF16 FMA, in other operations, rebuild TensorFlow with the appropriate compiler flags.\n"
     ]
    }
   ],
   "source": [
    "import pandas as pd\n",
    "import numpy as np\n",
    "from sklearn.model_selection import train_test_split\n",
    "from sklearn.utils.class_weight import compute_class_weight\n",
    "import os\n",
    "from transformers import AutoTokenizer, BertForSequenceClassification, Trainer, TrainingArguments, AutoModelForSequenceClassification\n",
    "import torch\n",
    "from torch.utils.data import Dataset\n",
    "from sklearn.metrics import f1_score, accuracy_score, classification_report, confusion_matrix\n",
    "import matplotlib.pyplot as plt\n",
    "import seaborn as sns"
   ]
  },
  {
   "cell_type": "code",
   "execution_count": 3,
   "id": "ad16450a-7a0a-41f8-9c8d-aa34c330039e",
   "metadata": {},
   "outputs": [
    {
     "name": "stdout",
     "output_type": "stream",
     "text": [
      "Preprocessing complete!\n",
      "Train size: 370583\n",
      "Val size: 92646\n",
      "Label2ID: {'anger': 0, 'disgust': 1, 'fear': 2, 'happiness': 3, 'neutral': 4, 'sadness': 5, 'surprise': 6}\n",
      "Class Weights: {0: 0.9845169243194274, 1: 37.81459183673469, 2: 1.3503144562421203, 3: 0.393735012468139, 4: 2.344779368032092, 5: 0.5112596796823587, 6: 3.3892719956100237}\n"
     ]
    }
   ],
   "source": [
    "# Load dataset\n",
    "df = pd.read_csv(\"final_combined_dataset_sentence&emotion_only.csv\")\n",
    "\n",
    "# Label mapping\n",
    "unique_emotions = df[\"emotion\"].unique()\n",
    "label2id = {label: idx for idx, label in enumerate(sorted(unique_emotions))}\n",
    "id2label = {idx: label for label, idx in label2id.items()}\n",
    "\n",
    "# Apply mapping\n",
    "df[\"label\"] = df[\"emotion\"].map(label2id)\n",
    "\n",
    "# Stratified split\n",
    "train_df, val_df = train_test_split(\n",
    "    df,\n",
    "    test_size=0.2,\n",
    "    stratify=df[\"label\"],\n",
    "    random_state=42\n",
    ")\n",
    "\n",
    "# Class weights\n",
    "class_weights = compute_class_weight(\n",
    "    class_weight=\"balanced\",\n",
    "    classes=np.unique(train_df[\"label\"]),\n",
    "    y=train_df[\"label\"]\n",
    ")\n",
    "class_weights_dict = {i: weight for i, weight in enumerate(class_weights)}\n",
    "\n",
    "# Print for verification\n",
    "print(\"Preprocessing complete!\")\n",
    "print(f\"Train size: {len(train_df)}\")\n",
    "print(f\"Val size: {len(val_df)}\")\n",
    "print(\"Label2ID:\", label2id)\n",
    "print(\"Class Weights:\", class_weights_dict)"
   ]
  },
  {
   "cell_type": "code",
   "execution_count": 4,
   "id": "8045acc1-4d7d-4922-8b50-ea996b12d48c",
   "metadata": {},
   "outputs": [
    {
     "name": "stdout",
     "output_type": "stream",
     "text": [
      "Tokenization complete. Ready for training.\n"
     ]
    }
   ],
   "source": [
    "# Load tokenizer\n",
    "tokenizer = AutoTokenizer.from_pretrained(\"bert-large-uncased\")\n",
    "\n",
    "# Tokenization function\n",
    "def tokenize_data(sentences, labels):\n",
    "    encodings = tokenizer(\n",
    "        sentences.tolist(),\n",
    "        padding=True,\n",
    "        truncation=True,\n",
    "        max_length=64,\n",
    "        return_tensors=\"pt\"\n",
    "    )\n",
    "    return encodings, torch.tensor(labels.tolist())\n",
    "\n",
    "# Tokenize train and validation data\n",
    "train_encodings, train_labels = tokenize_data(train_df[\"sentence\"], train_df[\"label\"])\n",
    "val_encodings, val_labels = tokenize_data(val_df[\"sentence\"], val_df[\"label\"])\n",
    "\n",
    "# Custom Dataset class\n",
    "class EmotionDataset(Dataset):\n",
    "    def __init__(self, encodings, labels):\n",
    "        self.encodings = encodings\n",
    "        self.labels = labels\n",
    "\n",
    "    def __getitem__(self, idx):\n",
    "        item = {key: val[idx] for key, val in self.encodings.items()}\n",
    "        item[\"labels\"] = self.labels[idx]\n",
    "        return item\n",
    "\n",
    "    def __len__(self):\n",
    "        return len(self.labels)\n",
    "\n",
    "# Create dataset objects\n",
    "train_dataset = EmotionDataset(train_encodings, train_labels)\n",
    "val_dataset = EmotionDataset(val_encodings, val_labels)\n",
    "\n",
    "print(\"Tokenization complete. Ready for training.\")\n"
   ]
  },
  {
   "cell_type": "code",
   "execution_count": 5,
   "id": "0b9b9262-feb8-487b-8afd-7c60102a684e",
   "metadata": {},
   "outputs": [
    {
     "name": "stderr",
     "output_type": "stream",
     "text": [
      "Some weights of BertForSequenceClassification were not initialized from the model checkpoint at bert-large-uncased and are newly initialized: ['classifier.bias', 'classifier.weight']\n",
      "You should probably TRAIN this model on a down-stream task to be able to use it for predictions and inference.\n",
      "/usr/local/lib/python3.11/dist-packages/transformers/training_args.py:1594: FutureWarning: `evaluation_strategy` is deprecated and will be removed in version 4.46 of 🤗 Transformers. Use `eval_strategy` instead\n",
      "  warnings.warn(\n"
     ]
    }
   ],
   "source": [
    "# Load model\n",
    "model = BertForSequenceClassification.from_pretrained(\n",
    "    \"bert-large-uncased\",\n",
    "    num_labels=7,\n",
    "    id2label=id2label,\n",
    "    label2id=label2id\n",
    ")\n",
    "\n",
    "# Move to GPU if available\n",
    "device = torch.device(\"cuda\" if torch.cuda.is_available() else \"cpu\")\n",
    "model.to(device)\n",
    "\n",
    "# Convert class weights to tensor\n",
    "weights = torch.tensor(list(class_weights_dict.values()), dtype=torch.float).to(device)\n",
    "loss_fn = torch.nn.CrossEntropyLoss(weight=weights)\n",
    "\n",
    "# Custom compute_metrics function\n",
    "def compute_metrics(pred):\n",
    "    labels = pred.label_ids\n",
    "    preds = pred.predictions.argmax(-1)\n",
    "    f1 = f1_score(labels, preds, average='macro')\n",
    "    acc = accuracy_score(labels, preds)\n",
    "    return {\"macro_f1\": f1, \"accuracy\": acc}\n",
    "\n",
    "training_args = TrainingArguments(\n",
    "    output_dir=\"checkpoints\",\n",
    "    evaluation_strategy=\"epoch\",\n",
    "    save_strategy=\"epoch\",\n",
    "    logging_strategy=\"epoch\",\n",
    "    load_best_model_at_end=True,\n",
    "    metric_for_best_model=\"macro_f1\",\n",
    "    greater_is_better=True,\n",
    "    save_total_limit=2,\n",
    "    num_train_epochs=5,\n",
    "    per_device_train_batch_size=32,\n",
    "    per_device_eval_batch_size=32,\n",
    "    learning_rate=2e-5,\n",
    "    weight_decay=0.01,\n",
    "    warmup_ratio=0.1,\n",
    "    report_to=\"none\",\n",
    "    fp16=True\n",
    ")\n",
    "\n",
    "\n",
    "\n",
    "\n",
    "# Trainer with custom loss function\n",
    "class CustomTrainer(Trainer):\n",
    "    def compute_loss(self, model, inputs, return_outputs=False, **kwargs):\n",
    "        labels = inputs.pop(\"labels\")\n",
    "        outputs = model(**inputs)\n",
    "        logits = outputs.logits\n",
    "        loss = loss_fn(logits, labels)\n",
    "        return (loss, outputs) if return_outputs else loss\n",
    "\n",
    "\n",
    "# Initialize trainer\n",
    "trainer = CustomTrainer(\n",
    "    model=model,\n",
    "    args=training_args,\n",
    "    train_dataset=train_dataset,\n",
    "    eval_dataset=val_dataset,\n",
    "    compute_metrics=compute_metrics,\n",
    ")"
   ]
  },
  {
   "cell_type": "code",
   "execution_count": 6,
   "id": "90d6c260-e95b-4e50-95be-9a90cdd8164e",
   "metadata": {},
   "outputs": [
    {
     "data": {
      "text/html": [
       "\n",
       "    <div>\n",
       "      \n",
       "      <progress value='57905' max='57905' style='width:300px; height:20px; vertical-align: middle;'></progress>\n",
       "      [57905/57905 2:30:21, Epoch 5/5]\n",
       "    </div>\n",
       "    <table border=\"1\" class=\"dataframe\">\n",
       "  <thead>\n",
       " <tr style=\"text-align: left;\">\n",
       "      <th>Epoch</th>\n",
       "      <th>Training Loss</th>\n",
       "      <th>Validation Loss</th>\n",
       "      <th>Macro F1</th>\n",
       "      <th>Accuracy</th>\n",
       "    </tr>\n",
       "  </thead>\n",
       "  <tbody>\n",
       "    <tr>\n",
       "      <td>1</td>\n",
       "      <td>0.652700</td>\n",
       "      <td>0.495799</td>\n",
       "      <td>0.752713</td>\n",
       "      <td>0.884431</td>\n",
       "    </tr>\n",
       "    <tr>\n",
       "      <td>2</td>\n",
       "      <td>0.458800</td>\n",
       "      <td>0.507449</td>\n",
       "      <td>0.747589</td>\n",
       "      <td>0.880567</td>\n",
       "    </tr>\n",
       "    <tr>\n",
       "      <td>3</td>\n",
       "      <td>0.376500</td>\n",
       "      <td>0.588815</td>\n",
       "      <td>0.744509</td>\n",
       "      <td>0.885716</td>\n",
       "    </tr>\n",
       "    <tr>\n",
       "      <td>4</td>\n",
       "      <td>0.282700</td>\n",
       "      <td>0.729515</td>\n",
       "      <td>0.739420</td>\n",
       "      <td>0.888630</td>\n",
       "    </tr>\n",
       "    <tr>\n",
       "      <td>5</td>\n",
       "      <td>0.203000</td>\n",
       "      <td>0.914732</td>\n",
       "      <td>0.736221</td>\n",
       "      <td>0.887691</td>\n",
       "    </tr>\n",
       "  </tbody>\n",
       "</table><p>"
      ],
      "text/plain": [
       "<IPython.core.display.HTML object>"
      ]
     },
     "metadata": {},
     "output_type": "display_data"
    },
    {
     "data": {
      "text/plain": [
       "TrainOutput(global_step=57905, training_loss=0.394735631604298, metrics={'train_runtime': 9024.4094, 'train_samples_per_second': 205.323, 'train_steps_per_second': 6.416, 'total_flos': 2.1585234679683264e+17, 'train_loss': 0.394735631604298, 'epoch': 5.0})"
      ]
     },
     "execution_count": 6,
     "metadata": {},
     "output_type": "execute_result"
    }
   ],
   "source": [
    "# Train the model\n",
    "trainer.train()"
   ]
  },
  {
   "cell_type": "code",
   "execution_count": 7,
   "id": "a34cf209-8417-4452-84fb-8432a5d7b5ca",
   "metadata": {},
   "outputs": [
    {
     "data": {
      "text/plain": [
       "('bert_large_3/tokenizer_config.json',\n",
       " 'bert_large_3/special_tokens_map.json',\n",
       " 'bert_large_3/vocab.txt',\n",
       " 'bert_large_3/added_tokens.json',\n",
       " 'bert_large_3/tokenizer.json')"
      ]
     },
     "execution_count": 7,
     "metadata": {},
     "output_type": "execute_result"
    }
   ],
   "source": [
    "trainer.save_model(\"bert_large_3\")\n",
    "tokenizer.save_pretrained(\"bert_large_3\")"
   ]
  },
  {
   "cell_type": "code",
   "execution_count": 3,
   "id": "c173f5b3-9134-48c4-9908-0f8983a78482",
   "metadata": {},
   "outputs": [
    {
     "data": {
      "text/html": [],
      "text/plain": [
       "<IPython.core.display.HTML object>"
      ]
     },
     "metadata": {},
     "output_type": "display_data"
    },
    {
     "name": "stdout",
     "output_type": "stream",
     "text": [
      "Classification Report:\n",
      "              precision    recall  f1-score   support\n",
      "\n",
      "       anger       0.67      0.12      0.20       217\n",
      "     disgust       0.20      0.50      0.29         2\n",
      "        fear       0.21      0.07      0.11        42\n",
      "   happiness       0.75      0.23      0.36       184\n",
      "     neutral       0.38      0.93      0.54       327\n",
      "     sadness       0.79      0.08      0.14       144\n",
      "    surprise       0.33      0.16      0.22        25\n",
      "\n",
      "    accuracy                           0.42       941\n",
      "   macro avg       0.48      0.30      0.26       941\n",
      "weighted avg       0.57      0.42      0.34       941\n",
      "\n"
     ]
    },
    {
     "data": {
      "image/png": "[encoded data removed]",
      "text/plain": [
       "<Figure size 800x600 with 2 Axes>"
      ]
     },
     "metadata": {},
     "output_type": "display_data"
    }
   ],
   "source": [
    "# Emotion mapping provided by teacher\n",
    "emotion_mapping = {\n",
    "    \"happiness\": [\n",
    "        \"joy\", \"optimism\", \"approval\", \"pride\", \"gratitude\", \"confidence\",\n",
    "        \"satisfaction\", \"hope\", \"love\", \"excitement\", \"caring\", \"relief\", \"admiration\",\n",
    "        \"amusement\", \"anticipation\", \"encouragement\", \"desire\", \"happiness\"\n",
    "    ],\n",
    "    \"sadness\": [\n",
    "        \"disappointment\", \"nostalgia\", \"remorse\", \"pain\", \"stress\", \"regret\",\n",
    "        \"resignation\", \"despair\", \"confusion\", \"uncertainty\", \"sadness\"\n",
    "    ],\n",
    "    \"anger\": [\n",
    "        \"anger\", \"annoyance\", \"disapproval\", \"frustration\", \"disbelief\", \"warning\",\n",
    "        \"rejection\"\n",
    "    ],\n",
    "    \"disgust\": [\"disgust\"],\n",
    "    \"fear\": [\n",
    "        \"fear\", \"nervousness\", \"worry\", \"anxiety\", \"doubt\", \"insecurity\", \"urgency\",\n",
    "        \"panic\"\n",
    "    ],\n",
    "    \"surprise\": [\"surprise\", \"realization\", \"shock\", \"amazement\", \"wonder\"],\n",
    "    \"neutral\": [\n",
    "        \"neutral\", \"mixed\", \"trust\", \"agreement\", \"instruction\", \"suggestion\",\n",
    "        \"request\", \"confirmation\", \"acceptance\", \"reassurance\", \"clarification\",\n",
    "        \"understanding\", \"certainty\"\n",
    "    ]\n",
    "}\n",
    "\n",
    "# Reverse the mapping for fast lookup\n",
    "reverse_mapping = {sub: main for main, subs in emotion_mapping.items() for sub in subs}\n",
    "\n",
    "# Load test data\n",
    "df = pd.read_excel(\"group 24_url1.xlsx\")\n",
    "\n",
    "# Apply mapping\n",
    "df[\"Mapped_Emotion\"] = df[\"Emotion\"].map(reverse_mapping)\n",
    "\n",
    "# Drop rows with unmapped emotions (should be none if clean)\n",
    "df = df.dropna(subset=[\"Mapped_Emotion\"])\n",
    "\n",
    "# Define label2id and id2label\n",
    "core_emotions = ['anger', 'disgust', 'fear', 'happiness', 'neutral', 'sadness', 'surprise']\n",
    "label2id = {label: i for i, label in enumerate(core_emotions)}\n",
    "id2label = {i: label for label, i in label2id.items()}\n",
    "\n",
    "# Convert mapped emotion to numeric labels\n",
    "df[\"label\"] = df[\"Mapped_Emotion\"].map(label2id)\n",
    "\n",
    "# Tokenize\n",
    "tokenizer = AutoTokenizer.from_pretrained(\"bert_large_3\")\n",
    "encodings = tokenizer(\n",
    "    df[\"Translation\"].tolist(),\n",
    "    truncation=True,\n",
    "    padding=True,\n",
    "    max_length=64,\n",
    "    return_tensors=\"pt\"\n",
    ")\n",
    "\n",
    "# Dataset wrapper\n",
    "class EmotionTestDataset(torch.utils.data.Dataset):\n",
    "    def __init__(self, encodings, labels):\n",
    "        self.encodings = encodings\n",
    "        self.labels = torch.tensor(labels)\n",
    "\n",
    "    def __getitem__(self, idx):\n",
    "        item = {k: v[idx] for k, v in self.encodings.items()}\n",
    "        item[\"labels\"] = self.labels[idx]\n",
    "        return item\n",
    "\n",
    "    def __len__(self):\n",
    "        return len(self.labels)\n",
    "\n",
    "test_dataset = EmotionTestDataset(encodings, df[\"label\"].tolist())\n",
    "\n",
    "# Load trained model\n",
    "model = AutoModelForSequenceClassification.from_pretrained(\"bert_large_3\")\n",
    "\n",
    "# Predict\n",
    "trainer = Trainer(model=model)\n",
    "predictions = trainer.predict(test_dataset)\n",
    "y_pred = np.argmax(predictions.predictions, axis=1)\n",
    "y_true = df[\"label\"].tolist()\n",
    "\n",
    "# Evaluation\n",
    "print(\"Classification Report:\")\n",
    "print(classification_report(y_true, y_pred, target_names=core_emotions))\n",
    "\n",
    "# Confusion matrix\n",
    "cm = confusion_matrix(y_true, y_pred)\n",
    "plt.figure(figsize=(8, 6))\n",
    "sns.heatmap(cm, annot=True, fmt=\"d\", cmap=\"Blues\",\n",
    "            xticklabels=core_emotions,\n",
    "            yticklabels=core_emotions)\n",
    "plt.xlabel(\"Predicted\")\n",
    "plt.ylabel(\"True\")\n",
    "plt.title(\"Confusion Matrix\")\n",
    "plt.tight_layout()\n",
    "plt.show()"
   ]
  },
  {
   "cell_type": "code",
   "execution_count": 3,
   "id": "6d081afd-4bf3-4549-92b9-a31eddc254c1",
   "metadata": {},
   "outputs": [
    {
     "name": "stdout",
     "output_type": "stream",
     "text": [
      "F1-score: 0.2637\n"
     ]
    }
   ],
   "source": [
    "# Macro F1: unweighted mean across all classes\n",
    "macro_f1 = f1_score(y_true, y_pred, average=\"macro\")\n",
    "print(\"F1-score:\", round(macro_f1, 4))"
   ]
  },
  {
   "cell_type": "code",
   "execution_count": 4,
   "id": "a70e4877-e46b-4015-b45b-29094d9e1b73",
   "metadata": {},
   "outputs": [
    {
     "name": "stdout",
     "output_type": "stream",
     "text": [
      "F1-score: 0.3359\n"
     ]
    }
   ],
   "source": [
    "# Macro F1: unweighted mean across all classes\n",
    "macro_f1 = f1_score(y_true, y_pred, average=\"weighted\")\n",
    "print(\"F1-score:\", round(macro_f1, 4))"
   ]
  },
  {
   "cell_type": "code",
   "execution_count": 1,
   "id": "78d64191-4242-4e66-9380-0f38d08aa7a6",
   "metadata": {},
   "outputs": [
    {
     "data": {
      "image/png": "[encoded data removed]",
      "text/plain": [
       "<Figure size 1000x500 with 1 Axes>"
      ]
     },
     "metadata": {},
     "output_type": "display_data"
    }
   ],
   "source": [
    "from transformers import TrainerCallback\n",
    "import matplotlib.pyplot as plt\n",
    "import json\n",
    "import os\n",
    "\n",
    "# Load the training log file\n",
    "log_path = os.path.join(\"checkpoints/checkpoint-57905\", \"trainer_state.json\")\n",
    "with open(log_path, \"r\") as f:\n",
    "    logs = json.load(f)\n",
    "\n",
    "# Extract log history\n",
    "history = logs[\"log_history\"]\n",
    "\n",
    "# Parse training and evaluation losses\n",
    "train_steps = []\n",
    "train_losses = []\n",
    "eval_steps = []\n",
    "eval_losses = []\n",
    "\n",
    "for entry in history:\n",
    "    if \"loss\" in entry and \"step\" in entry:\n",
    "        train_steps.append(entry[\"step\"])\n",
    "        train_losses.append(entry[\"loss\"])\n",
    "    elif \"eval_loss\" in entry:\n",
    "        eval_steps.append(entry[\"step\"])\n",
    "        eval_losses.append(entry[\"eval_loss\"])\n",
    "\n",
    "# Plotting\n",
    "plt.figure(figsize=(10, 5))\n",
    "plt.plot(train_steps, train_losses, label=\"Training Loss\")\n",
    "plt.plot(eval_steps, eval_losses, label=\"Validation Loss\", marker=\"o\")\n",
    "plt.xlabel(\"Step\")\n",
    "plt.ylabel(\"Loss\")\n",
    "plt.title(\"Training & Validation Loss Over Time\")\n",
    "plt.legend()\n",
    "plt.grid(True)\n",
    "plt.tight_layout()\n",
    "plt.show()"
   ]
  },
  {
   "cell_type": "code",
   "execution_count": 5,
   "id": "4963456c-5d30-4f33-a382-ead07a5071f2",
   "metadata": {},
   "outputs": [
    {
     "name": "stdout",
     "output_type": "stream",
     "text": [
      "False predictions (sample):\n",
      "                                            Translation true_label  \\\n",
      "351                                      Are you crazy?      anger   \n",
      "131                          I also thought it might be    neutral   \n",
      "860                           The fact is you are here.  happiness   \n",
      "184                              Do you seriously talk?   surprise   \n",
      "974                      Why do you get this right now?    sadness   \n",
      "1006                               She feels very good.    neutral   \n",
      "138                          Ok if there is any problem  happiness   \n",
      "643   But because my travel is worried, so I have to...       fear   \n",
      "220      This Nicholas. Only if I was a little stronger      anger   \n",
      "631                  The mood in the home is still bad.    sadness   \n",
      "330               I lose Theodore because he is the man       fear   \n",
      "15    Due to Velina's behavior, scandals between Lil...      anger   \n",
      "113                  Lilyana is forced to see a doctor.       fear   \n",
      "387   A silent, measure your fairy tales! Why did yo...      anger   \n",
      "501                       He treats them very terribly.    disgust   \n",
      "135                    You must not be that this injury    sadness   \n",
      "688              But I hope Nicky doesn't get anything.      anger   \n",
      "10    I was horrified to see what this girl affords....      anger   \n",
      "385                Mash, where do I know it's so crazy,      anger   \n",
      "811                       But Theo will never come back    sadness   \n",
      "718                  I hope my daughter appreciates it.    neutral   \n",
      "286   That it hurts a lot of root. And again I had t...      anger   \n",
      "842                            To give a dog to a child      anger   \n",
      "294                          has a major responsibility   surprise   \n",
      "134                     If you men tract them a little.      anger   \n",
      "1029  With great effort, mother and daughter manage ...  happiness   \n",
      "333             In the future, things will be arranged.  happiness   \n",
      "518   This bothers her and this is where the problem...      anger   \n",
      "933                        is to work together together  happiness   \n",
      "943                              It turns out that this   surprise   \n",
      "445               Verina, better listen to your mother.  happiness   \n",
      "863                   No, this is my mother's decision.      anger   \n",
      "566   Doesn't Lily do anything about it? Isn't it pu...      anger   \n",
      "112                                    The next morning    neutral   \n",
      "246                         MILK YOU'RE POOD TO HAPPEN.    sadness   \n",
      "117                        This is internal hemorrhage.       fear   \n",
      "3     Velina has a very difficult time to make a sta...    sadness   \n",
      "282                      Every time she does something.      anger   \n",
      "749   Even if I ever get used to it, I can't bother ...  happiness   \n",
      "778                              I was very ill because    sadness   \n",
      "356                                      What happened?    sadness   \n",
      "373                  But no. Verina always understands,      anger   \n",
      "611                                 Well, now too much.      anger   \n",
      "129                         The woman was very strange.    sadness   \n",
      "255                          Is it an unbearable child.      anger   \n",
      "694                                    by the surprise.    neutral   \n",
      "972                              Received the solution.  happiness   \n",
      "949                                  And I felt better.  happiness   \n",
      "504                     If you somewhat, I'm powerless.    sadness   \n",
      "957                         Ah, I want to tell you that       fear   \n",
      "\n",
      "     predicted_label  \n",
      "351         surprise  \n",
      "131         surprise  \n",
      "860          neutral  \n",
      "184          neutral  \n",
      "974          neutral  \n",
      "1006       happiness  \n",
      "138          neutral  \n",
      "643          neutral  \n",
      "220          neutral  \n",
      "631          disgust  \n",
      "330          neutral  \n",
      "15           neutral  \n",
      "113          neutral  \n",
      "387          neutral  \n",
      "501          neutral  \n",
      "135          neutral  \n",
      "688        happiness  \n",
      "10              fear  \n",
      "385          neutral  \n",
      "811          neutral  \n",
      "718        happiness  \n",
      "286          sadness  \n",
      "842        happiness  \n",
      "294          neutral  \n",
      "134          neutral  \n",
      "1029         neutral  \n",
      "333          neutral  \n",
      "518          neutral  \n",
      "933          neutral  \n",
      "943          neutral  \n",
      "445          neutral  \n",
      "863          neutral  \n",
      "566          neutral  \n",
      "112             fear  \n",
      "246          neutral  \n",
      "117          neutral  \n",
      "3            neutral  \n",
      "282          neutral  \n",
      "749          neutral  \n",
      "778             fear  \n",
      "356          neutral  \n",
      "373          neutral  \n",
      "611          neutral  \n",
      "129         surprise  \n",
      "255          neutral  \n",
      "694         surprise  \n",
      "972          neutral  \n",
      "949          neutral  \n",
      "504          neutral  \n",
      "957          neutral  \n"
     ]
    }
   ],
   "source": [
    "# Reverse label mapping to get string labels\n",
    "id2label = {v: k for k, v in label2id.items()}\n",
    "\n",
    "# Add predictions to DataFrame\n",
    "df[\"true_label\"] = [id2label[i] for i in y_true]\n",
    "df[\"predicted_label\"] = [id2label[i] for i in y_pred]\n",
    "\n",
    "# Filter for mismatches\n",
    "false_predictions = df[df[\"true_label\"] != df[\"predicted_label\"]]\n",
    "\n",
    "# Show sample of incorrect predictions\n",
    "print(\"False predictions (sample):\")\n",
    "print(false_predictions[[\"Translation\", \"true_label\", \"predicted_label\"]].sample(50, random_state=42))\n"
   ]
  },
  {
   "cell_type": "code",
   "execution_count": null,
   "id": "a26b5f7c-3670-4094-a54d-c260ff2093ad",
   "metadata": {},
   "outputs": [],
   "source": []
  }
 ],
 "metadata": {
  "kernelspec": {
   "display_name": "Python 3 (ipykernel)",
   "language": "python",
   "name": "python3"
  },
  "language_info": {
   "codemirror_mode": {
    "name": "ipython",
    "version": 3
   },
   "file_extension": ".py",
   "mimetype": "text/x-python",
   "name": "python",
   "nbconvert_exporter": "python",
   "pygments_lexer": "ipython3",
   "version": "3.11.0rc1"
  }
 },
 "nbformat": 4,
 "nbformat_minor": 5
}
