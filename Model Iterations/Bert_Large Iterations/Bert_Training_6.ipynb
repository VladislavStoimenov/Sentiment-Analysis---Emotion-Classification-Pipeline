{
 "cells": [
  {
   "cell_type": "markdown",
   "id": "74d22dd8-68f9-496a-9240-76163ce30565",
   "metadata": {},
   "source": [
    "# Bert large | 56 tokens | 1e-5 | 6 + neutral = Macro F1 - 0.44 / Weighted F1 - 0.48 | Custom Weights"
   ]
  },
  {
   "cell_type": "code",
   "execution_count": 1,
   "id": "28b5ee72-d12b-40a4-b633-f0a9a6dd33ed",
   "metadata": {},
   "outputs": [],
   "source": [
    "import os\n",
    "os.environ[\"CUDA_VISIBLE_DEVICES\"] = \"0\""
   ]
  },
  {
   "cell_type": "code",
   "execution_count": 2,
   "id": "1d92b7cf-9674-46d0-965e-63de266151ba",
   "metadata": {},
   "outputs": [
    {
     "name": "stderr",
     "output_type": "stream",
     "text": [
      "2025-03-26 18:42:13.177076: I tensorflow/core/util/port.cc:153] oneDNN custom operations are on. You may see slightly different numerical results due to floating-point round-off errors from different computation orders. To turn them off, set the environment variable `TF_ENABLE_ONEDNN_OPTS=0`.\n",
      "2025-03-26 18:42:13.208844: E external/local_xla/xla/stream_executor/cuda/cuda_fft.cc:467] Unable to register cuFFT factory: Attempting to register factory for plugin cuFFT when one has already been registered\n",
      "WARNING: All log messages before absl::InitializeLog() is called are written to STDERR\n",
      "E0000 00:00:1743014533.225638     407 cuda_dnn.cc:8579] Unable to register cuDNN factory: Attempting to register factory for plugin cuDNN when one has already been registered\n",
      "E0000 00:00:1743014533.231156     407 cuda_blas.cc:1407] Unable to register cuBLAS factory: Attempting to register factory for plugin cuBLAS when one has already been registered\n",
      "W0000 00:00:1743014533.258987     407 computation_placer.cc:177] computation placer already registered. Please check linkage and avoid linking the same target more than once.\n",
      "W0000 00:00:1743014533.259407     407 computation_placer.cc:177] computation placer already registered. Please check linkage and avoid linking the same target more than once.\n",
      "W0000 00:00:1743014533.259421     407 computation_placer.cc:177] computation placer already registered. Please check linkage and avoid linking the same target more than once.\n",
      "W0000 00:00:1743014533.259427     407 computation_placer.cc:177] computation placer already registered. Please check linkage and avoid linking the same target more than once.\n",
      "2025-03-26 18:42:13.267141: I tensorflow/core/platform/cpu_feature_guard.cc:210] This TensorFlow binary is optimized to use available CPU instructions in performance-critical operations.\n",
      "To enable the following instructions: AVX2 AVX512F AVX512_VNNI AVX512_BF16 FMA, in other operations, rebuild TensorFlow with the appropriate compiler flags.\n"
     ]
    }
   ],
   "source": [
    "import pandas as pd\n",
    "import numpy as np\n",
    "from sklearn.model_selection import train_test_split\n",
    "from sklearn.utils.class_weight import compute_class_weight\n",
    "import os\n",
    "from transformers import AutoTokenizer, BertForSequenceClassification, Trainer, TrainingArguments, AutoModelForSequenceClassification\n",
    "import torch\n",
    "from torch.utils.data import Dataset\n",
    "from sklearn.metrics import f1_score, accuracy_score, classification_report, confusion_matrix\n",
    "import matplotlib.pyplot as plt\n",
    "import seaborn as sns"
   ]
  },
  {
   "cell_type": "code",
   "execution_count": 3,
   "id": "ad16450a-7a0a-41f8-9c8d-aa34c330039e",
   "metadata": {},
   "outputs": [
    {
     "name": "stdout",
     "output_type": "stream",
     "text": [
      "Preprocessing complete!\n",
      "Train size: 370583\n",
      "Val size: 92646\n",
      "Label2ID: {'anger': 0, 'disgust': 1, 'fear': 2, 'happiness': 3, 'neutral': 4, 'sadness': 5, 'surprise': 6}\n",
      "Class Weights: {0: 2.0, 1: 10.0, 2: 2.5, 3: 1.0, 4: 0.7, 5: 2.5, 6: 3.0}\n"
     ]
    }
   ],
   "source": [
    "# Load dataset\n",
    "df = pd.read_csv(\"final_combined_dataset_sentence&emotion_only.csv\")\n",
    "\n",
    "# Label mapping\n",
    "unique_emotions = df[\"emotion\"].unique()\n",
    "label2id = {label: idx for idx, label in enumerate(sorted(unique_emotions))}\n",
    "id2label = {idx: label for label, idx in label2id.items()}\n",
    "\n",
    "# Apply mapping\n",
    "df[\"label\"] = df[\"emotion\"].map(label2id)\n",
    "\n",
    "# Stratified split\n",
    "train_df, val_df = train_test_split(\n",
    "    df,\n",
    "    test_size=0.2,\n",
    "    stratify=df[\"label\"],\n",
    "    random_state=42\n",
    ")\n",
    "\n",
    "# Manually defined class weights\n",
    "class_weights_dict = {\n",
    "    0: 2.0,  # anger\n",
    "    1: 10.0, # disgust\n",
    "    2: 2.5,  # fear\n",
    "    3: 1.0,  # happiness\n",
    "    4: 0.7,  # neutral\n",
    "    5: 2.5,  # sadness\n",
    "    6: 3.0   # surprise\n",
    "}\n",
    "\n",
    "# Print for verification\n",
    "print(\"Preprocessing complete!\")\n",
    "print(f\"Train size: {len(train_df)}\")\n",
    "print(f\"Val size: {len(val_df)}\")\n",
    "print(\"Label2ID:\", label2id)\n",
    "print(\"Class Weights:\", class_weights_dict)"
   ]
  },
  {
   "cell_type": "code",
   "execution_count": 4,
   "id": "8045acc1-4d7d-4922-8b50-ea996b12d48c",
   "metadata": {},
   "outputs": [
    {
     "name": "stdout",
     "output_type": "stream",
     "text": [
      "Tokenization complete. Ready for training.\n"
     ]
    }
   ],
   "source": [
    "# Load tokenizer\n",
    "tokenizer = AutoTokenizer.from_pretrained(\"bert-large-uncased\")\n",
    "\n",
    "# Tokenization function\n",
    "def tokenize_data(sentences, labels):\n",
    "    encodings = tokenizer(\n",
    "        sentences.tolist(),\n",
    "        padding=True,\n",
    "        truncation=True,\n",
    "        max_length=56,\n",
    "        return_tensors=\"pt\"\n",
    "    )\n",
    "    return encodings, torch.tensor(labels.tolist())\n",
    "\n",
    "# Tokenize train and validation data\n",
    "train_encodings, train_labels = tokenize_data(train_df[\"sentence\"], train_df[\"label\"])\n",
    "val_encodings, val_labels = tokenize_data(val_df[\"sentence\"], val_df[\"label\"])\n",
    "\n",
    "# Custom Dataset class\n",
    "class EmotionDataset(Dataset):\n",
    "    def __init__(self, encodings, labels):\n",
    "        self.encodings = encodings\n",
    "        self.labels = labels\n",
    "\n",
    "    def __getitem__(self, idx):\n",
    "        item = {key: val[idx] for key, val in self.encodings.items()}\n",
    "        item[\"labels\"] = self.labels[idx]\n",
    "        return item\n",
    "\n",
    "    def __len__(self):\n",
    "        return len(self.labels)\n",
    "\n",
    "# Create dataset objects\n",
    "train_dataset = EmotionDataset(train_encodings, train_labels)\n",
    "val_dataset = EmotionDataset(val_encodings, val_labels)\n",
    "\n",
    "print(\"Tokenization complete. Ready for training.\")"
   ]
  },
  {
   "cell_type": "code",
   "execution_count": 5,
   "id": "0b9b9262-feb8-487b-8afd-7c60102a684e",
   "metadata": {},
   "outputs": [
    {
     "name": "stderr",
     "output_type": "stream",
     "text": [
      "Some weights of BertForSequenceClassification were not initialized from the model checkpoint at bert-large-uncased and are newly initialized: ['classifier.bias', 'classifier.weight']\n",
      "You should probably TRAIN this model on a down-stream task to be able to use it for predictions and inference.\n"
     ]
    }
   ],
   "source": [
    "# Load model\n",
    "model = BertForSequenceClassification.from_pretrained(\n",
    "    \"bert-large-uncased\",\n",
    "    num_labels=7,\n",
    "    id2label=id2label,\n",
    "    label2id=label2id\n",
    ")\n",
    "\n",
    "# Move to GPU if available\n",
    "device = torch.device(\"cuda\" if torch.cuda.is_available() else \"cpu\")\n",
    "model.to(device)\n",
    "\n",
    "# Convert class weights to tensor\n",
    "weights = torch.tensor(list(class_weights_dict.values()), dtype=torch.float).to(device)\n",
    "loss_fn = torch.nn.CrossEntropyLoss(weight=weights)\n",
    "\n",
    "# Custom compute_metrics function\n",
    "def compute_metrics(pred):\n",
    "    labels = pred.label_ids\n",
    "    preds = pred.predictions.argmax(-1)\n",
    "    f1 = f1_score(labels, preds, average='macro')\n",
    "    acc = accuracy_score(labels, preds)\n",
    "    return {\"macro_f1\": f1, \"accuracy\": acc}\n",
    "\n",
    "training_args = TrainingArguments(\n",
    "    output_dir=\"checkpoints/bert_large_56\",\n",
    "    eval_strategy=\"epoch\",\n",
    "    save_strategy=\"epoch\",\n",
    "    logging_strategy=\"epoch\",\n",
    "    load_best_model_at_end=True,\n",
    "    metric_for_best_model=\"macro_f1\",\n",
    "    greater_is_better=True,\n",
    "    save_total_limit=2,\n",
    "    num_train_epochs=5,\n",
    "    per_device_train_batch_size=32,\n",
    "    per_device_eval_batch_size=32,\n",
    "    learning_rate=1e-5,\n",
    "    weight_decay=0.01,\n",
    "    warmup_ratio=0.1,\n",
    "    report_to=\"none\",\n",
    "    fp16=True\n",
    ")\n",
    "\n",
    "\n",
    "\n",
    "\n",
    "# Trainer with custom loss function\n",
    "class CustomTrainer(Trainer):\n",
    "    def compute_loss(self, model, inputs, return_outputs=False, **kwargs):\n",
    "        labels = inputs.pop(\"labels\")\n",
    "        outputs = model(**inputs)\n",
    "        logits = outputs.logits\n",
    "        loss = loss_fn(logits, labels)\n",
    "        return (loss, outputs) if return_outputs else loss\n",
    "\n",
    "\n",
    "# Initialize trainer\n",
    "trainer = CustomTrainer(\n",
    "    model=model,\n",
    "    args=training_args,\n",
    "    train_dataset=train_dataset,\n",
    "    eval_dataset=val_dataset,\n",
    "    compute_metrics=compute_metrics,\n",
    ")"
   ]
  },
  {
   "cell_type": "code",
   "execution_count": 6,
   "id": "90d6c260-e95b-4e50-95be-9a90cdd8164e",
   "metadata": {},
   "outputs": [
    {
     "data": {
      "text/html": [
       "\n",
       "    <div>\n",
       "      \n",
       "      <progress value='57905' max='57905' style='width:300px; height:20px; vertical-align: middle;'></progress>\n",
       "      [57905/57905 2:04:45, Epoch 5/5]\n",
       "    </div>\n",
       "    <table border=\"1\" class=\"dataframe\">\n",
       "  <thead>\n",
       " <tr style=\"text-align: left;\">\n",
       "      <th>Epoch</th>\n",
       "      <th>Training Loss</th>\n",
       "      <th>Validation Loss</th>\n",
       "      <th>Macro F1</th>\n",
       "      <th>Accuracy</th>\n",
       "    </tr>\n",
       "  </thead>\n",
       "  <tbody>\n",
       "    <tr>\n",
       "      <td>1</td>\n",
       "      <td>0.465500</td>\n",
       "      <td>0.266742</td>\n",
       "      <td>0.731053</td>\n",
       "      <td>0.885543</td>\n",
       "    </tr>\n",
       "    <tr>\n",
       "      <td>2</td>\n",
       "      <td>0.249700</td>\n",
       "      <td>0.269858</td>\n",
       "      <td>0.735475</td>\n",
       "      <td>0.888241</td>\n",
       "    </tr>\n",
       "    <tr>\n",
       "      <td>3</td>\n",
       "      <td>0.209400</td>\n",
       "      <td>0.296679</td>\n",
       "      <td>0.720908</td>\n",
       "      <td>0.886752</td>\n",
       "    </tr>\n",
       "    <tr>\n",
       "      <td>4</td>\n",
       "      <td>0.169200</td>\n",
       "      <td>0.335364</td>\n",
       "      <td>0.721964</td>\n",
       "      <td>0.882942</td>\n",
       "    </tr>\n",
       "    <tr>\n",
       "      <td>5</td>\n",
       "      <td>0.138400</td>\n",
       "      <td>0.394956</td>\n",
       "      <td>0.729980</td>\n",
       "      <td>0.886169</td>\n",
       "    </tr>\n",
       "  </tbody>\n",
       "</table><p>"
      ],
      "text/plain": [
       "<IPython.core.display.HTML object>"
      ]
     },
     "metadata": {},
     "output_type": "display_data"
    },
    {
     "data": {
      "text/plain": [
       "TrainOutput(global_step=57905, training_loss=0.24643301713879415, metrics={'train_runtime': 7487.0171, 'train_samples_per_second': 247.484, 'train_steps_per_second': 7.734, 'total_flos': 1.8887080344722854e+17, 'train_loss': 0.24643301713879415, 'epoch': 5.0})"
      ]
     },
     "execution_count": 6,
     "metadata": {},
     "output_type": "execute_result"
    }
   ],
   "source": [
    "# Train the model\n",
    "trainer.train()"
   ]
  },
  {
   "cell_type": "code",
   "execution_count": 7,
   "id": "a34cf209-8417-4452-84fb-8432a5d7b5ca",
   "metadata": {},
   "outputs": [
    {
     "data": {
      "text/plain": [
       "('bert_large_6/tokenizer_config.json',\n",
       " 'bert_large_6/special_tokens_map.json',\n",
       " 'bert_large_6/vocab.txt',\n",
       " 'bert_large_6/added_tokens.json',\n",
       " 'bert_large_6/tokenizer.json')"
      ]
     },
     "execution_count": 7,
     "metadata": {},
     "output_type": "execute_result"
    }
   ],
   "source": [
    "# Save the model and the tokenizer\n",
    "trainer.save_model(\"bert_large_6\")\n",
    "tokenizer.save_pretrained(\"bert_large_6\")"
   ]
  },
  {
   "cell_type": "code",
   "execution_count": 8,
   "id": "c173f5b3-9134-48c4-9908-0f8983a78482",
   "metadata": {},
   "outputs": [
    {
     "data": {
      "text/html": [],
      "text/plain": [
       "<IPython.core.display.HTML object>"
      ]
     },
     "metadata": {},
     "output_type": "display_data"
    },
    {
     "name": "stdout",
     "output_type": "stream",
     "text": [
      "Classification Report:\n",
      "              precision    recall  f1-score   support\n",
      "\n",
      "       anger       0.54      0.42      0.47       217\n",
      "     disgust       0.50      1.00      0.67         2\n",
      "        fear       0.45      0.12      0.19        42\n",
      "   happiness       0.56      0.49      0.52       184\n",
      "     neutral       0.48      0.67      0.56       327\n",
      "     sadness       0.47      0.34      0.40       144\n",
      "    surprise       0.24      0.32      0.27        25\n",
      "\n",
      "    accuracy                           0.50       941\n",
      "   macro avg       0.46      0.48      0.44       941\n",
      "weighted avg       0.50      0.50      0.48       941\n",
      "\n"
     ]
    },
    {
     "data": {
      "image/png": "[encoded data removed]",
      "text/plain": [
       "<Figure size 800x600 with 2 Axes>"
      ]
     },
     "metadata": {},
     "output_type": "display_data"
    }
   ],
   "source": [
    "# Emotion mapping provided by teacher\n",
    "emotion_mapping = {\n",
    "    \"happiness\": [\n",
    "        \"joy\", \"optimism\", \"approval\", \"pride\", \"gratitude\", \"confidence\",\n",
    "        \"satisfaction\", \"hope\", \"love\", \"excitement\", \"caring\", \"relief\", \"admiration\",\n",
    "        \"amusement\", \"anticipation\", \"encouragement\", \"desire\", \"happiness\"\n",
    "    ],\n",
    "    \"sadness\": [\n",
    "        \"disappointment\", \"nostalgia\", \"remorse\", \"pain\", \"stress\", \"regret\",\n",
    "        \"resignation\", \"despair\", \"confusion\", \"uncertainty\", \"sadness\"\n",
    "    ],\n",
    "    \"anger\": [\n",
    "        \"anger\", \"annoyance\", \"disapproval\", \"frustration\", \"disbelief\", \"warning\",\n",
    "        \"rejection\"\n",
    "    ],\n",
    "    \"disgust\": [\"disgust\"],\n",
    "    \"fear\": [\n",
    "        \"fear\", \"nervousness\", \"worry\", \"anxiety\", \"doubt\", \"insecurity\", \"urgency\",\n",
    "        \"panic\"\n",
    "    ],\n",
    "    \"surprise\": [\"surprise\", \"realization\", \"shock\", \"amazement\", \"wonder\"],\n",
    "    \"neutral\": [\n",
    "        \"neutral\", \"mixed\", \"trust\", \"agreement\", \"instruction\", \"suggestion\",\n",
    "        \"request\", \"confirmation\", \"acceptance\", \"reassurance\", \"clarification\",\n",
    "        \"understanding\", \"certainty\"\n",
    "    ]\n",
    "}\n",
    "\n",
    "# Reverse the mapping for fast lookup\n",
    "reverse_mapping = {sub: main for main, subs in emotion_mapping.items() for sub in subs}\n",
    "\n",
    "# Load test data\n",
    "df = pd.read_excel(\"group 24_url1.xlsx\")\n",
    "\n",
    "# Apply mapping\n",
    "df[\"Mapped_Emotion\"] = df[\"Emotion\"].map(reverse_mapping)\n",
    "\n",
    "# Drop rows with unmapped emotions (should be none if clean)\n",
    "df = df.dropna(subset=[\"Mapped_Emotion\"])\n",
    "\n",
    "# Define label2id and id2label\n",
    "core_emotions = ['anger', 'disgust', 'fear', 'happiness', 'neutral', 'sadness', 'surprise']\n",
    "label2id = {label: i for i, label in enumerate(core_emotions)}\n",
    "id2label = {i: label for label, i in label2id.items()}\n",
    "\n",
    "# Convert mapped emotion to numeric labels\n",
    "df[\"label\"] = df[\"Mapped_Emotion\"].map(label2id)\n",
    "\n",
    "# Tokenize\n",
    "tokenizer = AutoTokenizer.from_pretrained(\"bert_large_6\")\n",
    "encodings = tokenizer(\n",
    "    df[\"Translation\"].tolist(),\n",
    "    truncation=True,\n",
    "    padding=True,\n",
    "    max_length=56,\n",
    "    return_tensors=\"pt\"\n",
    ")\n",
    "\n",
    "# Dataset wrapper\n",
    "class EmotionTestDataset(torch.utils.data.Dataset):\n",
    "    def __init__(self, encodings, labels):\n",
    "        self.encodings = encodings\n",
    "        self.labels = torch.tensor(labels)\n",
    "\n",
    "    def __getitem__(self, idx):\n",
    "        item = {k: v[idx] for k, v in self.encodings.items()}\n",
    "        item[\"labels\"] = self.labels[idx]\n",
    "        return item\n",
    "\n",
    "    def __len__(self):\n",
    "        return len(self.labels)\n",
    "\n",
    "test_dataset = EmotionTestDataset(encodings, df[\"label\"].tolist())\n",
    "\n",
    "# Load trained model\n",
    "model = AutoModelForSequenceClassification.from_pretrained(\"bert_large_6\")\n",
    "\n",
    "# Predict\n",
    "trainer = Trainer(model=model)\n",
    "predictions = trainer.predict(test_dataset)\n",
    "y_pred = np.argmax(predictions.predictions, axis=1)\n",
    "y_true = df[\"label\"].tolist()\n",
    "\n",
    "# Evaluation\n",
    "print(\"Classification Report:\")\n",
    "print(classification_report(y_true, y_pred, target_names=core_emotions))\n",
    "\n",
    "# Confusion matrix\n",
    "cm = confusion_matrix(y_true, y_pred)\n",
    "plt.figure(figsize=(8, 6))\n",
    "sns.heatmap(cm, annot=True, fmt=\"d\", cmap=\"Blues\",\n",
    "            xticklabels=core_emotions,\n",
    "            yticklabels=core_emotions)\n",
    "plt.xlabel(\"Predicted\")\n",
    "plt.ylabel(\"True\")\n",
    "plt.title(\"Confusion Matrix\")\n",
    "plt.tight_layout()\n",
    "plt.show()"
   ]
  },
  {
   "cell_type": "code",
   "execution_count": 9,
   "id": "6d081afd-4bf3-4549-92b9-a31eddc254c1",
   "metadata": {},
   "outputs": [
    {
     "name": "stdout",
     "output_type": "stream",
     "text": [
      "F1-score: 0.44\n"
     ]
    }
   ],
   "source": [
    "# Macro F1: unweighted mean across all classes\n",
    "macro_f1 = f1_score(y_true, y_pred, average=\"macro\")\n",
    "print(\"F1-score:\", round(macro_f1, 4))"
   ]
  },
  {
   "cell_type": "code",
   "execution_count": 10,
   "id": "f5f37eeb-e512-4147-a521-79108fe42006",
   "metadata": {},
   "outputs": [
    {
     "name": "stdout",
     "output_type": "stream",
     "text": [
      "F1-score: 0.4841\n"
     ]
    }
   ],
   "source": [
    "# Macro F1: unweighted mean across all classes\n",
    "macro_f1 = f1_score(y_true, y_pred, average=\"weighted\")\n",
    "print(\"F1-score:\", round(macro_f1, 4))"
   ]
  },
  {
   "cell_type": "code",
   "execution_count": 13,
   "id": "78d64191-4242-4e66-9380-0f38d08aa7a6",
   "metadata": {},
   "outputs": [
    {
     "data": {
      "image/png": "[encoded data removed]",
      "text/plain": [
       "<Figure size 1000x500 with 1 Axes>"
      ]
     },
     "metadata": {},
     "output_type": "display_data"
    }
   ],
   "source": [
    "from transformers import TrainerCallback\n",
    "import matplotlib.pyplot as plt\n",
    "import json\n",
    "import os\n",
    "\n",
    "# Load the training log file\n",
    "log_path = os.path.join(\"checkpoints/bert_large_56/checkpoint-57905\", \"trainer_state.json\")\n",
    "with open(log_path, \"r\") as f:\n",
    "    logs = json.load(f)\n",
    "\n",
    "# Extract log history\n",
    "history = logs[\"log_history\"]\n",
    "\n",
    "# Parse training and evaluation losses\n",
    "train_steps = []\n",
    "train_losses = []\n",
    "eval_steps = []\n",
    "eval_losses = []\n",
    "\n",
    "for entry in history:\n",
    "    if \"loss\" in entry and \"step\" in entry:\n",
    "        train_steps.append(entry[\"step\"])\n",
    "        train_losses.append(entry[\"loss\"])\n",
    "    elif \"eval_loss\" in entry:\n",
    "        eval_steps.append(entry[\"step\"])\n",
    "        eval_losses.append(entry[\"eval_loss\"])\n",
    "\n",
    "# Plotting\n",
    "plt.figure(figsize=(10, 5))\n",
    "plt.plot(train_steps, train_losses, label=\"Training Loss\")\n",
    "plt.plot(eval_steps, eval_losses, label=\"Validation Loss\", marker=\"o\")\n",
    "plt.xlabel(\"Step\")\n",
    "plt.ylabel(\"Loss\")\n",
    "plt.title(\"Training & Validation Loss Over Time\")\n",
    "plt.legend()\n",
    "plt.grid(True)\n",
    "plt.tight_layout()\n",
    "plt.show()"
   ]
  },
  {
   "cell_type": "code",
   "execution_count": 14,
   "id": "4963456c-5d30-4f33-a382-ead07a5071f2",
   "metadata": {},
   "outputs": [
    {
     "name": "stdout",
     "output_type": "stream",
     "text": [
      "False predictions (sample):\n",
      "                                            Translation true_label  \\\n",
      "783                   that he crucified a good but thus    sadness   \n",
      "876                                She thinks me crazy.      anger   \n",
      "15    Due to Velina's behavior, scandals between Lil...      anger   \n",
      "139                                    You can tell me.  happiness   \n",
      "740                                     What do I mean?    sadness   \n",
      "63     Lily, I think Velina is completely on your head.      anger   \n",
      "155                                  I only missed that    neutral   \n",
      "946                               Still, I'm not young.    neutral   \n",
      "239                But there is no way to do because of      anger   \n",
      "178                 Leave, I want to play with the dog.    neutral   \n",
      "152                               with quite dangerous.       fear   \n",
      "540   Don't touch me! Don't touch me! Things! Don't ...       fear   \n",
      "262                              And I stayed with her.  happiness   \n",
      "527   The very next day, another scandal erupts in t...      anger   \n",
      "670                        It will not make an allergy.  happiness   \n",
      "593                                    What other gift?    sadness   \n",
      "1026  Something that almost ruins the relationship w...       fear   \n",
      "212   Velina, I'm not up to you now, please, you kno...      anger   \n",
      "606               This is my most forthcoming birthday.    neutral   \n",
      "899                Things will be allowed to be calmly.    neutral   \n",
      "161                         How to educate my daughter.  happiness   \n",
      "1     Ever since Velina's father abandoned her famil...    sadness   \n",
      "525   He didn't sit on a psychologist. She Karina ma...      anger   \n",
      "18    Even the last times she had raised rags for 20...      anger   \n",
      "776                       I wish you all well. Bye bye.    neutral   \n",
      "54                          This girl did a missed job.    sadness   \n",
      "915                 and my mother didn't turn me at all    sadness   \n",
      "124                          Yes, yes, and there I hit.    neutral   \n",
      "199                      We were better with my father.    neutral   \n",
      "260                However, she wanted to stay with her      anger   \n",
      "1004     It doesn't matter that we don't live together.    neutral   \n",
      "1009              However, I already know how to react.    neutral   \n",
      "897     You will wait in the hallway if you see better.  happiness   \n",
      "156                       and doctors to give me advice    neutral   \n",
      "368                        How can I blame my daughter?    sadness   \n",
      "27    The situation in the family becomes crazy with...      anger   \n",
      "875                        Hey, Micha, what bothers me?    sadness   \n",
      "570                              Ok, and what can I do?    sadness   \n",
      "857                           admits that he needs help   surprise   \n",
      "71    And now she has the nerve, the whole atmospher...      anger   \n",
      "286   That it hurts a lot of root. And again I had t...      anger   \n",
      "343           Oh, haven't you turned it off this phone?      anger   \n",
      "136                                  is a dropping out?    sadness   \n",
      "103   Lily does not behave like a parent, but behave...    sadness   \n",
      "515   She is used to receiving everything she wants it.      anger   \n",
      "853                  Lilyana manages to convince Velina  happiness   \n",
      "705         If some allergy happens, we will return it.    neutral   \n",
      "933                        is to work together together  happiness   \n",
      "620                             I could barely hold on.       fear   \n",
      "143               He wanted to make them a few ancient.    sadness   \n",
      "\n",
      "     predicted_label  \n",
      "783            anger  \n",
      "876          neutral  \n",
      "15           neutral  \n",
      "139          neutral  \n",
      "740          neutral  \n",
      "63           neutral  \n",
      "155         surprise  \n",
      "946            anger  \n",
      "239          sadness  \n",
      "178        happiness  \n",
      "152          neutral  \n",
      "540            anger  \n",
      "262          neutral  \n",
      "527          neutral  \n",
      "670            anger  \n",
      "593          neutral  \n",
      "1026         neutral  \n",
      "212          sadness  \n",
      "606        happiness  \n",
      "899        happiness  \n",
      "161          neutral  \n",
      "1            neutral  \n",
      "525          neutral  \n",
      "18           neutral  \n",
      "776        happiness  \n",
      "54           neutral  \n",
      "915            anger  \n",
      "124        happiness  \n",
      "199        happiness  \n",
      "260          neutral  \n",
      "1004           anger  \n",
      "1009        surprise  \n",
      "897          neutral  \n",
      "156        happiness  \n",
      "368          neutral  \n",
      "27           neutral  \n",
      "875          neutral  \n",
      "570          neutral  \n",
      "857          neutral  \n",
      "71           neutral  \n",
      "286          sadness  \n",
      "343         surprise  \n",
      "136          neutral  \n",
      "103          neutral  \n",
      "515        happiness  \n",
      "853          neutral  \n",
      "705        happiness  \n",
      "933          neutral  \n",
      "620          sadness  \n",
      "143          neutral  \n"
     ]
    }
   ],
   "source": [
    "# Reverse label mapping to get string labels\n",
    "id2label = {v: k for k, v in label2id.items()}\n",
    "\n",
    "# Add predictions to DataFrame\n",
    "df[\"true_label\"] = [id2label[i] for i in y_true]\n",
    "df[\"predicted_label\"] = [id2label[i] for i in y_pred]\n",
    "\n",
    "# Filter for mismatches\n",
    "false_predictions = df[df[\"true_label\"] != df[\"predicted_label\"]]\n",
    "\n",
    "# Show sample of incorrect predictions\n",
    "print(\"False predictions (sample):\")\n",
    "print(false_predictions[[\"Translation\", \"true_label\", \"predicted_label\"]].sample(50, random_state=42))\n"
   ]
  },
  {
   "cell_type": "code",
   "execution_count": null,
   "id": "d342e234-48dc-4c8e-bafd-6ffe9bf53afd",
   "metadata": {},
   "outputs": [],
   "source": []
  }
 ],
 "metadata": {
  "kernelspec": {
   "display_name": "Python 3 (ipykernel)",
   "language": "python",
   "name": "python3"
  },
  "language_info": {
   "codemirror_mode": {
    "name": "ipython",
    "version": 3
   },
   "file_extension": ".py",
   "mimetype": "text/x-python",
   "name": "python",
   "nbconvert_exporter": "python",
   "pygments_lexer": "ipython3",
   "version": "3.11.0rc1"
  }
 },
 "nbformat": 4,
 "nbformat_minor": 5
}
