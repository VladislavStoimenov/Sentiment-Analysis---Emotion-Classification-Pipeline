{
 "cells": [
  {
   "cell_type": "markdown",
   "id": "8c158371-6664-4c7f-be14-346b9ebad622",
   "metadata": {},
   "source": [
    "# Bert large | 56 tokens | 1e-5 | 6 no neutral = Macro F1 - 0.50 / Weighted F1 - 0.60"
   ]
  },
  {
   "cell_type": "code",
   "execution_count": 1,
   "id": "28b5ee72-d12b-40a4-b633-f0a9a6dd33ed",
   "metadata": {},
   "outputs": [],
   "source": [
    "import os\n",
    "os.environ[\"CUDA_VISIBLE_DEVICES\"] = \"1\""
   ]
  },
  {
   "cell_type": "code",
   "execution_count": 4,
   "id": "1d92b7cf-9674-46d0-965e-63de266151ba",
   "metadata": {},
   "outputs": [
    {
     "name": "stderr",
     "output_type": "stream",
     "text": [
      "2025-03-29 13:10:33.661103: I tensorflow/core/util/port.cc:153] oneDNN custom operations are on. You may see slightly different numerical results due to floating-point round-off errors from different computation orders. To turn them off, set the environment variable `TF_ENABLE_ONEDNN_OPTS=0`.\n",
      "2025-03-29 13:10:33.675175: E external/local_xla/xla/stream_executor/cuda/cuda_fft.cc:467] Unable to register cuFFT factory: Attempting to register factory for plugin cuFFT when one has already been registered\n",
      "WARNING: All log messages before absl::InitializeLog() is called are written to STDERR\n",
      "E0000 00:00:1743253833.690284    3660 cuda_dnn.cc:8579] Unable to register cuDNN factory: Attempting to register factory for plugin cuDNN when one has already been registered\n",
      "E0000 00:00:1743253833.694885    3660 cuda_blas.cc:1407] Unable to register cuBLAS factory: Attempting to register factory for plugin cuBLAS when one has already been registered\n",
      "W0000 00:00:1743253833.708032    3660 computation_placer.cc:177] computation placer already registered. Please check linkage and avoid linking the same target more than once.\n",
      "W0000 00:00:1743253833.708046    3660 computation_placer.cc:177] computation placer already registered. Please check linkage and avoid linking the same target more than once.\n",
      "W0000 00:00:1743253833.708048    3660 computation_placer.cc:177] computation placer already registered. Please check linkage and avoid linking the same target more than once.\n",
      "W0000 00:00:1743253833.708050    3660 computation_placer.cc:177] computation placer already registered. Please check linkage and avoid linking the same target more than once.\n",
      "2025-03-29 13:10:33.712265: I tensorflow/core/platform/cpu_feature_guard.cc:210] This TensorFlow binary is optimized to use available CPU instructions in performance-critical operations.\n",
      "To enable the following instructions: AVX2 AVX512F AVX512_VNNI AVX512_BF16 FMA, in other operations, rebuild TensorFlow with the appropriate compiler flags.\n"
     ]
    }
   ],
   "source": [
    "import pandas as pd\n",
    "import numpy as np\n",
    "from sklearn.model_selection import train_test_split\n",
    "from sklearn.utils.class_weight import compute_class_weight\n",
    "import os\n",
    "from transformers import AutoTokenizer, BertForSequenceClassification, Trainer, TrainingArguments, AutoModelForSequenceClassification\n",
    "import torch\n",
    "from torch.utils.data import Dataset\n",
    "from sklearn.metrics import f1_score, accuracy_score, classification_report, confusion_matrix\n",
    "import matplotlib.pyplot as plt\n",
    "import seaborn as sns"
   ]
  },
  {
   "cell_type": "code",
   "execution_count": 3,
   "id": "ad16450a-7a0a-41f8-9c8d-aa34c330039e",
   "metadata": {},
   "outputs": [
    {
     "name": "stdout",
     "output_type": "stream",
     "text": [
      "Preprocessing complete!\n",
      "Train size: 348005\n",
      "Val size: 87002\n",
      "Label2ID: {'anger': 0, 'disgust': 1, 'fear': 2, 'happiness': 3, 'sadness': 4, 'surprise': 5}\n",
      "Class Weights: {0: 1.0786237207024592, 1: 41.42916666666667, 2: 1.4793866585046507, 3: 0.4313708719764187, 4: 0.560129342951968, 5: 3.7132415706359367}\n"
     ]
    }
   ],
   "source": [
    "# Load dataset\n",
    "df = pd.read_csv(\"final_combined_dataset_sentence&emotion_only.csv\")\n",
    "\n",
    "# Iteration 4: remove neutral\n",
    "df = df[df[\"emotion\"] != \"neutral\"]\n",
    "\n",
    "# Label mapping\n",
    "unique_emotions = df[\"emotion\"].unique()\n",
    "label2id = {label: idx for idx, label in enumerate(sorted(unique_emotions))}\n",
    "id2label = {idx: label for label, idx in label2id.items()}\n",
    "\n",
    "# Apply mapping\n",
    "df[\"label\"] = df[\"emotion\"].map(label2id)\n",
    "\n",
    "# Stratified split\n",
    "train_df, val_df = train_test_split(\n",
    "    df,\n",
    "    test_size=0.2,\n",
    "    stratify=df[\"label\"],\n",
    "    random_state=42\n",
    ")\n",
    "\n",
    "# Class weights\n",
    "class_weights = compute_class_weight(\n",
    "    class_weight=\"balanced\",\n",
    "    classes=np.unique(train_df[\"label\"]),\n",
    "    y=train_df[\"label\"]\n",
    ")\n",
    "class_weights_dict = {i: weight for i, weight in enumerate(class_weights)}\n",
    "\n",
    "# Print for verification\n",
    "print(\"Preprocessing complete!\")\n",
    "print(f\"Train size: {len(train_df)}\")\n",
    "print(f\"Val size: {len(val_df)}\")\n",
    "print(\"Label2ID:\", label2id)\n",
    "print(\"Class Weights:\", class_weights_dict)"
   ]
  },
  {
   "cell_type": "code",
   "execution_count": 4,
   "id": "8045acc1-4d7d-4922-8b50-ea996b12d48c",
   "metadata": {},
   "outputs": [
    {
     "name": "stdout",
     "output_type": "stream",
     "text": [
      "Tokenization complete. Ready for training.\n"
     ]
    }
   ],
   "source": [
    "# Load tokenizer\n",
    "tokenizer = AutoTokenizer.from_pretrained(\"bert-large-uncased\")\n",
    "\n",
    "# Tokenization function\n",
    "def tokenize_data(sentences, labels):\n",
    "    encodings = tokenizer(\n",
    "        sentences.tolist(),\n",
    "        padding=True,\n",
    "        truncation=True,\n",
    "        max_length=56,\n",
    "        return_tensors=\"pt\"\n",
    "    )\n",
    "    return encodings, torch.tensor(labels.tolist())\n",
    "\n",
    "# Tokenize train and validation data\n",
    "train_encodings, train_labels = tokenize_data(train_df[\"sentence\"], train_df[\"label\"])\n",
    "val_encodings, val_labels = tokenize_data(val_df[\"sentence\"], val_df[\"label\"])\n",
    "\n",
    "# Custom Dataset class\n",
    "class EmotionDataset(Dataset):\n",
    "    def __init__(self, encodings, labels):\n",
    "        self.encodings = encodings\n",
    "        self.labels = labels\n",
    "\n",
    "    def __getitem__(self, idx):\n",
    "        item = {key: val[idx] for key, val in self.encodings.items()}\n",
    "        item[\"labels\"] = self.labels[idx]\n",
    "        return item\n",
    "\n",
    "    def __len__(self):\n",
    "        return len(self.labels)\n",
    "\n",
    "# Create dataset objects\n",
    "train_dataset = EmotionDataset(train_encodings, train_labels)\n",
    "val_dataset = EmotionDataset(val_encodings, val_labels)\n",
    "\n",
    "print(\"Tokenization complete. Ready for training.\")\n"
   ]
  },
  {
   "cell_type": "code",
   "execution_count": 5,
   "id": "0b9b9262-feb8-487b-8afd-7c60102a684e",
   "metadata": {},
   "outputs": [
    {
     "name": "stderr",
     "output_type": "stream",
     "text": [
      "Some weights of BertForSequenceClassification were not initialized from the model checkpoint at bert-large-uncased and are newly initialized: ['classifier.bias', 'classifier.weight']\n",
      "You should probably TRAIN this model on a down-stream task to be able to use it for predictions and inference.\n",
      "/usr/local/lib/python3.11/dist-packages/transformers/training_args.py:1594: FutureWarning: `evaluation_strategy` is deprecated and will be removed in version 4.46 of 🤗 Transformers. Use `eval_strategy` instead\n",
      "  warnings.warn(\n"
     ]
    }
   ],
   "source": [
    "# Load model\n",
    "model = BertForSequenceClassification.from_pretrained(\n",
    "    \"bert-large-uncased\",\n",
    "    num_labels=6,\n",
    "    id2label=id2label,\n",
    "    label2id=label2id\n",
    ")\n",
    "\n",
    "# Move to GPU if available\n",
    "device = torch.device(\"cuda\" if torch.cuda.is_available() else \"cpu\")\n",
    "model.to(device)\n",
    "\n",
    "# Convert class weights to tensor\n",
    "weights = torch.tensor(list(class_weights_dict.values()), dtype=torch.float).to(device)\n",
    "loss_fn = torch.nn.CrossEntropyLoss(weight=weights)\n",
    "\n",
    "# Custom compute_metrics function\n",
    "def compute_metrics(pred):\n",
    "    labels = pred.label_ids\n",
    "    preds = pred.predictions.argmax(-1)\n",
    "    f1 = f1_score(labels, preds, average='macro')\n",
    "    acc = accuracy_score(labels, preds)\n",
    "    return {\"macro_f1\": f1, \"accuracy\": acc}\n",
    "\n",
    "training_args = TrainingArguments(\n",
    "    output_dir=\"checkpoints/bert_large_56_noneutral\",\n",
    "    evaluation_strategy=\"epoch\",\n",
    "    save_strategy=\"epoch\",\n",
    "    logging_strategy=\"epoch\",\n",
    "    load_best_model_at_end=True,\n",
    "    metric_for_best_model=\"macro_f1\",\n",
    "    greater_is_better=True,\n",
    "    save_total_limit=2,\n",
    "    num_train_epochs=5,\n",
    "    per_device_train_batch_size=32,\n",
    "    per_device_eval_batch_size=32,\n",
    "    learning_rate=1e-5,\n",
    "    weight_decay=0.01,\n",
    "    warmup_ratio=0.1,\n",
    "    report_to=\"none\",\n",
    "    fp16=True\n",
    ")\n",
    "\n",
    "\n",
    "\n",
    "\n",
    "# Trainer with custom loss function\n",
    "class CustomTrainer(Trainer):\n",
    "    def compute_loss(self, model, inputs, return_outputs=False, **kwargs):\n",
    "        labels = inputs.pop(\"labels\")\n",
    "        outputs = model(**inputs)\n",
    "        logits = outputs.logits\n",
    "        loss = loss_fn(logits, labels)\n",
    "        return (loss, outputs) if return_outputs else loss\n",
    "\n",
    "\n",
    "# Initialize trainer\n",
    "trainer = CustomTrainer(\n",
    "    model=model,\n",
    "    args=training_args,\n",
    "    train_dataset=train_dataset,\n",
    "    eval_dataset=val_dataset,\n",
    "    compute_metrics=compute_metrics,\n",
    ")"
   ]
  },
  {
   "cell_type": "code",
   "execution_count": 6,
   "id": "90d6c260-e95b-4e50-95be-9a90cdd8164e",
   "metadata": {},
   "outputs": [
    {
     "data": {
      "text/html": [
       "\n",
       "    <div>\n",
       "      \n",
       "      <progress value='54380' max='54380' style='width:300px; height:20px; vertical-align: middle;'></progress>\n",
       "      [54380/54380 1:23:25, Epoch 5/5]\n",
       "    </div>\n",
       "    <table border=\"1\" class=\"dataframe\">\n",
       "  <thead>\n",
       " <tr style=\"text-align: left;\">\n",
       "      <th>Epoch</th>\n",
       "      <th>Training Loss</th>\n",
       "      <th>Validation Loss</th>\n",
       "      <th>Macro F1</th>\n",
       "      <th>Accuracy</th>\n",
       "    </tr>\n",
       "  </thead>\n",
       "  <tbody>\n",
       "    <tr>\n",
       "      <td>1</td>\n",
       "      <td>0.561100</td>\n",
       "      <td>0.358628</td>\n",
       "      <td>0.790389</td>\n",
       "      <td>0.920944</td>\n",
       "    </tr>\n",
       "    <tr>\n",
       "      <td>2</td>\n",
       "      <td>0.327200</td>\n",
       "      <td>0.354231</td>\n",
       "      <td>0.793531</td>\n",
       "      <td>0.923347</td>\n",
       "    </tr>\n",
       "    <tr>\n",
       "      <td>3</td>\n",
       "      <td>0.269600</td>\n",
       "      <td>0.389370</td>\n",
       "      <td>0.788490</td>\n",
       "      <td>0.923370</td>\n",
       "    </tr>\n",
       "    <tr>\n",
       "      <td>4</td>\n",
       "      <td>0.210500</td>\n",
       "      <td>0.561237</td>\n",
       "      <td>0.779742</td>\n",
       "      <td>0.923209</td>\n",
       "    </tr>\n",
       "    <tr>\n",
       "      <td>5</td>\n",
       "      <td>0.160500</td>\n",
       "      <td>0.671375</td>\n",
       "      <td>0.782436</td>\n",
       "      <td>0.922795</td>\n",
       "    </tr>\n",
       "  </tbody>\n",
       "</table><p>"
      ],
      "text/plain": [
       "<IPython.core.display.HTML object>"
      ]
     },
     "metadata": {},
     "output_type": "display_data"
    },
    {
     "data": {
      "text/plain": [
       "TrainOutput(global_step=54380, training_loss=0.3057973476576866, metrics={'train_runtime': 5006.0824, 'train_samples_per_second': 347.582, 'train_steps_per_second': 10.863, 'total_flos': 1.773631328916216e+17, 'train_loss': 0.3057973476576866, 'epoch': 5.0})"
      ]
     },
     "execution_count": 6,
     "metadata": {},
     "output_type": "execute_result"
    }
   ],
   "source": [
    "# Train the model\n",
    "trainer.train()"
   ]
  },
  {
   "cell_type": "code",
   "execution_count": 7,
   "id": "a34cf209-8417-4452-84fb-8432a5d7b5ca",
   "metadata": {},
   "outputs": [
    {
     "data": {
      "text/plain": [
       "('bert_large_7/tokenizer_config.json',\n",
       " 'bert_large_7/special_tokens_map.json',\n",
       " 'bert_large_7/vocab.txt',\n",
       " 'bert_large_7/added_tokens.json',\n",
       " 'bert_large_7/tokenizer.json')"
      ]
     },
     "execution_count": 7,
     "metadata": {},
     "output_type": "execute_result"
    }
   ],
   "source": [
    "trainer.save_model(\"bert_large_7\")\n",
    "tokenizer.save_pretrained(\"bert_large_7\")"
   ]
  },
  {
   "cell_type": "code",
   "execution_count": 5,
   "id": "c173f5b3-9134-48c4-9908-0f8983a78482",
   "metadata": {},
   "outputs": [
    {
     "data": {
      "text/html": [],
      "text/plain": [
       "<IPython.core.display.HTML object>"
      ]
     },
     "metadata": {},
     "output_type": "display_data"
    },
    {
     "name": "stdout",
     "output_type": "stream",
     "text": [
      "Classification Report:\n",
      "              precision    recall  f1-score   support\n",
      "\n",
      "       anger       0.66      0.57      0.61       217\n",
      "     disgust       0.50      0.50      0.50         2\n",
      "        fear       0.53      0.24      0.33        42\n",
      "   happiness       0.70      0.79      0.74       184\n",
      "     sadness       0.57      0.56      0.57       144\n",
      "    surprise       0.17      0.40      0.24        25\n",
      "\n",
      "    accuracy                           0.60       614\n",
      "   macro avg       0.52      0.51      0.50       614\n",
      "weighted avg       0.62      0.60      0.61       614\n",
      "\n"
     ]
    },
    {
     "data": {
      "image/png": "[encoded data removed]",
      "text/plain": [
       "<Figure size 800x600 with 2 Axes>"
      ]
     },
     "metadata": {},
     "output_type": "display_data"
    }
   ],
   "source": [
    "# Emotion mapping provided by teacher\n",
    "emotion_mapping = {\n",
    "    \"happiness\": [\n",
    "        \"joy\", \"optimism\", \"approval\", \"pride\", \"gratitude\", \"confidence\",\n",
    "        \"satisfaction\", \"hope\", \"love\", \"excitement\", \"caring\", \"relief\", \"admiration\",\n",
    "        \"amusement\", \"anticipation\", \"encouragement\", \"desire\", \"happiness\"\n",
    "    ],\n",
    "    \"sadness\": [\n",
    "        \"disappointment\", \"nostalgia\", \"remorse\", \"pain\", \"stress\", \"regret\",\n",
    "        \"resignation\", \"despair\", \"confusion\", \"uncertainty\", \"sadness\"\n",
    "    ],\n",
    "    \"anger\": [\n",
    "        \"anger\", \"annoyance\", \"disapproval\", \"frustration\", \"disbelief\", \"warning\",\n",
    "        \"rejection\"\n",
    "    ],\n",
    "    \"disgust\": [\"disgust\"],\n",
    "    \"fear\": [\n",
    "        \"fear\", \"nervousness\", \"worry\", \"anxiety\", \"doubt\", \"insecurity\", \"urgency\",\n",
    "        \"panic\"\n",
    "    ],\n",
    "    \"surprise\": [\"surprise\", \"realization\", \"shock\", \"amazement\", \"wonder\"],\n",
    "    \"neutral\": [\n",
    "        \"neutral\", \"mixed\", \"trust\", \"agreement\", \"instruction\", \"suggestion\",\n",
    "        \"request\", \"confirmation\", \"acceptance\", \"reassurance\", \"clarification\",\n",
    "        \"understanding\", \"certainty\"\n",
    "    ]\n",
    "}\n",
    "\n",
    "# Reverse the mapping for fast lookup\n",
    "reverse_mapping = {sub: main for main, subs in emotion_mapping.items() for sub in subs}\n",
    "\n",
    "# Load test data\n",
    "df = pd.read_excel(\"group 24_url1.xlsx\")\n",
    "\n",
    "# Apply mapping\n",
    "df[\"Mapped_Emotion\"] = df[\"Emotion\"].map(reverse_mapping)\n",
    "\n",
    "# Drop rows with unmapped emotions (should be none if clean)\n",
    "df = df.dropna(subset=[\"Mapped_Emotion\"])\n",
    "df = df[df[\"Mapped_Emotion\"] != \"neutral\"]\n",
    "\n",
    "# Define label2id and id2label\n",
    "core_emotions = ['anger', 'disgust', 'fear', 'happiness', 'sadness', 'surprise']\n",
    "label2id = {label: i for i, label in enumerate(core_emotions)}\n",
    "id2label = {i: label for label, i in label2id.items()}\n",
    "\n",
    "# Convert mapped emotion to numeric labels\n",
    "df[\"label\"] = df[\"Mapped_Emotion\"].map(label2id)\n",
    "\n",
    "# Tokenize\n",
    "tokenizer = AutoTokenizer.from_pretrained(\"bert_large_7\")\n",
    "encodings = tokenizer(\n",
    "    df[\"Translation\"].tolist(),\n",
    "    truncation=True,\n",
    "    padding=True,\n",
    "    max_length=56,\n",
    "    return_tensors=\"pt\"\n",
    ")\n",
    "\n",
    "# Dataset wrapper\n",
    "class EmotionTestDataset(torch.utils.data.Dataset):\n",
    "    def __init__(self, encodings, labels):\n",
    "        self.encodings = encodings\n",
    "        self.labels = torch.tensor(labels)\n",
    "\n",
    "    def __getitem__(self, idx):\n",
    "        item = {k: v[idx] for k, v in self.encodings.items()}\n",
    "        item[\"labels\"] = self.labels[idx]\n",
    "        return item\n",
    "\n",
    "    def __len__(self):\n",
    "        return len(self.labels)\n",
    "\n",
    "test_dataset = EmotionTestDataset(encodings, df[\"label\"].tolist())\n",
    "\n",
    "# Load trained model\n",
    "model = AutoModelForSequenceClassification.from_pretrained(\"bert_large_7\")\n",
    "\n",
    "# Predict\n",
    "trainer = Trainer(model=model)\n",
    "predictions = trainer.predict(test_dataset)\n",
    "y_pred = np.argmax(predictions.predictions, axis=1)\n",
    "y_true = df[\"label\"].tolist()\n",
    "\n",
    "# Evaluation\n",
    "print(\"Classification Report:\")\n",
    "print(classification_report(y_true, y_pred, target_names=core_emotions))\n",
    "\n",
    "# Confusion matrix\n",
    "cm = confusion_matrix(y_true, y_pred)\n",
    "plt.figure(figsize=(8, 6))\n",
    "sns.heatmap(cm, annot=True, fmt=\"d\", cmap=\"Blues\",\n",
    "            xticklabels=core_emotions,\n",
    "            yticklabels=core_emotions)\n",
    "plt.xlabel(\"Predicted\")\n",
    "plt.ylabel(\"True\")\n",
    "plt.title(\"Confusion Matrix\")\n",
    "plt.tight_layout()\n",
    "plt.show()"
   ]
  },
  {
   "cell_type": "code",
   "execution_count": 6,
   "id": "2b43a281-e709-4862-99d7-6cc865156d84",
   "metadata": {},
   "outputs": [
    {
     "name": "stdout",
     "output_type": "stream",
     "text": [
      "F1-score: 0.4977\n"
     ]
    }
   ],
   "source": [
    "# Macro F1: unweighted mean across all classes\n",
    "macro_f1 = f1_score(y_true, y_pred, average=\"macro\")\n",
    "print(\"F1-score:\", round(macro_f1, 4))"
   ]
  },
  {
   "cell_type": "code",
   "execution_count": 7,
   "id": "a0af6893-c4b8-432c-a9b6-f02441873702",
   "metadata": {},
   "outputs": [
    {
     "name": "stdout",
     "output_type": "stream",
     "text": [
      "F1-score: 0.6051\n"
     ]
    }
   ],
   "source": [
    "# Macro F1: unweighted mean across all classes\n",
    "macro_f1 = f1_score(y_true, y_pred, average=\"weighted\")\n",
    "print(\"F1-score:\", round(macro_f1, 4))"
   ]
  },
  {
   "cell_type": "markdown",
   "id": "3801ff72-5e5f-4756-b2a5-0394d9221cf4",
   "metadata": {},
   "source": [
    "# Refined Test Set"
   ]
  },
  {
   "cell_type": "code",
   "execution_count": 8,
   "id": "ee7ddd8f-833e-4ad1-9608-4b1efec7b45a",
   "metadata": {},
   "outputs": [
    {
     "data": {
      "text/html": [],
      "text/plain": [
       "<IPython.core.display.HTML object>"
      ]
     },
     "metadata": {},
     "output_type": "display_data"
    },
    {
     "name": "stdout",
     "output_type": "stream",
     "text": [
      "Classification Report:\n",
      "              precision    recall  f1-score   support\n",
      "\n",
      "       anger       0.68      0.58      0.63       225\n",
      "     disgust       0.50      0.17      0.25         6\n",
      "        fear       0.47      0.16      0.23        45\n",
      "   happiness       0.69      0.81      0.75       172\n",
      "     sadness       0.55      0.56      0.56       140\n",
      "    surprise       0.19      0.39      0.26        28\n",
      "\n",
      "    accuracy                           0.60       616\n",
      "   macro avg       0.51      0.45      0.44       616\n",
      "weighted avg       0.61      0.60      0.59       616\n",
      "\n"
     ]
    },
    {
     "data": {
      "image/png": "[encoded data removed]",
      "text/plain": [
       "<Figure size 800x600 with 2 Axes>"
      ]
     },
     "metadata": {},
     "output_type": "display_data"
    }
   ],
   "source": [
    "# Emotion mapping provided by teacher\n",
    "emotion_mapping = {\n",
    "    \"happiness\": [\n",
    "        \"joy\", \"optimism\", \"approval\", \"pride\", \"gratitude\", \"confidence\",\n",
    "        \"satisfaction\", \"hope\", \"love\", \"excitement\", \"caring\", \"relief\", \"admiration\",\n",
    "        \"amusement\", \"anticipation\", \"encouragement\", \"desire\", \"happiness\"\n",
    "    ],\n",
    "    \"sadness\": [\n",
    "        \"disappointment\", \"nostalgia\", \"remorse\", \"pain\", \"stress\", \"regret\",\n",
    "        \"resignation\", \"despair\", \"confusion\", \"uncertainty\", \"sadness\"\n",
    "    ],\n",
    "    \"anger\": [\n",
    "        \"anger\", \"annoyance\", \"disapproval\", \"frustration\", \"disbelief\", \"warning\",\n",
    "        \"rejection\"\n",
    "    ],\n",
    "    \"disgust\": [\"disgust\"],\n",
    "    \"fear\": [\n",
    "        \"fear\", \"nervousness\", \"worry\", \"anxiety\", \"doubt\", \"insecurity\", \"urgency\",\n",
    "        \"panic\"\n",
    "    ],\n",
    "    \"surprise\": [\"surprise\", \"realization\", \"shock\", \"amazement\", \"wonder\"],\n",
    "    \"neutral\": [\n",
    "        \"neutral\", \"mixed\", \"trust\", \"agreement\", \"instruction\", \"suggestion\",\n",
    "        \"request\", \"confirmation\", \"acceptance\", \"reassurance\", \"clarification\",\n",
    "        \"understanding\", \"certainty\"\n",
    "    ]\n",
    "}\n",
    "\n",
    "# Reverse the mapping for fast lookup\n",
    "reverse_mapping = {sub: main for main, subs in emotion_mapping.items() for sub in subs}\n",
    "\n",
    "# Load test data\n",
    "df = pd.read_excel(\"Test_set_refined.xlsx\")\n",
    "\n",
    "# Apply mapping\n",
    "df[\"Mapped_Emotion\"] = df[\"Emotion\"].map(reverse_mapping)\n",
    "\n",
    "# Drop rows with unmapped emotions (should be none if clean)\n",
    "df = df.dropna(subset=[\"Mapped_Emotion\"])\n",
    "df = df[df[\"Mapped_Emotion\"] != \"neutral\"]\n",
    "\n",
    "# Define label2id and id2label\n",
    "core_emotions = ['anger', 'disgust', 'fear', 'happiness', 'sadness', 'surprise']\n",
    "label2id = {label: i for i, label in enumerate(core_emotions)}\n",
    "id2label = {i: label for label, i in label2id.items()}\n",
    "\n",
    "# Convert mapped emotion to numeric labels\n",
    "df[\"label\"] = df[\"Mapped_Emotion\"].map(label2id)\n",
    "\n",
    "# Tokenize\n",
    "tokenizer = AutoTokenizer.from_pretrained(\"bert_large_7\")\n",
    "encodings = tokenizer(\n",
    "    df[\"Translation\"].tolist(),\n",
    "    truncation=True,\n",
    "    padding=True,\n",
    "    max_length=56,\n",
    "    return_tensors=\"pt\"\n",
    ")\n",
    "\n",
    "# Dataset wrapper\n",
    "class EmotionTestDataset(torch.utils.data.Dataset):\n",
    "    def __init__(self, encodings, labels):\n",
    "        self.encodings = encodings\n",
    "        self.labels = torch.tensor(labels)\n",
    "\n",
    "    def __getitem__(self, idx):\n",
    "        item = {k: v[idx] for k, v in self.encodings.items()}\n",
    "        item[\"labels\"] = self.labels[idx]\n",
    "        return item\n",
    "\n",
    "    def __len__(self):\n",
    "        return len(self.labels)\n",
    "\n",
    "test_dataset = EmotionTestDataset(encodings, df[\"label\"].tolist())\n",
    "\n",
    "# Load trained model\n",
    "model = AutoModelForSequenceClassification.from_pretrained(\"bert_large_7\")\n",
    "\n",
    "# Predict\n",
    "trainer = Trainer(model=model)\n",
    "predictions = trainer.predict(test_dataset)\n",
    "y_pred = np.argmax(predictions.predictions, axis=1)\n",
    "y_true = df[\"label\"].tolist()\n",
    "\n",
    "# Evaluation\n",
    "print(\"Classification Report:\")\n",
    "print(classification_report(y_true, y_pred, target_names=core_emotions))\n",
    "\n",
    "# Confusion matrix\n",
    "cm = confusion_matrix(y_true, y_pred)\n",
    "plt.figure(figsize=(8, 6))\n",
    "sns.heatmap(cm, annot=True, fmt=\"d\", cmap=\"Blues\",\n",
    "            xticklabels=core_emotions,\n",
    "            yticklabels=core_emotions)\n",
    "plt.xlabel(\"Predicted\")\n",
    "plt.ylabel(\"True\")\n",
    "plt.title(\"Confusion Matrix\")\n",
    "plt.tight_layout()\n",
    "plt.show()"
   ]
  },
  {
   "cell_type": "code",
   "execution_count": 9,
   "id": "6d081afd-4bf3-4549-92b9-a31eddc254c1",
   "metadata": {},
   "outputs": [
    {
     "name": "stdout",
     "output_type": "stream",
     "text": [
      "F1-score: 0.4446\n"
     ]
    }
   ],
   "source": [
    "# Macro F1: unweighted mean across all classes\n",
    "macro_f1 = f1_score(y_true, y_pred, average=\"macro\")\n",
    "print(\"F1-score:\", round(macro_f1, 4))"
   ]
  },
  {
   "cell_type": "code",
   "execution_count": 10,
   "id": "574e09ff-2630-4585-b97b-143031643591",
   "metadata": {},
   "outputs": [
    {
     "name": "stdout",
     "output_type": "stream",
     "text": [
      "Weighted F1-score: 0.5944\n"
     ]
    }
   ],
   "source": [
    "weighted_f1 = f1_score(y_true, y_pred, average=\"weighted\")\n",
    "print(\"Weighted F1-score:\", round(weighted_f1, 4))\n"
   ]
  },
  {
   "cell_type": "code",
   "execution_count": 11,
   "id": "78d64191-4242-4e66-9380-0f38d08aa7a6",
   "metadata": {},
   "outputs": [
    {
     "data": {
      "image/png": "[encoded data removed]",
      "text/plain": [
       "<Figure size 1000x500 with 1 Axes>"
      ]
     },
     "metadata": {},
     "output_type": "display_data"
    }
   ],
   "source": [
    "from transformers import TrainerCallback\n",
    "import matplotlib.pyplot as plt\n",
    "import json\n",
    "import os\n",
    "\n",
    "# Load the training log file\n",
    "log_path = os.path.join(\"checkpoints/bert_large_56_noneutral/checkpoint-54380\", \"trainer_state.json\")\n",
    "with open(log_path, \"r\") as f:\n",
    "    logs = json.load(f)\n",
    "\n",
    "# Extract log history\n",
    "history = logs[\"log_history\"]\n",
    "\n",
    "# Parse training and evaluation losses\n",
    "train_steps = []\n",
    "train_losses = []\n",
    "eval_steps = []\n",
    "eval_losses = []\n",
    "\n",
    "for entry in history:\n",
    "    if \"loss\" in entry and \"step\" in entry:\n",
    "        train_steps.append(entry[\"step\"])\n",
    "        train_losses.append(entry[\"loss\"])\n",
    "    elif \"eval_loss\" in entry:\n",
    "        eval_steps.append(entry[\"step\"])\n",
    "        eval_losses.append(entry[\"eval_loss\"])\n",
    "\n",
    "# Plotting\n",
    "plt.figure(figsize=(10, 5))\n",
    "plt.plot(train_steps, train_losses, label=\"Training Loss\")\n",
    "plt.plot(eval_steps, eval_losses, label=\"Validation Loss\", marker=\"o\")\n",
    "plt.xlabel(\"Step\")\n",
    "plt.ylabel(\"Loss\")\n",
    "plt.title(\"Training & Validation Loss Over Time\")\n",
    "plt.legend()\n",
    "plt.grid(True)\n",
    "plt.tight_layout()\n",
    "plt.show()"
   ]
  },
  {
   "cell_type": "code",
   "execution_count": 13,
   "id": "4963456c-5d30-4f33-a382-ead07a5071f2",
   "metadata": {},
   "outputs": [
    {
     "name": "stdout",
     "output_type": "stream",
     "text": [
      "False predictions (sample):\n",
      "                                            Translation true_label  \\\n",
      "83    And he thinks I can replace everything with mo...      anger   \n",
      "15    Due to Velina's behavior, scandals between Lil...      anger   \n",
      "596                                   No, I want a dog.  happiness   \n",
      "825                                    No, please, Mom.       fear   \n",
      "772         Excuse me, do you prevent me from this rug?      anger   \n",
      "693              However, Nicholas is not so fascinated    sadness   \n",
      "744                                  I move out of you.  happiness   \n",
      "503             And he happens to Veli to the daughter.    sadness   \n",
      "19    And this, given that it works as a saleswoman ...      anger   \n",
      "396         No, I'm sure it will appear from somewhere.  happiness   \n",
      "159          For this act, I will think about mistakes.   surprise   \n",
      "969                                    It won't be now.    sadness   \n",
      "469                             He didn't want to come.    sadness   \n",
      "695                         What does this dog do here?    sadness   \n",
      "339                      You tell me if you're in pain.  happiness   \n",
      "555   I was very much like Velina I poured on my scr...    sadness   \n",
      "783                   that he crucified a good but thus    sadness   \n",
      "49    I don't know what to do, Velina. It became a v...      anger   \n",
      "244             Where do we all have to comply with it.      anger   \n",
      "548         Why are you talking and saying my daughter?    sadness   \n",
      "104                                Her daughter's shot.       fear   \n",
      "67    You have to do something. It has become indisp...       fear   \n",
      "430                    I certainly come up with lodges.    sadness   \n",
      "96    She is still a child, she is not to blame for ...  happiness   \n",
      "736                               I've heard it before.    sadness   \n",
      "486                 And I think this thing, from as ...    sadness   \n",
      "23    I prefer to be left without money than to figh...       fear   \n",
      "285                    go out and she did not complain,   surprise   \n",
      "612          If you will celebrate. Celebrate yourself.      anger   \n",
      "603   I'm not interested, I want even being the most...  happiness   \n",
      "443                Verina, stop, Mom. When we get home,  happiness   \n",
      "834                              She was very startled.   surprise   \n",
      "84        She must take responsibility for her actions.      anger   \n",
      "219                Oh, sometimes it comes to me to beat      anger   \n",
      "65           I think Velina is completely on your head.      anger   \n",
      "476                                   YES Neither butt.    sadness   \n",
      "383                              How could you do this?      anger   \n",
      "765                                 Please don't leave.       fear   \n",
      "545   What's going on? Break our magazines a car and...    sadness   \n",
      "1028           And he starts to act like a real parent.  happiness   \n",
      "288                              I am lumpy that Velina      anger   \n",
      "515   She is used to receiving everything she wants it.      anger   \n",
      "450                      My daughter doesn't feel well.  happiness   \n",
      "60    I delivered it, I was so delivered that at one...  happiness   \n",
      "759                     was raised from Liliana's word.    sadness   \n",
      "246                         MILK YOU'RE POOD TO HAPPEN.    sadness   \n",
      "656                         that dogs are very soothing   surprise   \n",
      "130                            It looked colored to me.    sadness   \n",
      "753                       Vilina was not guilty at all.   surprise   \n",
      "881            My mother has become a different person.   surprise   \n",
      "\n",
      "     predicted_label  \n",
      "83          surprise  \n",
      "15          surprise  \n",
      "596            anger  \n",
      "825          sadness  \n",
      "772          sadness  \n",
      "693            anger  \n",
      "744            anger  \n",
      "503         surprise  \n",
      "19          surprise  \n",
      "396            anger  \n",
      "159        happiness  \n",
      "969            anger  \n",
      "469            anger  \n",
      "695         surprise  \n",
      "339          sadness  \n",
      "555        happiness  \n",
      "783        happiness  \n",
      "49           sadness  \n",
      "244          sadness  \n",
      "548            anger  \n",
      "104          sadness  \n",
      "67         happiness  \n",
      "430        happiness  \n",
      "96             anger  \n",
      "736         surprise  \n",
      "486        happiness  \n",
      "23         happiness  \n",
      "285            anger  \n",
      "612        happiness  \n",
      "603            anger  \n",
      "443            anger  \n",
      "834             fear  \n",
      "84         happiness  \n",
      "219          sadness  \n",
      "65         happiness  \n",
      "476        happiness  \n",
      "383         surprise  \n",
      "765          sadness  \n",
      "545         surprise  \n",
      "1028        surprise  \n",
      "288          sadness  \n",
      "515        happiness  \n",
      "450          sadness  \n",
      "60           sadness  \n",
      "759        happiness  \n",
      "246        happiness  \n",
      "656        happiness  \n",
      "130         surprise  \n",
      "753        happiness  \n",
      "881          sadness  \n"
     ]
    }
   ],
   "source": [
    "# Reverse label mapping to get string labels\n",
    "id2label = {v: k for k, v in label2id.items()}\n",
    "\n",
    "# Add predictions to DataFrame\n",
    "df[\"true_label\"] = [id2label[i] for i in y_true]\n",
    "df[\"predicted_label\"] = [id2label[i] for i in y_pred]\n",
    "\n",
    "# Filter for mismatches\n",
    "false_predictions = df[df[\"true_label\"] != df[\"predicted_label\"]]\n",
    "\n",
    "# Show sample of incorrect predictions\n",
    "print(\"False predictions (sample):\")\n",
    "print(false_predictions[[\"Translation\", \"true_label\", \"predicted_label\"]].sample(50, random_state=42))\n"
   ]
  }
 ],
 "metadata": {
  "kernelspec": {
   "display_name": "Python 3 (ipykernel)",
   "language": "python",
   "name": "python3"
  },
  "language_info": {
   "codemirror_mode": {
    "name": "ipython",
    "version": 3
   },
   "file_extension": ".py",
   "mimetype": "text/x-python",
   "name": "python",
   "nbconvert_exporter": "python",
   "pygments_lexer": "ipython3",
   "version": "3.11.0rc1"
  }
 },
 "nbformat": 4,
 "nbformat_minor": 5
}
