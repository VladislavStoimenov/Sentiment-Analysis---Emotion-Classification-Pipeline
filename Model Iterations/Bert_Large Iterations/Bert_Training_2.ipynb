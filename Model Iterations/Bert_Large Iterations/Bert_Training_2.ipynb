{
 "cells": [
  {
   "cell_type": "code",
   "execution_count": 1,
   "id": "28b5ee72-d12b-40a4-b633-f0a9a6dd33ed",
   "metadata": {},
   "outputs": [],
   "source": [
    "import os\n",
    "os.environ[\"CUDA_VISIBLE_DEVICES\"] = \"3\"  # or 2 or 3 depending on what's free"
   ]
  },
  {
   "cell_type": "code",
   "execution_count": 1,
   "id": "1d92b7cf-9674-46d0-965e-63de266151ba",
   "metadata": {},
   "outputs": [
    {
     "name": "stderr",
     "output_type": "stream",
     "text": [
      "2025-03-26 15:09:15.123003: I tensorflow/core/util/port.cc:153] oneDNN custom operations are on. You may see slightly different numerical results due to floating-point round-off errors from different computation orders. To turn them off, set the environment variable `TF_ENABLE_ONEDNN_OPTS=0`.\n",
      "2025-03-26 15:09:15.135237: E external/local_xla/xla/stream_executor/cuda/cuda_fft.cc:467] Unable to register cuFFT factory: Attempting to register factory for plugin cuFFT when one has already been registered\n",
      "WARNING: All log messages before absl::InitializeLog() is called are written to STDERR\n",
      "E0000 00:00:1743001755.149267    7245 cuda_dnn.cc:8579] Unable to register cuDNN factory: Attempting to register factory for plugin cuDNN when one has already been registered\n",
      "E0000 00:00:1743001755.153569    7245 cuda_blas.cc:1407] Unable to register cuBLAS factory: Attempting to register factory for plugin cuBLAS when one has already been registered\n",
      "W0000 00:00:1743001755.165077    7245 computation_placer.cc:177] computation placer already registered. Please check linkage and avoid linking the same target more than once.\n",
      "W0000 00:00:1743001755.165090    7245 computation_placer.cc:177] computation placer already registered. Please check linkage and avoid linking the same target more than once.\n",
      "W0000 00:00:1743001755.165092    7245 computation_placer.cc:177] computation placer already registered. Please check linkage and avoid linking the same target more than once.\n",
      "W0000 00:00:1743001755.165094    7245 computation_placer.cc:177] computation placer already registered. Please check linkage and avoid linking the same target more than once.\n",
      "2025-03-26 15:09:15.169326: I tensorflow/core/platform/cpu_feature_guard.cc:210] This TensorFlow binary is optimized to use available CPU instructions in performance-critical operations.\n",
      "To enable the following instructions: AVX2 AVX512F AVX512_VNNI AVX512_BF16 FMA, in other operations, rebuild TensorFlow with the appropriate compiler flags.\n"
     ]
    }
   ],
   "source": [
    "import pandas as pd\n",
    "import numpy as np\n",
    "from sklearn.model_selection import train_test_split\n",
    "from sklearn.utils.class_weight import compute_class_weight\n",
    "import os\n",
    "from transformers import AutoTokenizer, BertForSequenceClassification, Trainer, TrainingArguments, AutoModelForSequenceClassification\n",
    "import torch\n",
    "from torch.utils.data import Dataset\n",
    "from sklearn.metrics import f1_score, accuracy_score, classification_report, confusion_matrix\n",
    "import matplotlib.pyplot as plt\n",
    "import seaborn as sns"
   ]
  },
  {
   "cell_type": "code",
   "execution_count": 3,
   "id": "ad16450a-7a0a-41f8-9c8d-aa34c330039e",
   "metadata": {},
   "outputs": [
    {
     "name": "stdout",
     "output_type": "stream",
     "text": [
      "Preprocessing complete!\n",
      "Train size: 370583\n",
      "Val size: 92646\n",
      "Label2ID: {'anger': 0, 'disgust': 1, 'fear': 2, 'happiness': 3, 'neutral': 4, 'sadness': 5, 'surprise': 6}\n",
      "Class Weights: {0: 0.9845169243194274, 1: 37.81459183673469, 2: 1.3503144562421203, 3: 0.393735012468139, 4: 2.344779368032092, 5: 0.5112596796823587, 6: 3.3892719956100237}\n"
     ]
    }
   ],
   "source": [
    "# Load dataset\n",
    "df = pd.read_csv(\"final_combined_dataset_sentence&emotion_only.csv\")\n",
    "\n",
    "# Label mapping\n",
    "unique_emotions = df[\"emotion\"].unique()\n",
    "label2id = {label: idx for idx, label in enumerate(sorted(unique_emotions))}\n",
    "id2label = {idx: label for label, idx in label2id.items()}\n",
    "\n",
    "# Apply mapping\n",
    "df[\"label\"] = df[\"emotion\"].map(label2id)\n",
    "\n",
    "# Stratified split\n",
    "train_df, val_df = train_test_split(\n",
    "    df,\n",
    "    test_size=0.2,\n",
    "    stratify=df[\"label\"],\n",
    "    random_state=42\n",
    ")\n",
    "\n",
    "# Class weights\n",
    "class_weights = compute_class_weight(\n",
    "    class_weight=\"balanced\",\n",
    "    classes=np.unique(train_df[\"label\"]),\n",
    "    y=train_df[\"label\"]\n",
    ")\n",
    "class_weights_dict = {i: weight for i, weight in enumerate(class_weights)}\n",
    "\n",
    "# Print for verification\n",
    "print(\"Preprocessing complete!\")\n",
    "print(f\"Train size: {len(train_df)}\")\n",
    "print(f\"Val size: {len(val_df)}\")\n",
    "print(\"Label2ID:\", label2id)\n",
    "print(\"Class Weights:\", class_weights_dict)"
   ]
  },
  {
   "cell_type": "code",
   "execution_count": 4,
   "id": "8045acc1-4d7d-4922-8b50-ea996b12d48c",
   "metadata": {},
   "outputs": [
    {
     "name": "stdout",
     "output_type": "stream",
     "text": [
      "Tokenization complete. Ready for training.\n"
     ]
    }
   ],
   "source": [
    "# Load tokenizer\n",
    "tokenizer = AutoTokenizer.from_pretrained(\"bert-large-uncased\")\n",
    "\n",
    "# Tokenization function\n",
    "def tokenize_data(sentences, labels):\n",
    "    encodings = tokenizer(\n",
    "        sentences.tolist(),\n",
    "        padding=True,\n",
    "        truncation=True,\n",
    "        max_length=256,\n",
    "        return_tensors=\"pt\"\n",
    "    )\n",
    "    return encodings, torch.tensor(labels.tolist())\n",
    "\n",
    "# Tokenize train and validation data\n",
    "train_encodings, train_labels = tokenize_data(train_df[\"sentence\"], train_df[\"label\"])\n",
    "val_encodings, val_labels = tokenize_data(val_df[\"sentence\"], val_df[\"label\"])\n",
    "\n",
    "# Custom Dataset class\n",
    "class EmotionDataset(Dataset):\n",
    "    def __init__(self, encodings, labels):\n",
    "        self.encodings = encodings\n",
    "        self.labels = labels\n",
    "\n",
    "    def __getitem__(self, idx):\n",
    "        item = {key: val[idx] for key, val in self.encodings.items()}\n",
    "        item[\"labels\"] = self.labels[idx]\n",
    "        return item\n",
    "\n",
    "    def __len__(self):\n",
    "        return len(self.labels)\n",
    "\n",
    "# Create dataset objects\n",
    "train_dataset = EmotionDataset(train_encodings, train_labels)\n",
    "val_dataset = EmotionDataset(val_encodings, val_labels)\n",
    "\n",
    "print(\"Tokenization complete. Ready for training.\")\n"
   ]
  },
  {
   "cell_type": "code",
   "execution_count": 5,
   "id": "0b9b9262-feb8-487b-8afd-7c60102a684e",
   "metadata": {},
   "outputs": [
    {
     "name": "stderr",
     "output_type": "stream",
     "text": [
      "Some weights of BertForSequenceClassification were not initialized from the model checkpoint at bert-large-uncased and are newly initialized: ['classifier.bias', 'classifier.weight']\n",
      "You should probably TRAIN this model on a down-stream task to be able to use it for predictions and inference.\n",
      "/usr/local/lib/python3.11/dist-packages/transformers/training_args.py:1594: FutureWarning: `evaluation_strategy` is deprecated and will be removed in version 4.46 of 🤗 Transformers. Use `eval_strategy` instead\n",
      "  warnings.warn(\n"
     ]
    }
   ],
   "source": [
    "# Load model\n",
    "model = BertForSequenceClassification.from_pretrained(\n",
    "    \"bert-large-uncased\",\n",
    "    num_labels=7,\n",
    "    id2label=id2label,\n",
    "    label2id=label2id\n",
    ")\n",
    "\n",
    "# Move to GPU if available\n",
    "device = torch.device(\"cuda\" if torch.cuda.is_available() else \"cpu\")\n",
    "model.to(device)\n",
    "\n",
    "# Convert class weights to tensor\n",
    "weights = torch.tensor(list(class_weights_dict.values()), dtype=torch.float).to(device)\n",
    "loss_fn = torch.nn.CrossEntropyLoss(weight=weights)\n",
    "\n",
    "# Custom compute_metrics function\n",
    "def compute_metrics(pred):\n",
    "    labels = pred.label_ids\n",
    "    preds = pred.predictions.argmax(-1)\n",
    "    f1 = f1_score(labels, preds, average='macro')\n",
    "    acc = accuracy_score(labels, preds)\n",
    "    return {\"macro_f1\": f1, \"accuracy\": acc}\n",
    "\n",
    "training_args = TrainingArguments(\n",
    "    output_dir=\"checkpoints\",\n",
    "    evaluation_strategy=\"epoch\",\n",
    "    save_strategy=\"epoch\",\n",
    "    logging_strategy=\"epoch\",\n",
    "    load_best_model_at_end=True,\n",
    "    metric_for_best_model=\"macro_f1\",\n",
    "    greater_is_better=True,\n",
    "    save_total_limit=2,\n",
    "    num_train_epochs=5,\n",
    "    per_device_train_batch_size=32,\n",
    "    per_device_eval_batch_size=32,\n",
    "    learning_rate=2e-5,\n",
    "    weight_decay=0.01,\n",
    "    report_to=\"none\",\n",
    "    fp16=True\n",
    ")\n",
    "\n",
    "\n",
    "\n",
    "# Trainer with custom loss function\n",
    "class CustomTrainer(Trainer):\n",
    "    def compute_loss(self, model, inputs, return_outputs=False, **kwargs):\n",
    "        labels = inputs.pop(\"labels\")\n",
    "        outputs = model(**inputs)\n",
    "        logits = outputs.logits\n",
    "        loss = loss_fn(logits, labels)\n",
    "        return (loss, outputs) if return_outputs else loss\n",
    "\n",
    "\n",
    "# Initialize trainer\n",
    "trainer = CustomTrainer(\n",
    "    model=model,\n",
    "    args=training_args,\n",
    "    train_dataset=train_dataset,\n",
    "    eval_dataset=val_dataset,\n",
    "    compute_metrics=compute_metrics,\n",
    ")"
   ]
  },
  {
   "cell_type": "code",
   "execution_count": 6,
   "id": "90d6c260-e95b-4e50-95be-9a90cdd8164e",
   "metadata": {},
   "outputs": [
    {
     "data": {
      "text/html": [
       "\n",
       "    <div>\n",
       "      \n",
       "      <progress value='34743' max='34743' style='width:300px; height:20px; vertical-align: middle;'></progress>\n",
       "      [34743/34743 2:11:22, Epoch 3/3]\n",
       "    </div>\n",
       "    <table border=\"1\" class=\"dataframe\">\n",
       "  <thead>\n",
       " <tr style=\"text-align: left;\">\n",
       "      <th>Step</th>\n",
       "      <th>Training Loss</th>\n",
       "    </tr>\n",
       "  </thead>\n",
       "  <tbody>\n",
       "  </tbody>\n",
       "</table><p>"
      ],
      "text/plain": [
       "<IPython.core.display.HTML object>"
      ]
     },
     "metadata": {},
     "output_type": "display_data"
    },
    {
     "data": {
      "text/plain": [
       "TrainOutput(global_step=34743, training_loss=0.43889191707682124, metrics={'train_runtime': 7882.6538, 'train_samples_per_second': 141.037, 'train_steps_per_second': 4.408, 'total_flos': 5.1804563231239834e+17, 'train_loss': 0.43889191707682124, 'epoch': 3.0})"
      ]
     },
     "execution_count": 6,
     "metadata": {},
     "output_type": "execute_result"
    }
   ],
   "source": [
    "# Train the model\n",
    "trainer.train()"
   ]
  },
  {
   "cell_type": "code",
   "execution_count": 7,
   "id": "a34cf209-8417-4452-84fb-8432a5d7b5ca",
   "metadata": {},
   "outputs": [
    {
     "data": {
      "text/plain": [
       "('bert_large_2/tokenizer_config.json',\n",
       " 'bert_large_2/special_tokens_map.json',\n",
       " 'bert_large_2/vocab.txt',\n",
       " 'bert_large_2/added_tokens.json',\n",
       " 'bert_large_2/tokenizer.json')"
      ]
     },
     "execution_count": 7,
     "metadata": {},
     "output_type": "execute_result"
    }
   ],
   "source": [
    "trainer.save_model(\"bert_large_2\")\n",
    "tokenizer.save_pretrained(\"bert_large_2\")"
   ]
  },
  {
   "cell_type": "code",
   "execution_count": 2,
   "id": "c173f5b3-9134-48c4-9908-0f8983a78482",
   "metadata": {},
   "outputs": [
    {
     "data": {
      "text/html": [],
      "text/plain": [
       "<IPython.core.display.HTML object>"
      ]
     },
     "metadata": {},
     "output_type": "display_data"
    },
    {
     "name": "stdout",
     "output_type": "stream",
     "text": [
      "Classification Report:\n",
      "              precision    recall  f1-score   support\n",
      "\n",
      "       anger       0.57      0.29      0.39       217\n",
      "     disgust       1.00      0.50      0.67         2\n",
      "        fear       0.50      0.17      0.25        42\n",
      "   happiness       0.67      0.30      0.42       184\n",
      "     neutral       0.41      0.83      0.55       327\n",
      "     sadness       0.57      0.17      0.27       144\n",
      "    surprise       0.28      0.28      0.28        25\n",
      "\n",
      "    accuracy                           0.46       941\n",
      "   macro avg       0.57      0.36      0.40       941\n",
      "weighted avg       0.52      0.46      0.42       941\n",
      "\n"
     ]
    },
    {
     "data": {
      "image/png": "[encoded data removed]",
      "text/plain": [
       "<Figure size 800x600 with 2 Axes>"
      ]
     },
     "metadata": {},
     "output_type": "display_data"
    }
   ],
   "source": [
    "# Emotion mapping provided by teacher\n",
    "emotion_mapping = {\n",
    "    \"happiness\": [\n",
    "        \"joy\", \"optimism\", \"approval\", \"pride\", \"gratitude\", \"confidence\",\n",
    "        \"satisfaction\", \"hope\", \"love\", \"excitement\", \"caring\", \"relief\", \"admiration\",\n",
    "        \"amusement\", \"anticipation\", \"encouragement\", \"desire\", \"happiness\"\n",
    "    ],\n",
    "    \"sadness\": [\n",
    "        \"disappointment\", \"nostalgia\", \"remorse\", \"pain\", \"stress\", \"regret\",\n",
    "        \"resignation\", \"despair\", \"confusion\", \"uncertainty\", \"sadness\"\n",
    "    ],\n",
    "    \"anger\": [\n",
    "        \"anger\", \"annoyance\", \"disapproval\", \"frustration\", \"disbelief\", \"warning\",\n",
    "        \"rejection\"\n",
    "    ],\n",
    "    \"disgust\": [\"disgust\"],\n",
    "    \"fear\": [\n",
    "        \"fear\", \"nervousness\", \"worry\", \"anxiety\", \"doubt\", \"insecurity\", \"urgency\",\n",
    "        \"panic\"\n",
    "    ],\n",
    "    \"surprise\": [\"surprise\", \"realization\", \"shock\", \"amazement\", \"wonder\"],\n",
    "    \"neutral\": [\n",
    "        \"neutral\", \"mixed\", \"trust\", \"agreement\", \"instruction\", \"suggestion\",\n",
    "        \"request\", \"confirmation\", \"acceptance\", \"reassurance\", \"clarification\",\n",
    "        \"understanding\", \"certainty\"\n",
    "    ]\n",
    "}\n",
    "\n",
    "# Reverse the mapping for fast lookup\n",
    "reverse_mapping = {sub: main for main, subs in emotion_mapping.items() for sub in subs}\n",
    "\n",
    "# Load test data\n",
    "df = pd.read_excel(\"group 24_url1.xlsx\")\n",
    "\n",
    "# Apply mapping\n",
    "df[\"Mapped_Emotion\"] = df[\"Emotion\"].map(reverse_mapping)\n",
    "\n",
    "# Drop rows with unmapped emotions (should be none if clean)\n",
    "df = df.dropna(subset=[\"Mapped_Emotion\"])\n",
    "\n",
    "# Define label2id and id2label\n",
    "core_emotions = ['anger', 'disgust', 'fear', 'happiness', 'neutral', 'sadness', 'surprise']\n",
    "label2id = {label: i for i, label in enumerate(core_emotions)}\n",
    "id2label = {i: label for label, i in label2id.items()}\n",
    "\n",
    "# Convert mapped emotion to numeric labels\n",
    "df[\"label\"] = df[\"Mapped_Emotion\"].map(label2id)\n",
    "\n",
    "# Tokenize\n",
    "tokenizer = AutoTokenizer.from_pretrained(\"bert_large_2\")\n",
    "encodings = tokenizer(\n",
    "    df[\"Translation\"].tolist(),\n",
    "    truncation=True,\n",
    "    padding=True,\n",
    "    max_length=256,\n",
    "    return_tensors=\"pt\"\n",
    ")\n",
    "\n",
    "# Dataset wrapper\n",
    "class EmotionTestDataset(torch.utils.data.Dataset):\n",
    "    def __init__(self, encodings, labels):\n",
    "        self.encodings = encodings\n",
    "        self.labels = torch.tensor(labels)\n",
    "\n",
    "    def __getitem__(self, idx):\n",
    "        item = {k: v[idx] for k, v in self.encodings.items()}\n",
    "        item[\"labels\"] = self.labels[idx]\n",
    "        return item\n",
    "\n",
    "    def __len__(self):\n",
    "        return len(self.labels)\n",
    "\n",
    "test_dataset = EmotionTestDataset(encodings, df[\"label\"].tolist())\n",
    "\n",
    "# Load trained model\n",
    "model = AutoModelForSequenceClassification.from_pretrained(\"bert_large_2\")\n",
    "\n",
    "# Predict\n",
    "trainer = Trainer(model=model)\n",
    "predictions = trainer.predict(test_dataset)\n",
    "y_pred = np.argmax(predictions.predictions, axis=1)\n",
    "y_true = df[\"label\"].tolist()\n",
    "\n",
    "# Evaluation\n",
    "print(\"Classification Report:\")\n",
    "print(classification_report(y_true, y_pred, target_names=core_emotions))\n",
    "\n",
    "# Confusion matrix\n",
    "cm = confusion_matrix(y_true, y_pred)\n",
    "plt.figure(figsize=(8, 6))\n",
    "sns.heatmap(cm, annot=True, fmt=\"d\", cmap=\"Blues\",\n",
    "            xticklabels=core_emotions,\n",
    "            yticklabels=core_emotions)\n",
    "plt.xlabel(\"Predicted\")\n",
    "plt.ylabel(\"True\")\n",
    "plt.title(\"Confusion Matrix\")\n",
    "plt.tight_layout()\n",
    "plt.show()"
   ]
  },
  {
   "cell_type": "code",
   "execution_count": 3,
   "id": "6d081afd-4bf3-4549-92b9-a31eddc254c1",
   "metadata": {},
   "outputs": [
    {
     "name": "stdout",
     "output_type": "stream",
     "text": [
      "F1-score: 0.4025\n"
     ]
    }
   ],
   "source": [
    "# Macro F1: unweighted mean across all classes\n",
    "macro_f1 = f1_score(y_true, y_pred, average=\"macro\")\n",
    "print(\"F1-score:\", round(macro_f1, 4))"
   ]
  },
  {
   "cell_type": "code",
   "execution_count": 4,
   "id": "b2c3f58f-76c4-4bb3-9faf-b686b4a136e3",
   "metadata": {},
   "outputs": [
    {
     "name": "stdout",
     "output_type": "stream",
     "text": [
      "F1-score: 0.4229\n"
     ]
    }
   ],
   "source": [
    "# Macro F1: unweighted mean across all classes\n",
    "macro_f1 = f1_score(y_true, y_pred, average=\"weighted\")\n",
    "print(\"F1-score:\", round(macro_f1, 4))"
   ]
  },
  {
   "cell_type": "code",
   "execution_count": null,
   "id": "030ba7eb-c2b2-4bd4-bc96-8b4732f08cf7",
   "metadata": {},
   "outputs": [],
   "source": []
  }
 ],
 "metadata": {
  "kernelspec": {
   "display_name": "Python 3 (ipykernel)",
   "language": "python",
   "name": "python3"
  },
  "language_info": {
   "codemirror_mode": {
    "name": "ipython",
    "version": 3
   },
   "file_extension": ".py",
   "mimetype": "text/x-python",
   "name": "python",
   "nbconvert_exporter": "python",
   "pygments_lexer": "ipython3",
   "version": "3.11.0rc1"
  }
 },
 "nbformat": 4,
 "nbformat_minor": 5
}
