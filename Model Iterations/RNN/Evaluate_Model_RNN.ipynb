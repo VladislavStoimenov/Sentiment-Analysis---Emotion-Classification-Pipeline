{
 "cells": [
  {
   "cell_type": "markdown",
   "metadata": {},
   "source": [
    "### Import required packages"
   ]
  },
  {
   "cell_type": "code",
   "execution_count": 50,
   "metadata": {},
   "outputs": [],
   "source": [
    "import pandas as pd\n",
    "import numpy as np\n",
    "import matplotlib.pyplot as plt\n",
    "from tensorflow.keras.preprocessing.text import Tokenizer\n",
    "from tensorflow.keras.preprocessing.sequence import pad_sequences\n",
    "from sklearn.preprocessing import LabelEncoder, OneHotEncoder, StandardScaler\n",
    "from nltk.sentiment import SentimentIntensityAnalyzer"
   ]
  },
  {
   "cell_type": "markdown",
   "metadata": {},
   "source": [
    "### Load spacy model"
   ]
  },
  {
   "cell_type": "code",
   "execution_count": 51,
   "metadata": {},
   "outputs": [
    {
     "name": "stderr",
     "output_type": "stream",
     "text": [
      "c:\\Users\\vl4di\\anaconda3\\envs\\block_c2\\lib\\site-packages\\spacy\\util.py:910: UserWarning: [W095] Model 'en_core_web_lg' (3.4.1) was trained with spaCy v3.4.0 and may not be 100% compatible with the current version (3.8.3). If you see errors or degraded performance, download a newer compatible model or retrain your custom model with the current spaCy version. For more details and available updates, run: python -m spacy validate\n",
      "  warnings.warn(warn_msg)\n"
     ]
    }
   ],
   "source": [
    "# Load resources\n",
    "import spacy\n",
    "nlp = spacy.load(\"en_core_web_lg\")\n",
    "sia = SentimentIntensityAnalyzer()"
   ]
  },
  {
   "cell_type": "markdown",
   "metadata": {},
   "source": [
    "### Load the dataset"
   ]
  },
  {
   "cell_type": "code",
   "execution_count": 52,
   "metadata": {},
   "outputs": [
    {
     "data": {
      "text/html": [
       "<div>\n",
       "<style scoped>\n",
       "    .dataframe tbody tr th:only-of-type {\n",
       "        vertical-align: middle;\n",
       "    }\n",
       "\n",
       "    .dataframe tbody tr th {\n",
       "        vertical-align: top;\n",
       "    }\n",
       "\n",
       "    .dataframe thead th {\n",
       "        text-align: right;\n",
       "    }\n",
       "</style>\n",
       "<table border=\"1\" class=\"dataframe\">\n",
       "  <thead>\n",
       "    <tr style=\"text-align: right;\">\n",
       "      <th></th>\n",
       "      <th>Translation</th>\n",
       "      <th>Core_Emotion</th>\n",
       "      <th>Tokens</th>\n",
       "      <th>POS_Tags_new</th>\n",
       "      <th>Sentiment_Score_new</th>\n",
       "      <th>GloVe_Embedding_new</th>\n",
       "    </tr>\n",
       "  </thead>\n",
       "  <tbody>\n",
       "    <tr>\n",
       "      <th>0</th>\n",
       "      <td>Sofia. Lilyana Georgieva and her 13-year-old d...</td>\n",
       "      <td>neutral</td>\n",
       "      <td>['sofia', '.', 'lilyana', 'georgieva', 'and', ...</td>\n",
       "      <td>['PROPN', 'PUNCT', 'PROPN', 'PROPN', 'CCONJ', ...</td>\n",
       "      <td>0.0000</td>\n",
       "      <td>[0.020633583888411522, 0.20872867107391357, 0....</td>\n",
       "    </tr>\n",
       "    <tr>\n",
       "      <th>1</th>\n",
       "      <td>Ever since Velina's father abandoned her famil...</td>\n",
       "      <td>sadness</td>\n",
       "      <td>['ever', 'since', 'velina', \"'s\", 'father', 'a...</td>\n",
       "      <td>['ADV', 'SCONJ', 'PROPN', 'PART', 'NOUN', 'VER...</td>\n",
       "      <td>-0.4588</td>\n",
       "      <td>[0.03035452589392662, 0.15139038860797882, -0....</td>\n",
       "    </tr>\n",
       "    <tr>\n",
       "      <th>2</th>\n",
       "      <td>There is almost no desire that Liliana does no...</td>\n",
       "      <td>happiness</td>\n",
       "      <td>['there', 'is', 'almost', 'no', 'desire', 'tha...</td>\n",
       "      <td>['PRON', 'VERB', 'ADV', 'DET', 'NOUN', 'PRON',...</td>\n",
       "      <td>-0.2243</td>\n",
       "      <td>[0.016226692125201225, 0.18178969621658325, -0...</td>\n",
       "    </tr>\n",
       "    <tr>\n",
       "      <th>3</th>\n",
       "      <td>Velina has a very difficult time to make a sta...</td>\n",
       "      <td>sadness</td>\n",
       "      <td>['velina', 'has', 'a', 'very', 'difficult', 't...</td>\n",
       "      <td>['PROPN', 'VERB', 'DET', 'ADV', 'ADJ', 'NOUN',...</td>\n",
       "      <td>-0.3604</td>\n",
       "      <td>[0.02610410377383232, 0.20006246864795685, -0....</td>\n",
       "    </tr>\n",
       "    <tr>\n",
       "      <th>4</th>\n",
       "      <td>So I allowed myself to buy her whatever she wa...</td>\n",
       "      <td>neutral</td>\n",
       "      <td>['so', 'i', 'allowed', 'myself', 'to', 'buy', ...</td>\n",
       "      <td>['ADV', 'PRON', 'VERB', 'PRON', 'PART', 'VERB'...</td>\n",
       "      <td>0.0000</td>\n",
       "      <td>[0.03702537342905998, 0.15453578531742096, -0....</td>\n",
       "    </tr>\n",
       "  </tbody>\n",
       "</table>\n",
       "</div>"
      ],
      "text/plain": [
       "                                         Translation Core_Emotion  \\\n",
       "0  Sofia. Lilyana Georgieva and her 13-year-old d...      neutral   \n",
       "1  Ever since Velina's father abandoned her famil...      sadness   \n",
       "2  There is almost no desire that Liliana does no...    happiness   \n",
       "3  Velina has a very difficult time to make a sta...      sadness   \n",
       "4  So I allowed myself to buy her whatever she wa...      neutral   \n",
       "\n",
       "                                              Tokens  \\\n",
       "0  ['sofia', '.', 'lilyana', 'georgieva', 'and', ...   \n",
       "1  ['ever', 'since', 'velina', \"'s\", 'father', 'a...   \n",
       "2  ['there', 'is', 'almost', 'no', 'desire', 'tha...   \n",
       "3  ['velina', 'has', 'a', 'very', 'difficult', 't...   \n",
       "4  ['so', 'i', 'allowed', 'myself', 'to', 'buy', ...   \n",
       "\n",
       "                                        POS_Tags_new  Sentiment_Score_new  \\\n",
       "0  ['PROPN', 'PUNCT', 'PROPN', 'PROPN', 'CCONJ', ...               0.0000   \n",
       "1  ['ADV', 'SCONJ', 'PROPN', 'PART', 'NOUN', 'VER...              -0.4588   \n",
       "2  ['PRON', 'VERB', 'ADV', 'DET', 'NOUN', 'PRON',...              -0.2243   \n",
       "3  ['PROPN', 'VERB', 'DET', 'ADV', 'ADJ', 'NOUN',...              -0.3604   \n",
       "4  ['ADV', 'PRON', 'VERB', 'PRON', 'PART', 'VERB'...               0.0000   \n",
       "\n",
       "                                 GloVe_Embedding_new  \n",
       "0  [0.020633583888411522, 0.20872867107391357, 0....  \n",
       "1  [0.03035452589392662, 0.15139038860797882, -0....  \n",
       "2  [0.016226692125201225, 0.18178969621658325, -0...  \n",
       "3  [0.02610410377383232, 0.20006246864795685, -0....  \n",
       "4  [0.03702537342905998, 0.15453578531742096, -0....  "
      ]
     },
     "execution_count": 52,
     "metadata": {},
     "output_type": "execute_result"
    }
   ],
   "source": [
    "df = pd.read_csv('test_set_with_features.csv')\n",
    "df.head()"
   ]
  },
  {
   "cell_type": "code",
   "execution_count": 53,
   "metadata": {},
   "outputs": [
    {
     "data": {
      "text/plain": [
       "0"
      ]
     },
     "execution_count": 53,
     "metadata": {},
     "output_type": "execute_result"
    }
   ],
   "source": [
    "df['Core_Emotion'].isnull().sum()"
   ]
  },
  {
   "cell_type": "markdown",
   "metadata": {},
   "source": [
    "### Pre process Tokens"
   ]
  },
  {
   "cell_type": "code",
   "execution_count": 54,
   "metadata": {},
   "outputs": [],
   "source": [
    "import ast\n",
    "# === Safe converter for Tokens column ===\n",
    "def safe_tokens_to_str(x):\n",
    "    if isinstance(x, str):\n",
    "        try:\n",
    "            x = ast.literal_eval(x)  # Convert stringified list to real list\n",
    "        except:\n",
    "            return \"\"\n",
    "    if isinstance(x, list):\n",
    "        return ' '.join(x)  # Join list to space-separated string\n",
    "    return \"\"\n",
    "\n",
    "# === Apply clean conversion ===\n",
    "df['Tokens_str'] = df['Tokens'].apply(safe_tokens_to_str)\n",
    "\n",
    "# === Tokenization ===\n",
    "tokenizer = Tokenizer()\n",
    "tokenizer.fit_on_texts(df['Tokens_str'])\n",
    "sequences = tokenizer.texts_to_sequences(df['Tokens_str'])\n",
    "\n",
    "# === Padding ===\n",
    "max_len = 32\n",
    "padded_sequences = pad_sequences(sequences, maxlen=max_len, padding='post')"
   ]
  },
  {
   "cell_type": "markdown",
   "metadata": {},
   "source": [
    "### Check average Sequence Length"
   ]
  },
  {
   "cell_type": "code",
   "execution_count": 55,
   "metadata": {},
   "outputs": [
    {
     "name": "stdout",
     "output_type": "stream",
     "text": [
      "🔍 Sequence length stats:\n",
      "count    941.000000\n",
      "mean       8.131775\n",
      "std        3.951792\n",
      "min        1.000000\n",
      "25%        5.000000\n",
      "50%        7.000000\n",
      "75%       10.000000\n",
      "max       30.000000\n",
      "Name: seq_len, dtype: float64\n"
     ]
    }
   ],
   "source": [
    "# First make sure 'Tokens' is a list, not a string\n",
    "import ast\n",
    "\n",
    "df[\"Tokens\"] = df[\"Tokens\"].apply(lambda x: ast.literal_eval(x) if isinstance(x, str) else x)\n",
    "df[\"seq_len\"] = df[\"Tokens\"].apply(len)\n",
    "\n",
    "# Summary statistics\n",
    "print(\"🔍 Sequence length stats:\")\n",
    "print(df[\"seq_len\"].describe())"
   ]
  },
  {
   "cell_type": "markdown",
   "metadata": {},
   "source": [
    "### Pre process POS TAGS"
   ]
  },
  {
   "cell_type": "code",
   "execution_count": 56,
   "metadata": {},
   "outputs": [],
   "source": [
    "df['POS_Tags_new'] = df['POS_Tags_new'].apply(lambda x: eval(x) if isinstance(x, str) else x)\n",
    "all_tags = [tag for seq in df['POS_Tags_new'] for tag in seq]\n",
    "le_pos = LabelEncoder()\n",
    "le_pos.fit(all_tags)\n",
    "\n",
    "df['POS_Encoded'] = df['POS_Tags_new'].apply(lambda tags: le_pos.transform(tags))\n",
    "pos_padded = pad_sequences(df['POS_Encoded'], maxlen=max_len, padding='post')"
   ]
  },
  {
   "cell_type": "markdown",
   "metadata": {},
   "source": [
    "### Pre Process Sentiment Score"
   ]
  },
  {
   "cell_type": "code",
   "execution_count": 57,
   "metadata": {},
   "outputs": [],
   "source": [
    "scaler = StandardScaler()\n",
    "sentiment_scaled = scaler.fit_transform(df[['Sentiment_Score_new']])"
   ]
  },
  {
   "cell_type": "markdown",
   "metadata": {},
   "source": [
    "### Pre Process Glove Embeddings"
   ]
  },
  {
   "cell_type": "code",
   "execution_count": 58,
   "metadata": {},
   "outputs": [],
   "source": [
    "df['GloVe_Embedding_new'] = df['GloVe_Embedding_new'].apply(lambda x: np.array(eval(x)) if isinstance(x, str) else np.zeros(300))\n",
    "glove_features = np.vstack(df['GloVe_Embedding_new'].values)"
   ]
  },
  {
   "cell_type": "code",
   "execution_count": 59,
   "metadata": {},
   "outputs": [
    {
     "data": {
      "text/plain": [
       "array([11, 12, 11, 11,  4, 10,  8, 12,  7, 12,  0,  7,  7, 14,  1,  5,  0,\n",
       "        0,  7, 12,  0,  0,  0,  0,  0,  0,  0,  0,  0,  0,  0,  0])"
      ]
     },
     "execution_count": 59,
     "metadata": {},
     "output_type": "execute_result"
    }
   ],
   "source": [
    "pos_padded[0]"
   ]
  },
  {
   "cell_type": "markdown",
   "metadata": {},
   "source": [
    "### Pre Process Labels"
   ]
  },
  {
   "cell_type": "code",
   "execution_count": 60,
   "metadata": {},
   "outputs": [],
   "source": [
    "label_encoder = LabelEncoder()\n",
    "int_labels = label_encoder.fit_transform(df['Core_Emotion'])\n",
    "onehot_encoder = OneHotEncoder(sparse_output=False)\n",
    "labels = onehot_encoder.fit_transform(int_labels.reshape(-1, 1))"
   ]
  },
  {
   "cell_type": "code",
   "execution_count": 61,
   "metadata": {},
   "outputs": [
    {
     "name": "stdout",
     "output_type": "stream",
     "text": [
      "{0: 'anger', 1: 'disgust', 2: 'fear', 3: 'happiness', 4: 'neutral', 5: 'sadness', 6: 'surprise'}\n"
     ]
    }
   ],
   "source": [
    "# Mapping of labels to encoded values\n",
    "label_mapping = {index: label for index, label in enumerate(label_encoder.classes_)}\n",
    "print(label_mapping)"
   ]
  },
  {
   "cell_type": "markdown",
   "metadata": {},
   "source": [
    "### Define model inputs"
   ]
  },
  {
   "cell_type": "code",
   "execution_count": 62,
   "metadata": {},
   "outputs": [],
   "source": [
    "X_text = padded_sequences\n",
    "X_pos = pos_padded\n",
    "X_sentiment = sentiment_scaled\n",
    "X_glove = glove_features\n",
    "y = labels"
   ]
  },
  {
   "cell_type": "markdown",
   "metadata": {},
   "source": [
    "### Define F1 function"
   ]
  },
  {
   "cell_type": "code",
   "execution_count": 63,
   "metadata": {},
   "outputs": [],
   "source": [
    "import tensorflow.keras.backend as K\n",
    "import tensorflow as tf\n",
    "\n",
    "def f1_micro(y_true, y_pred):\n",
    "    y_pred = K.round(y_pred)\n",
    "    tp = K.sum(K.cast(y_true * y_pred, 'float'), axis=0)\n",
    "    fp = K.sum(K.cast((1 - y_true) * y_pred, 'float'), axis=0)\n",
    "    fn = K.sum(K.cast(y_true * (1 - y_pred), 'float'), axis=0)\n",
    "\n",
    "    precision = tp / (tp + fp + K.epsilon())\n",
    "    recall = tp / (tp + fn + K.epsilon())\n",
    "\n",
    "    f1 = 2 * precision * recall / (precision + recall + K.epsilon())\n",
    "    f1 = tf.where(tf.math.is_nan(f1), tf.zeros_like(f1), f1)\n",
    "    return K.mean(f1)"
   ]
  },
  {
   "cell_type": "markdown",
   "metadata": {},
   "source": [
    "### Make predictions on the test set using the best RNN model"
   ]
  },
  {
   "cell_type": "code",
   "execution_count": null,
   "metadata": {},
   "outputs": [
    {
     "name": "stderr",
     "output_type": "stream",
     "text": [
      "C:\\Users\\vl4di\\AppData\\Roaming\\Python\\Python39\\site-packages\\keras\\src\\saving\\saving_lib.py:757: UserWarning: Skipping variable loading for optimizer 'rmsprop', because it has 26 variables whereas the saved optimizer has 50 variables. \n",
      "  saveable.load_own_variables(weights_store.get(inner_path))\n"
     ]
    },
    {
     "name": "stdout",
     "output_type": "stream",
     "text": [
      "\u001b[1m30/30\u001b[0m \u001b[32m━━━━━━━━━━━━━━━━━━━━\u001b[0m\u001b[37m\u001b[0m \u001b[1m1s\u001b[0m 26ms/step\n"
     ]
    }
   ],
   "source": [
    "from tensorflow.keras.models import load_model\n",
    "model = load_model(\"emotion_model_v9.keras\", custom_objects={'f1_micro': f1_micro})\n",
    "\n",
    "\n",
    "\n",
    "# Predict on test set\n",
    "y_pred_proba = model.predict([X_text, X_pos, X_sentiment, X_glove])\n",
    "y_pred = np.argmax(y_pred_proba, axis=1)\n",
    "y_true = np.argmax(y, axis=1)"
   ]
  },
  {
   "cell_type": "markdown",
   "metadata": {},
   "source": [
    "### Decode the predictions"
   ]
  },
  {
   "cell_type": "code",
   "execution_count": null,
   "metadata": {},
   "outputs": [],
   "source": [
    "# Decode predictions \n",
    "predicted_emotions = label_encoder.inverse_transform(y_pred)\n",
    "true_emotions = label_encoder.inverse_transform(y_true)"
   ]
  },
  {
   "cell_type": "markdown",
   "metadata": {},
   "source": [
    "### Classification Report of the predictions"
   ]
  },
  {
   "cell_type": "code",
   "execution_count": 66,
   "metadata": {},
   "outputs": [
    {
     "name": "stdout",
     "output_type": "stream",
     "text": [
      "              precision    recall  f1-score   support\n",
      "\n",
      "       anger       0.39      0.08      0.13       237\n",
      "     disgust       0.02      1.00      0.03         3\n",
      "        fear       0.00      0.00      0.00        26\n",
      "   happiness       0.40      0.22      0.28       142\n",
      "     neutral       0.51      0.65      0.57       389\n",
      "     sadness       0.11      0.02      0.03       129\n",
      "    surprise       0.00      0.00      0.00        15\n",
      "\n",
      "    accuracy                           0.33       941\n",
      "   macro avg       0.20      0.28      0.15       941\n",
      "weighted avg       0.38      0.33      0.32       941\n",
      "\n"
     ]
    },
    {
     "data": {
      "image/png": "[encoded data removed]",
      "text/plain": [
       "<Figure size 640x480 with 2 Axes>"
      ]
     },
     "metadata": {},
     "output_type": "display_data"
    }
   ],
   "source": [
    "from sklearn.metrics import classification_report, confusion_matrix\n",
    "import seaborn as sns\n",
    "# Classification report\n",
    "print(classification_report(true_emotions, predicted_emotions))\n",
    "\n",
    "# Confusion matrix\n",
    "cm = confusion_matrix(true_emotions, predicted_emotions, labels=label_encoder.classes_)\n",
    "sns.heatmap(cm, annot=True, fmt=\"d\", cmap=\"Blues\", xticklabels=label_encoder.classes_, yticklabels=label_encoder.classes_)\n",
    "plt.xlabel(\"Predicted\")\n",
    "plt.ylabel(\"Actual\")\n",
    "plt.title(\"Confusion Matrix\")\n",
    "plt.tight_layout()\n",
    "plt.show()\n"
   ]
  },
  {
   "cell_type": "markdown",
   "metadata": {},
   "source": [
    "### F1 scores of the predictions"
   ]
  },
  {
   "cell_type": "code",
   "execution_count": 67,
   "metadata": {},
   "outputs": [
    {
     "name": "stdout",
     "output_type": "stream",
     "text": [
      "🔍 F1 Macro:     0.1492\n",
      "🔍 F1 Weighted:  0.3157\n",
      "🔍 F1 Micro:     0.3262\n",
      "🔍 F1 Scores:    [0.13286713 0.03076923 0.         0.28310502 0.57013575 0.02721088\n",
      " 0.        ]\n"
     ]
    }
   ],
   "source": [
    "from sklearn.metrics import f1_score\n",
    "\n",
    "# F1 scores\n",
    "f1_macro = f1_score(true_emotions, predicted_emotions, average='macro')\n",
    "f1_weighted = f1_score(true_emotions, predicted_emotions, average='weighted')\n",
    "f1_micro = f1_score(true_emotions, predicted_emotions, average='micro')\n",
    "f1 = f1_score(true_emotions, predicted_emotions, average=None)\n",
    "\n",
    "print(f\"🔍 F1 Macro:     {f1_macro:.4f}\")\n",
    "print(f\"🔍 F1 Weighted:  {f1_weighted:.4f}\")\n",
    "print(f\"🔍 F1 Micro:     {f1_micro:.4f}\")\n",
    "print(f\"🔍 F1 Scores:    {f1}\")"
   ]
  }
 ],
 "metadata": {
  "kernelspec": {
   "display_name": "block_c2",
   "language": "python",
   "name": "python3"
  },
  "language_info": {
   "codemirror_mode": {
    "name": "ipython",
    "version": 3
   },
   "file_extension": ".py",
   "mimetype": "text/x-python",
   "name": "python",
   "nbconvert_exporter": "python",
   "pygments_lexer": "ipython3",
   "version": "3.9.15"
  }
 },
 "nbformat": 4,
 "nbformat_minor": 2
}
