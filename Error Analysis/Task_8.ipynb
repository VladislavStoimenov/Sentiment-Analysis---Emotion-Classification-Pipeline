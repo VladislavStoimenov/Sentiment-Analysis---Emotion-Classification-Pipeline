{
 "cells": [
  {
   "cell_type": "markdown",
   "id": "1a227db0-83a0-489d-bbc4-7feadf12d3b1",
   "metadata": {},
   "source": [
    "## Import the required packages"
   ]
  },
  {
   "cell_type": "code",
   "execution_count": 81,
   "id": "135ad949-3315-4cec-8690-35d2af2d5fe0",
   "metadata": {},
   "outputs": [],
   "source": [
    "import pandas as pd\n",
    "from sklearn.metrics import classification_report\n",
    "from sklearn.metrics import f1_score\n",
    "from sklearn.metrics import confusion_matrix, ConfusionMatrixDisplay"
   ]
  },
  {
   "cell_type": "markdown",
   "id": "fc4bc936-72a7-4dae-99a9-b58f35f71f01",
   "metadata": {},
   "source": [
    "## Import the test set"
   ]
  },
  {
   "cell_type": "code",
   "execution_count": 82,
   "id": "0b1fbcc1-bf7a-4e21-8253-475b12f6dc49",
   "metadata": {},
   "outputs": [],
   "source": [
    "df = pd.read_csv('test_set_final.csv')"
   ]
  },
  {
   "cell_type": "code",
   "execution_count": 83,
   "id": "e2a59f66-e85b-4b5e-9b32-66db834ef378",
   "metadata": {},
   "outputs": [
    {
     "data": {
      "text/html": [
       "<div>\n",
       "<style scoped>\n",
       "    .dataframe tbody tr th:only-of-type {\n",
       "        vertical-align: middle;\n",
       "    }\n",
       "\n",
       "    .dataframe tbody tr th {\n",
       "        vertical-align: top;\n",
       "    }\n",
       "\n",
       "    .dataframe thead th {\n",
       "        text-align: right;\n",
       "    }\n",
       "</style>\n",
       "<table border=\"1\" class=\"dataframe\">\n",
       "  <thead>\n",
       "    <tr style=\"text-align: right;\">\n",
       "      <th></th>\n",
       "      <th>Translation</th>\n",
       "      <th>adjusted_label</th>\n",
       "      <th>predicted_label</th>\n",
       "      <th>is_correct</th>\n",
       "    </tr>\n",
       "  </thead>\n",
       "  <tbody>\n",
       "    <tr>\n",
       "      <th>0</th>\n",
       "      <td>Sofia. Lilyana Georgieva and her 13-year-old d...</td>\n",
       "      <td>neutral</td>\n",
       "      <td>neutral</td>\n",
       "      <td>True</td>\n",
       "    </tr>\n",
       "    <tr>\n",
       "      <th>1</th>\n",
       "      <td>Ever since Velina's father abandoned her famil...</td>\n",
       "      <td>sadness</td>\n",
       "      <td>happiness</td>\n",
       "      <td>False</td>\n",
       "    </tr>\n",
       "    <tr>\n",
       "      <th>2</th>\n",
       "      <td>There is almost no desire that Liliana does no...</td>\n",
       "      <td>happiness</td>\n",
       "      <td>happiness</td>\n",
       "      <td>True</td>\n",
       "    </tr>\n",
       "    <tr>\n",
       "      <th>3</th>\n",
       "      <td>Velina has a very difficult time to make a sta...</td>\n",
       "      <td>sadness</td>\n",
       "      <td>sadness</td>\n",
       "      <td>True</td>\n",
       "    </tr>\n",
       "    <tr>\n",
       "      <th>4</th>\n",
       "      <td>So I allowed myself to buy her whatever she wa...</td>\n",
       "      <td>neutral</td>\n",
       "      <td>neutral</td>\n",
       "      <td>True</td>\n",
       "    </tr>\n",
       "  </tbody>\n",
       "</table>\n",
       "</div>"
      ],
      "text/plain": [
       "                                         Translation adjusted_label  \\\n",
       "0  Sofia. Lilyana Georgieva and her 13-year-old d...        neutral   \n",
       "1  Ever since Velina's father abandoned her famil...        sadness   \n",
       "2  There is almost no desire that Liliana does no...      happiness   \n",
       "3  Velina has a very difficult time to make a sta...        sadness   \n",
       "4  So I allowed myself to buy her whatever she wa...        neutral   \n",
       "\n",
       "  predicted_label  is_correct  \n",
       "0         neutral        True  \n",
       "1       happiness       False  \n",
       "2       happiness        True  \n",
       "3         sadness        True  \n",
       "4         neutral        True  "
      ]
     },
     "execution_count": 83,
     "metadata": {},
     "output_type": "execute_result"
    }
   ],
   "source": [
    "df.head()"
   ]
  },
  {
   "cell_type": "code",
   "execution_count": 84,
   "id": "971d26a8-6dc6-44be-bdf2-47371f869b5b",
   "metadata": {},
   "outputs": [
    {
     "data": {
      "text/plain": [
       "Index(['Translation', 'adjusted_label', 'predicted_label', 'is_correct'], dtype='object')"
      ]
     },
     "execution_count": 84,
     "metadata": {},
     "output_type": "execute_result"
    }
   ],
   "source": [
    "df.columns"
   ]
  },
  {
   "cell_type": "code",
   "execution_count": 86,
   "id": "593a1f82-fcce-4c4c-93fa-dda442f70343",
   "metadata": {},
   "outputs": [
    {
     "data": {
      "text/plain": [
       "is_correct\n",
       "True     676\n",
       "False    265\n",
       "Name: count, dtype: int64"
      ]
     },
     "execution_count": 86,
     "metadata": {},
     "output_type": "execute_result"
    }
   ],
   "source": [
    "# Check the distribution of correct vs incorrect predictions\n",
    "df['is_correct'].value_counts()"
   ]
  },
  {
   "cell_type": "code",
   "execution_count": 87,
   "id": "e2e0e439-ef02-4695-848c-e92bf87802fc",
   "metadata": {},
   "outputs": [
    {
     "data": {
      "text/plain": [
       "adjusted_label\n",
       "neutral      389\n",
       "anger        237\n",
       "happiness    142\n",
       "sadness      129\n",
       "fear          26\n",
       "surprise      15\n",
       "disgust        3\n",
       "Name: count, dtype: int64"
      ]
     },
     "execution_count": 87,
     "metadata": {},
     "output_type": "execute_result"
    }
   ],
   "source": [
    "df['adjusted_label'].value_counts()"
   ]
  },
  {
   "cell_type": "code",
   "execution_count": 88,
   "id": "41b3b8ef-6c50-4f1d-8c17-ba15355e6ab0",
   "metadata": {},
   "outputs": [
    {
     "data": {
      "text/plain": [
       "predicted_label\n",
       "neutral      389\n",
       "happiness    212\n",
       "anger        173\n",
       "sadness      119\n",
       "surprise      30\n",
       "fear          14\n",
       "disgust        4\n",
       "Name: count, dtype: int64"
      ]
     },
     "execution_count": 88,
     "metadata": {},
     "output_type": "execute_result"
    }
   ],
   "source": [
    "df['predicted_label'].value_counts()"
   ]
  },
  {
   "cell_type": "markdown",
   "id": "ec96da32-8d7c-44ab-9906-2e265cb36d36",
   "metadata": {},
   "source": [
    "### Check the sentence length for True/False predictions"
   ]
  },
  {
   "cell_type": "code",
   "execution_count": 89,
   "id": "3b680b7d-4d8e-48ed-8444-698158c50436",
   "metadata": {},
   "outputs": [
    {
     "name": "stdout",
     "output_type": "stream",
     "text": [
      "🔍 Sentence Length Stats:\n",
      "    Prediction Correctness      mean       std  count\n",
      "0                   False  7.188679  3.441374    265\n",
      "1                    True  6.489645  3.457879    676\n"
     ]
    }
   ],
   "source": [
    "# Add sentence length column (in words)\n",
    "df[\"sentence_length\"] = df[\"Translation\"].apply(lambda x: len(str(x).split()))\n",
    "\n",
    "# Compare average sentence length for correct vs incorrect predictions\n",
    "length_stats = df.groupby(\"is_correct\")[\"sentence_length\"].agg([\"mean\", \"std\", \"count\"]).reset_index()\n",
    "length_stats.rename(columns={\"is_correct\": \"Prediction Correctness\"}, inplace=True)\n",
    "print(\"🔍 Sentence Length Stats:\\n\", length_stats)"
   ]
  },
  {
   "cell_type": "markdown",
   "id": "c2e8741d-863d-4971-b8ec-95e8533a877d",
   "metadata": {},
   "source": [
    "### Calculate precision, recall, f1 pre-class"
   ]
  },
  {
   "cell_type": "code",
   "execution_count": 93,
   "id": "b6519b54-bf56-41d6-808a-5af9496fadfe",
   "metadata": {},
   "outputs": [
    {
     "name": "stdout",
     "output_type": "stream",
     "text": [
      "🔍 Per-Class Performance:\n",
      "            precision    recall  f1-score\n",
      "neutral     0.768638  0.768638  0.768638\n",
      "sadness     0.731092  0.674419  0.701613\n",
      "happiness   0.608491  0.908451  0.728814\n",
      "anger       0.774566  0.565401  0.653659\n",
      "fear        0.714286  0.384615  0.500000\n",
      "surprise    0.500000  1.000000  0.666667\n",
      "disgust     0.500000  0.666667  0.571429\n"
     ]
    }
   ],
   "source": [
    "# Get classification report\n",
    "report = classification_report(df[\"adjusted_label\"], df[\"predicted_label\"], output_dict=True)\n",
    "report_df = pd.DataFrame(report).transpose()\n",
    "\n",
    "# Drop the avg/total rows for now\n",
    "report_df = report_df.loc[df[\"adjusted_label\"].unique()]\n",
    "print(\"🔍 Per-Class Performance:\\n\", report_df[[\"precision\", \"recall\", \"f1-score\"]])\n"
   ]
  },
  {
   "cell_type": "markdown",
   "id": "9024b2e3-9ad6-4159-ab5b-5e628b314c16",
   "metadata": {},
   "source": [
    "### Print F1-Scores for the model"
   ]
  },
  {
   "cell_type": "code",
   "execution_count": 94,
   "id": "26c7c648-c7af-4ab9-8ade-193cec1ea0c7",
   "metadata": {},
   "outputs": [
    {
     "name": "stdout",
     "output_type": "stream",
     "text": [
      "F1 Macro: 0.6558\n",
      "F1 Micro: 0.7184\n",
      "F1 Weighted: 0.7148\n"
     ]
    }
   ],
   "source": [
    "# Now compare with actual labels\n",
    "true_labels = df['adjusted_label'].str.lower().tolist()\n",
    "pred_labels = df['predicted_label'].tolist()\n",
    "\n",
    "# Evaluate\n",
    "f1_macro = f1_score(true_labels, pred_labels, average='macro')\n",
    "f1_micro = f1_score(true_labels, pred_labels, average='micro')\n",
    "f1_weighted = f1_score(true_labels, pred_labels, average='weighted')\n",
    "\n",
    "\n",
    "print(f\"F1 Macro: {f1_macro:.4f}\")\n",
    "print(f\"F1 Micro: {f1_micro:.4f}\")\n",
    "print(f\"F1 Weighted: {f1_weighted:.4f}\")"
   ]
  },
  {
   "cell_type": "markdown",
   "id": "dd7738fd-bccc-46cc-a629-2094bb8744eb",
   "metadata": {},
   "source": [
    "### Confusion Matrix of the predictions"
   ]
  },
  {
   "cell_type": "code",
   "execution_count": 95,
   "id": "313657f0-fa46-4a1f-abc0-cea1aed2dd12",
   "metadata": {},
   "outputs": [
    {
     "data": {
      "text/plain": [
       "array(['neutral', 'sadness', 'happiness', 'anger', 'fear', 'surprise',\n",
       "       'disgust'], dtype=object)"
      ]
     },
     "execution_count": 95,
     "metadata": {},
     "output_type": "execute_result"
    }
   ],
   "source": [
    "EMOTIONS = df['adjusted_label'].unique()\n",
    "EMOTIONS"
   ]
  },
  {
   "cell_type": "code",
   "execution_count": 96,
   "id": "9b2f0ed0-e063-48db-9d5f-76fecb69620e",
   "metadata": {},
   "outputs": [
    {
     "data": {
      "text/plain": [
       "<sklearn.metrics._plot.confusion_matrix.ConfusionMatrixDisplay at 0x7f885b748350>"
      ]
     },
     "execution_count": 96,
     "metadata": {},
     "output_type": "execute_result"
    },
    {
     "data": {
      "image/png": "[encoded data removed]",
      "text/plain": [
       "<Figure size 640x480 with 2 Axes>"
      ]
     },
     "metadata": {},
     "output_type": "display_data"
    }
   ],
   "source": [
    "\n",
    "ConfusionMatrixDisplay.from_predictions(true_labels, pred_labels, labels=EMOTIONS, xticks_rotation=45)"
   ]
  },
  {
   "cell_type": "markdown",
   "id": "cd37d685-e99d-4175-8804-1a4f2784d719",
   "metadata": {},
   "source": [
    "### Check the class distribution"
   ]
  },
  {
   "cell_type": "code",
   "execution_count": 97,
   "id": "2af150a1-094f-4be3-b416-843dd2751b0b",
   "metadata": {},
   "outputs": [
    {
     "data": {
      "image/png": "[encoded data removed]",
      "text/plain": [
       "<Figure size 800x500 with 1 Axes>"
      ]
     },
     "metadata": {},
     "output_type": "display_data"
    }
   ],
   "source": [
    "import matplotlib.pyplot as plt\n",
    "\n",
    "# True label distribution\n",
    "true_counts = df[\"adjusted_label\"].value_counts().sort_index()\n",
    "pred_counts = df[\"predicted_label\"].value_counts().sort_index()\n",
    "\n",
    "# Bar chart of label distributions\n",
    "fig, ax = plt.subplots(figsize=(8, 5))\n",
    "bar_width = 0.35\n",
    "index = range(len(true_counts))\n",
    "\n",
    "plt.bar(index, true_counts, bar_width, label=\"True Labels\")\n",
    "plt.bar([i + bar_width for i in index], pred_counts, bar_width, label=\"Predicted Labels\")\n",
    "plt.xticks([i + bar_width / 2 for i in index], true_counts.index, rotation=45)\n",
    "plt.xlabel(\"Emotion Label\")\n",
    "plt.ylabel(\"Count\")\n",
    "plt.title(\"True vs Predicted Label Distribution\")\n",
    "plt.legend()\n",
    "plt.tight_layout()\n",
    "plt.show()\n"
   ]
  },
  {
   "cell_type": "markdown",
   "id": "7a1ce0ab-cadf-45aa-afb1-914d1c8b948d",
   "metadata": {},
   "source": [
    "### Print confusion matrix of per-class percentages of correct predictions"
   ]
  },
  {
   "cell_type": "code",
   "execution_count": 98,
   "id": "42997645-0ce7-4d7f-9a24-5a13db313ffb",
   "metadata": {},
   "outputs": [
    {
     "data": {
      "image/png": "[encoded data removed]",
      "text/plain": [
       "<Figure size 640x480 with 2 Axes>"
      ]
     },
     "metadata": {},
     "output_type": "display_data"
    }
   ],
   "source": [
    "from sklearn.metrics import confusion_matrix, ConfusionMatrixDisplay\n",
    "\n",
    "labels = sorted(df[\"adjusted_label\"].unique())\n",
    "cm_normalized = confusion_matrix(df[\"adjusted_label\"], df[\"predicted_label\"], labels=labels, normalize='true')\n",
    "\n",
    "disp = ConfusionMatrixDisplay(confusion_matrix=cm_normalized, display_labels=labels)\n",
    "disp.plot(cmap=\"Blues\", xticks_rotation=45)\n",
    "plt.title(\"Normalized Confusion Matrix (Per-Class Percentages)\")\n",
    "plt.tight_layout()\n",
    "plt.show()\n"
   ]
  },
  {
   "cell_type": "markdown",
   "id": "3e5f4872-dc66-466f-ab08-7acaf915ced6",
   "metadata": {},
   "source": [
    "### Plot the error rate per class"
   ]
  },
  {
   "cell_type": "code",
   "execution_count": 99,
   "id": "3025eedb-fedf-494e-84dc-8f3748295d58",
   "metadata": {},
   "outputs": [
    {
     "data": {
      "image/png": "[encoded data removed]",
      "text/plain": [
       "<Figure size 800x400 with 1 Axes>"
      ]
     },
     "metadata": {},
     "output_type": "display_data"
    }
   ],
   "source": [
    "error_counts = mismatches[\"adjusted_label\"].value_counts().sort_index()\n",
    "total_counts = df[\"adjusted_label\"].value_counts().sort_index()\n",
    "error_rate = (error_counts / total_counts).fillna(0)\n",
    "\n",
    "# Plot\n",
    "error_rate.plot(kind='bar', figsize=(8, 4), title=\"Error Rate by Emotion Class\")\n",
    "plt.ylabel(\"Error Rate\")\n",
    "plt.xlabel(\"Emotion\")\n",
    "plt.tight_layout()\n",
    "plt.show()"
   ]
  },
  {
   "cell_type": "markdown",
   "id": "8df21ef5-1a41-4615-96d6-a52b2b8e4536",
   "metadata": {},
   "source": [
    "### Create df per each class that contain the mismatches"
   ]
  },
  {
   "cell_type": "code",
   "execution_count": 100,
   "id": "778e2c36-f5e2-47b6-ac18-0a80b069e5bd",
   "metadata": {},
   "outputs": [
    {
     "name": "stdout",
     "output_type": "stream",
     "text": [
      "\n",
      " anger_df: (103, 3) \n",
      " neutral_df: (90, 3) \n",
      " sadness_df: (42, 3) \n",
      " fear_df: (16, 3) \n",
      " happiness_df: (13, 3) \n",
      " disgust_df: (1, 3) \n",
      " surprise_df: (0, 3)\n"
     ]
    }
   ],
   "source": [
    "# Step 1: Get mismatches (incorrect predictions)\n",
    "mismatches = df[df[\"predicted_label\"] != df[\"adjusted_label\"]]\n",
    "\n",
    "# Step 2: Define the list of emotions\n",
    "emotion_list = [\"neutral\", \"happiness\", \"disgust\", \"anger\", \"sadness\", \"surprise\", \"fear\"]\n",
    "\n",
    "# Step 3: Create a separate DataFrame for each emotion\n",
    "neutral_df = mismatches[mismatches[\"adjusted_label\"] == \"neutral\"][[\"Translation\", \"adjusted_label\", \"predicted_label\"]]\n",
    "happiness_df = mismatches[mismatches[\"adjusted_label\"] == \"happiness\"][[\"Translation\", \"adjusted_label\", \"predicted_label\"]]\n",
    "disgust_df = mismatches[mismatches[\"adjusted_label\"] == \"disgust\"][[\"Translation\", \"adjusted_label\", \"predicted_label\"]]\n",
    "anger_df = mismatches[mismatches[\"adjusted_label\"] == \"anger\"][[\"Translation\", \"adjusted_label\", \"predicted_label\"]]\n",
    "sadness_df = mismatches[mismatches[\"adjusted_label\"] == \"sadness\"][[\"Translation\", \"adjusted_label\", \"predicted_label\"]]\n",
    "surprise_df = mismatches[mismatches[\"adjusted_label\"] == \"surprise\"][[\"Translation\", \"adjusted_label\", \"predicted_label\"]]\n",
    "fear_df = mismatches[mismatches[\"adjusted_label\"] == \"fear\"][[\"Translation\", \"adjusted_label\", \"predicted_label\"]]\n",
    "\n",
    "print(f\"\\n anger_df: {anger_df.shape} \\n neutral_df: {neutral_df.shape} \\n sadness_df: {sadness_df.shape} \\n fear_df: {fear_df.shape} \\n happiness_df: {happiness_df.shape} \\n disgust_df: {disgust_df.shape} \\n surprise_df: {surprise_df.shape}\")"
   ]
  },
  {
   "cell_type": "markdown",
   "id": "4945cba1-4853-4d1b-b9e5-e35623f5f9bd",
   "metadata": {},
   "source": [
    "### Check the incorrect predictions of neutral class"
   ]
  },
  {
   "cell_type": "code",
   "execution_count": 101,
   "id": "d348bb66-b8e5-4ca1-90b8-2776776fc3cd",
   "metadata": {},
   "outputs": [
    {
     "data": {
      "text/html": [
       "<div>\n",
       "<style scoped>\n",
       "    .dataframe tbody tr th:only-of-type {\n",
       "        vertical-align: middle;\n",
       "    }\n",
       "\n",
       "    .dataframe tbody tr th {\n",
       "        vertical-align: top;\n",
       "    }\n",
       "\n",
       "    .dataframe thead th {\n",
       "        text-align: right;\n",
       "    }\n",
       "</style>\n",
       "<table border=\"1\" class=\"dataframe\">\n",
       "  <thead>\n",
       "    <tr style=\"text-align: right;\">\n",
       "      <th></th>\n",
       "      <th>Translation</th>\n",
       "      <th>adjusted_label</th>\n",
       "      <th>predicted_label</th>\n",
       "    </tr>\n",
       "  </thead>\n",
       "  <tbody>\n",
       "    <tr>\n",
       "      <th>5</th>\n",
       "      <td>The relationship between mother and daughter g...</td>\n",
       "      <td>anger</td>\n",
       "      <td>happiness</td>\n",
       "    </tr>\n",
       "    <tr>\n",
       "      <th>7</th>\n",
       "      <td>I was horrified to see what this girl affords....</td>\n",
       "      <td>anger</td>\n",
       "      <td>disgust</td>\n",
       "    </tr>\n",
       "    <tr>\n",
       "      <th>8</th>\n",
       "      <td>And the worst part is that Lily for everything...</td>\n",
       "      <td>anger</td>\n",
       "      <td>happiness</td>\n",
       "    </tr>\n",
       "    <tr>\n",
       "      <th>12</th>\n",
       "      <td>Due to Velina's behavior, scandals between Lil...</td>\n",
       "      <td>anger</td>\n",
       "      <td>neutral</td>\n",
       "    </tr>\n",
       "    <tr>\n",
       "      <th>21</th>\n",
       "      <td>Velina just doesn't know the measure. It must ...</td>\n",
       "      <td>anger</td>\n",
       "      <td>neutral</td>\n",
       "    </tr>\n",
       "    <tr>\n",
       "      <th>23</th>\n",
       "      <td>The situation in the family becomes crazy with...</td>\n",
       "      <td>anger</td>\n",
       "      <td>surprise</td>\n",
       "    </tr>\n",
       "    <tr>\n",
       "      <th>29</th>\n",
       "      <td>She must stop retreating and explain to Little...</td>\n",
       "      <td>anger</td>\n",
       "      <td>neutral</td>\n",
       "    </tr>\n",
       "    <tr>\n",
       "      <th>33</th>\n",
       "      <td>Theodore spoke with his girlfriend in advance ...</td>\n",
       "      <td>anger</td>\n",
       "      <td>happiness</td>\n",
       "    </tr>\n",
       "    <tr>\n",
       "      <th>39</th>\n",
       "      <td>Come on, we're leaving.</td>\n",
       "      <td>anger</td>\n",
       "      <td>neutral</td>\n",
       "    </tr>\n",
       "    <tr>\n",
       "      <th>42</th>\n",
       "      <td>She talked Mom not to buy me clothes.</td>\n",
       "      <td>anger</td>\n",
       "      <td>neutral</td>\n",
       "    </tr>\n",
       "    <tr>\n",
       "      <th>43</th>\n",
       "      <td>It is better for Mom to quarrel and your two o...</td>\n",
       "      <td>anger</td>\n",
       "      <td>neutral</td>\n",
       "    </tr>\n",
       "    <tr>\n",
       "      <th>54</th>\n",
       "      <td>But I couldn't stand it when I saw what was go...</td>\n",
       "      <td>anger</td>\n",
       "      <td>sadness</td>\n",
       "    </tr>\n",
       "    <tr>\n",
       "      <th>55</th>\n",
       "      <td>I delivered it, I was so delivered that at one...</td>\n",
       "      <td>anger</td>\n",
       "      <td>neutral</td>\n",
       "    </tr>\n",
       "    <tr>\n",
       "      <th>58</th>\n",
       "      <td>Lily, I think Velina is completely on your head.</td>\n",
       "      <td>anger</td>\n",
       "      <td>happiness</td>\n",
       "    </tr>\n",
       "    <tr>\n",
       "      <th>59</th>\n",
       "      <td>I think Velina is completely on your head.</td>\n",
       "      <td>anger</td>\n",
       "      <td>happiness</td>\n",
       "    </tr>\n",
       "    <tr>\n",
       "      <th>62</th>\n",
       "      <td>Okay, what do I think? Do I pound it?</td>\n",
       "      <td>anger</td>\n",
       "      <td>neutral</td>\n",
       "    </tr>\n",
       "    <tr>\n",
       "      <th>65</th>\n",
       "      <td>And now she has the nerve, the whole atmospher...</td>\n",
       "      <td>anger</td>\n",
       "      <td>neutral</td>\n",
       "    </tr>\n",
       "    <tr>\n",
       "      <th>67</th>\n",
       "      <td>What if I kill someone, what's going on?</td>\n",
       "      <td>anger</td>\n",
       "      <td>sadness</td>\n",
       "    </tr>\n",
       "    <tr>\n",
       "      <th>71</th>\n",
       "      <td>Look what she did to you.</td>\n",
       "      <td>anger</td>\n",
       "      <td>sadness</td>\n",
       "    </tr>\n",
       "    <tr>\n",
       "      <th>76</th>\n",
       "      <td>And he thinks I can replace everything with mo...</td>\n",
       "      <td>anger</td>\n",
       "      <td>neutral</td>\n",
       "    </tr>\n",
       "    <tr>\n",
       "      <th>77</th>\n",
       "      <td>She must take responsibility for her actions.</td>\n",
       "      <td>anger</td>\n",
       "      <td>happiness</td>\n",
       "    </tr>\n",
       "    <tr>\n",
       "      <th>81</th>\n",
       "      <td>Look at you what he does.</td>\n",
       "      <td>anger</td>\n",
       "      <td>neutral</td>\n",
       "    </tr>\n",
       "    <tr>\n",
       "      <th>82</th>\n",
       "      <td>Look at your son first, then talk about my dau...</td>\n",
       "      <td>anger</td>\n",
       "      <td>neutral</td>\n",
       "    </tr>\n",
       "    <tr>\n",
       "      <th>89</th>\n",
       "      <td>No, you can justify her constantly as a child.</td>\n",
       "      <td>anger</td>\n",
       "      <td>neutral</td>\n",
       "    </tr>\n",
       "    <tr>\n",
       "      <th>95</th>\n",
       "      <td>Lily does not behave like a parent, but behave...</td>\n",
       "      <td>anger</td>\n",
       "      <td>neutral</td>\n",
       "    </tr>\n",
       "    <tr>\n",
       "      <th>97</th>\n",
       "      <td>She is angry, but I say these things for her g...</td>\n",
       "      <td>anger</td>\n",
       "      <td>happiness</td>\n",
       "    </tr>\n",
       "    <tr>\n",
       "      <th>99</th>\n",
       "      <td>I may not be too soft with a Vilina.</td>\n",
       "      <td>anger</td>\n",
       "      <td>happiness</td>\n",
       "    </tr>\n",
       "    <tr>\n",
       "      <th>115</th>\n",
       "      <td>And I hit.</td>\n",
       "      <td>anger</td>\n",
       "      <td>happiness</td>\n",
       "    </tr>\n",
       "    <tr>\n",
       "      <th>152</th>\n",
       "      <td>Come on, quickly.</td>\n",
       "      <td>anger</td>\n",
       "      <td>neutral</td>\n",
       "    </tr>\n",
       "    <tr>\n",
       "      <th>154</th>\n",
       "      <td>Velina, come on Lao. Leave the dog.</td>\n",
       "      <td>anger</td>\n",
       "      <td>sadness</td>\n",
       "    </tr>\n",
       "    <tr>\n",
       "      <th>158</th>\n",
       "      <td>Velina, get in the car right away.</td>\n",
       "      <td>anger</td>\n",
       "      <td>neutral</td>\n",
       "    </tr>\n",
       "    <tr>\n",
       "      <th>160</th>\n",
       "      <td>Leave Sasha's dog.</td>\n",
       "      <td>anger</td>\n",
       "      <td>sadness</td>\n",
       "    </tr>\n",
       "    <tr>\n",
       "      <th>165</th>\n",
       "      <td>Leave.</td>\n",
       "      <td>anger</td>\n",
       "      <td>neutral</td>\n",
       "    </tr>\n",
       "    <tr>\n",
       "      <th>172</th>\n",
       "      <td>I was just about seeing that Velina was still ...</td>\n",
       "      <td>anger</td>\n",
       "      <td>neutral</td>\n",
       "    </tr>\n",
       "    <tr>\n",
       "      <th>173</th>\n",
       "      <td>She breaks them.</td>\n",
       "      <td>anger</td>\n",
       "      <td>neutral</td>\n",
       "    </tr>\n",
       "    <tr>\n",
       "      <th>180</th>\n",
       "      <td>Because of Velina. We have been doing whatever...</td>\n",
       "      <td>anger</td>\n",
       "      <td>neutral</td>\n",
       "    </tr>\n",
       "    <tr>\n",
       "      <th>185</th>\n",
       "      <td>The father is still angry with Velina</td>\n",
       "      <td>anger</td>\n",
       "      <td>sadness</td>\n",
       "    </tr>\n",
       "    <tr>\n",
       "      <th>194</th>\n",
       "      <td>Velina, I'm not up to you now, please, you kno...</td>\n",
       "      <td>anger</td>\n",
       "      <td>sadness</td>\n",
       "    </tr>\n",
       "    <tr>\n",
       "      <th>201</th>\n",
       "      <td>Oh, sometimes it comes to me to beat</td>\n",
       "      <td>anger</td>\n",
       "      <td>neutral</td>\n",
       "    </tr>\n",
       "    <tr>\n",
       "      <th>202</th>\n",
       "      <td>This Nicholas. Only if I was a little stronger</td>\n",
       "      <td>anger</td>\n",
       "      <td>neutral</td>\n",
       "    </tr>\n",
       "  </tbody>\n",
       "</table>\n",
       "</div>"
      ],
      "text/plain": [
       "                                           Translation adjusted_label  \\\n",
       "5    The relationship between mother and daughter g...          anger   \n",
       "7    I was horrified to see what this girl affords....          anger   \n",
       "8    And the worst part is that Lily for everything...          anger   \n",
       "12   Due to Velina's behavior, scandals between Lil...          anger   \n",
       "21   Velina just doesn't know the measure. It must ...          anger   \n",
       "23   The situation in the family becomes crazy with...          anger   \n",
       "29   She must stop retreating and explain to Little...          anger   \n",
       "33   Theodore spoke with his girlfriend in advance ...          anger   \n",
       "39                             Come on, we're leaving.          anger   \n",
       "42               She talked Mom not to buy me clothes.          anger   \n",
       "43   It is better for Mom to quarrel and your two o...          anger   \n",
       "54   But I couldn't stand it when I saw what was go...          anger   \n",
       "55   I delivered it, I was so delivered that at one...          anger   \n",
       "58    Lily, I think Velina is completely on your head.          anger   \n",
       "59          I think Velina is completely on your head.          anger   \n",
       "62               Okay, what do I think? Do I pound it?          anger   \n",
       "65   And now she has the nerve, the whole atmospher...          anger   \n",
       "67            What if I kill someone, what's going on?          anger   \n",
       "71                           Look what she did to you.          anger   \n",
       "76   And he thinks I can replace everything with mo...          anger   \n",
       "77       She must take responsibility for her actions.          anger   \n",
       "81                           Look at you what he does.          anger   \n",
       "82   Look at your son first, then talk about my dau...          anger   \n",
       "89      No, you can justify her constantly as a child.          anger   \n",
       "95   Lily does not behave like a parent, but behave...          anger   \n",
       "97   She is angry, but I say these things for her g...          anger   \n",
       "99                I may not be too soft with a Vilina.          anger   \n",
       "115                                         And I hit.          anger   \n",
       "152                                  Come on, quickly.          anger   \n",
       "154                Velina, come on Lao. Leave the dog.          anger   \n",
       "158                 Velina, get in the car right away.          anger   \n",
       "160                                 Leave Sasha's dog.          anger   \n",
       "165                                             Leave.          anger   \n",
       "172  I was just about seeing that Velina was still ...          anger   \n",
       "173                                   She breaks them.          anger   \n",
       "180  Because of Velina. We have been doing whatever...          anger   \n",
       "185              The father is still angry with Velina          anger   \n",
       "194  Velina, I'm not up to you now, please, you kno...          anger   \n",
       "201               Oh, sometimes it comes to me to beat          anger   \n",
       "202     This Nicholas. Only if I was a little stronger          anger   \n",
       "\n",
       "    predicted_label  \n",
       "5         happiness  \n",
       "7           disgust  \n",
       "8         happiness  \n",
       "12          neutral  \n",
       "21          neutral  \n",
       "23         surprise  \n",
       "29          neutral  \n",
       "33        happiness  \n",
       "39          neutral  \n",
       "42          neutral  \n",
       "43          neutral  \n",
       "54          sadness  \n",
       "55          neutral  \n",
       "58        happiness  \n",
       "59        happiness  \n",
       "62          neutral  \n",
       "65          neutral  \n",
       "67          sadness  \n",
       "71          sadness  \n",
       "76          neutral  \n",
       "77        happiness  \n",
       "81          neutral  \n",
       "82          neutral  \n",
       "89          neutral  \n",
       "95          neutral  \n",
       "97        happiness  \n",
       "99        happiness  \n",
       "115       happiness  \n",
       "152         neutral  \n",
       "154         sadness  \n",
       "158         neutral  \n",
       "160         sadness  \n",
       "165         neutral  \n",
       "172         neutral  \n",
       "173         neutral  \n",
       "180         neutral  \n",
       "185         sadness  \n",
       "194         sadness  \n",
       "201         neutral  \n",
       "202         neutral  "
      ]
     },
     "execution_count": 101,
     "metadata": {},
     "output_type": "execute_result"
    }
   ],
   "source": [
    "anger_df.head(40)"
   ]
  },
  {
   "cell_type": "markdown",
   "id": "2116738e-f251-4907-b1ba-f3eb2c370a4d",
   "metadata": {},
   "source": [
    "### Check the incorrect predictions of happiness class"
   ]
  },
  {
   "cell_type": "code",
   "execution_count": 102,
   "id": "2847737a-9d96-4462-8e14-f156c96fa6e3",
   "metadata": {},
   "outputs": [
    {
     "data": {
      "text/html": [
       "<div>\n",
       "<style scoped>\n",
       "    .dataframe tbody tr th:only-of-type {\n",
       "        vertical-align: middle;\n",
       "    }\n",
       "\n",
       "    .dataframe tbody tr th {\n",
       "        vertical-align: top;\n",
       "    }\n",
       "\n",
       "    .dataframe thead th {\n",
       "        text-align: right;\n",
       "    }\n",
       "</style>\n",
       "<table border=\"1\" class=\"dataframe\">\n",
       "  <thead>\n",
       "    <tr style=\"text-align: right;\">\n",
       "      <th></th>\n",
       "      <th>Translation</th>\n",
       "      <th>adjusted_label</th>\n",
       "      <th>predicted_label</th>\n",
       "    </tr>\n",
       "  </thead>\n",
       "  <tbody>\n",
       "    <tr>\n",
       "      <th>34</th>\n",
       "      <td>He is sure, however, that Velina will want to ...</td>\n",
       "      <td>neutral</td>\n",
       "      <td>happiness</td>\n",
       "    </tr>\n",
       "    <tr>\n",
       "      <th>37</th>\n",
       "      <td>Are you sure?</td>\n",
       "      <td>neutral</td>\n",
       "      <td>surprise</td>\n",
       "    </tr>\n",
       "    <tr>\n",
       "      <th>48</th>\n",
       "      <td>But I hope things will work out in the future.</td>\n",
       "      <td>neutral</td>\n",
       "      <td>happiness</td>\n",
       "    </tr>\n",
       "    <tr>\n",
       "      <th>53</th>\n",
       "      <td>However, she is a mother.</td>\n",
       "      <td>neutral</td>\n",
       "      <td>happiness</td>\n",
       "    </tr>\n",
       "    <tr>\n",
       "      <th>90</th>\n",
       "      <td>Tomorrow will grow up and behave the same way.</td>\n",
       "      <td>neutral</td>\n",
       "      <td>happiness</td>\n",
       "    </tr>\n",
       "    <tr>\n",
       "      <th>91</th>\n",
       "      <td>I had to talk to Lily,</td>\n",
       "      <td>neutral</td>\n",
       "      <td>fear</td>\n",
       "    </tr>\n",
       "    <tr>\n",
       "      <th>93</th>\n",
       "      <td>Nothing has happened. It can't.</td>\n",
       "      <td>neutral</td>\n",
       "      <td>anger</td>\n",
       "    </tr>\n",
       "    <tr>\n",
       "      <th>103</th>\n",
       "      <td>All teenagers are like that.</td>\n",
       "      <td>neutral</td>\n",
       "      <td>happiness</td>\n",
       "    </tr>\n",
       "    <tr>\n",
       "      <th>104</th>\n",
       "      <td>The next morning</td>\n",
       "      <td>neutral</td>\n",
       "      <td>anger</td>\n",
       "    </tr>\n",
       "    <tr>\n",
       "      <th>112</th>\n",
       "      <td>Not only there.</td>\n",
       "      <td>neutral</td>\n",
       "      <td>anger</td>\n",
       "    </tr>\n",
       "    <tr>\n",
       "      <th>116</th>\n",
       "      <td>Okay, I'll write you a recipe for mehlene.</td>\n",
       "      <td>neutral</td>\n",
       "      <td>happiness</td>\n",
       "    </tr>\n",
       "    <tr>\n",
       "      <th>129</th>\n",
       "      <td>My defense was in the store.</td>\n",
       "      <td>neutral</td>\n",
       "      <td>happiness</td>\n",
       "    </tr>\n",
       "    <tr>\n",
       "      <th>135</th>\n",
       "      <td>But pay attention,</td>\n",
       "      <td>neutral</td>\n",
       "      <td>happiness</td>\n",
       "    </tr>\n",
       "  </tbody>\n",
       "</table>\n",
       "</div>"
      ],
      "text/plain": [
       "                                           Translation adjusted_label  \\\n",
       "34   He is sure, however, that Velina will want to ...        neutral   \n",
       "37                                       Are you sure?        neutral   \n",
       "48      But I hope things will work out in the future.        neutral   \n",
       "53                           However, she is a mother.        neutral   \n",
       "90      Tomorrow will grow up and behave the same way.        neutral   \n",
       "91                              I had to talk to Lily,        neutral   \n",
       "93                     Nothing has happened. It can't.        neutral   \n",
       "103                       All teenagers are like that.        neutral   \n",
       "104                                   The next morning        neutral   \n",
       "112                                    Not only there.        neutral   \n",
       "116         Okay, I'll write you a recipe for mehlene.        neutral   \n",
       "129                       My defense was in the store.        neutral   \n",
       "135                                 But pay attention,        neutral   \n",
       "\n",
       "    predicted_label  \n",
       "34        happiness  \n",
       "37         surprise  \n",
       "48        happiness  \n",
       "53        happiness  \n",
       "90        happiness  \n",
       "91             fear  \n",
       "93            anger  \n",
       "103       happiness  \n",
       "104           anger  \n",
       "112           anger  \n",
       "116       happiness  \n",
       "129       happiness  \n",
       "135       happiness  "
      ]
     },
     "execution_count": 102,
     "metadata": {},
     "output_type": "execute_result"
    }
   ],
   "source": [
    "neutral_df.head(13)"
   ]
  },
  {
   "cell_type": "markdown",
   "id": "25fd6903-8eec-423e-ae60-149206ccb831",
   "metadata": {},
   "source": [
    "### Check the incorrect predictions of disgust class"
   ]
  },
  {
   "cell_type": "code",
   "execution_count": 103,
   "id": "34a71047-b026-499e-b023-6f44e79595f4",
   "metadata": {},
   "outputs": [
    {
     "data": {
      "text/html": [
       "<div>\n",
       "<style scoped>\n",
       "    .dataframe tbody tr th:only-of-type {\n",
       "        vertical-align: middle;\n",
       "    }\n",
       "\n",
       "    .dataframe tbody tr th {\n",
       "        vertical-align: top;\n",
       "    }\n",
       "\n",
       "    .dataframe thead th {\n",
       "        text-align: right;\n",
       "    }\n",
       "</style>\n",
       "<table border=\"1\" class=\"dataframe\">\n",
       "  <thead>\n",
       "    <tr style=\"text-align: right;\">\n",
       "      <th></th>\n",
       "      <th>Translation</th>\n",
       "      <th>adjusted_label</th>\n",
       "      <th>predicted_label</th>\n",
       "    </tr>\n",
       "  </thead>\n",
       "  <tbody>\n",
       "    <tr>\n",
       "      <th>1</th>\n",
       "      <td>Ever since Velina's father abandoned her famil...</td>\n",
       "      <td>sadness</td>\n",
       "      <td>happiness</td>\n",
       "    </tr>\n",
       "    <tr>\n",
       "      <th>49</th>\n",
       "      <td>This girl did a missed job.</td>\n",
       "      <td>sadness</td>\n",
       "      <td>happiness</td>\n",
       "    </tr>\n",
       "    <tr>\n",
       "      <th>70</th>\n",
       "      <td>And more, how can a 13-year-old girls reach he...</td>\n",
       "      <td>sadness</td>\n",
       "      <td>neutral</td>\n",
       "    </tr>\n",
       "    <tr>\n",
       "      <th>73</th>\n",
       "      <td>If I had money ...</td>\n",
       "      <td>sadness</td>\n",
       "      <td>neutral</td>\n",
       "    </tr>\n",
       "    <tr>\n",
       "      <th>78</th>\n",
       "      <td>Not everything can be bought with money and gi...</td>\n",
       "      <td>sadness</td>\n",
       "      <td>happiness</td>\n",
       "    </tr>\n",
       "  </tbody>\n",
       "</table>\n",
       "</div>"
      ],
      "text/plain": [
       "                                          Translation adjusted_label  \\\n",
       "1   Ever since Velina's father abandoned her famil...        sadness   \n",
       "49                        This girl did a missed job.        sadness   \n",
       "70  And more, how can a 13-year-old girls reach he...        sadness   \n",
       "73                                 If I had money ...        sadness   \n",
       "78  Not everything can be bought with money and gi...        sadness   \n",
       "\n",
       "   predicted_label  \n",
       "1        happiness  \n",
       "49       happiness  \n",
       "70         neutral  \n",
       "73         neutral  \n",
       "78       happiness  "
      ]
     },
     "execution_count": 103,
     "metadata": {},
     "output_type": "execute_result"
    }
   ],
   "source": [
    "sadness_df.head()"
   ]
  },
  {
   "cell_type": "markdown",
   "id": "6d9b1f21-cfa4-4492-a3cd-423c06622ca0",
   "metadata": {},
   "source": [
    "### Check the incorrect predictions of anger class"
   ]
  },
  {
   "cell_type": "code",
   "execution_count": 104,
   "id": "df9a50ea-fdb3-4c07-8f8d-b69b25906c7d",
   "metadata": {},
   "outputs": [
    {
     "data": {
      "text/html": [
       "<div>\n",
       "<style scoped>\n",
       "    .dataframe tbody tr th:only-of-type {\n",
       "        vertical-align: middle;\n",
       "    }\n",
       "\n",
       "    .dataframe tbody tr th {\n",
       "        vertical-align: top;\n",
       "    }\n",
       "\n",
       "    .dataframe thead th {\n",
       "        text-align: right;\n",
       "    }\n",
       "</style>\n",
       "<table border=\"1\" class=\"dataframe\">\n",
       "  <thead>\n",
       "    <tr style=\"text-align: right;\">\n",
       "      <th></th>\n",
       "      <th>Translation</th>\n",
       "      <th>adjusted_label</th>\n",
       "      <th>predicted_label</th>\n",
       "    </tr>\n",
       "  </thead>\n",
       "  <tbody>\n",
       "    <tr>\n",
       "      <th>20</th>\n",
       "      <td>I prefer to be left without money than to figh...</td>\n",
       "      <td>fear</td>\n",
       "      <td>happiness</td>\n",
       "    </tr>\n",
       "    <tr>\n",
       "      <th>30</th>\n",
       "      <td>If this does not happen, we may be losses.</td>\n",
       "      <td>fear</td>\n",
       "      <td>sadness</td>\n",
       "    </tr>\n",
       "    <tr>\n",
       "      <th>61</th>\n",
       "      <td>You have to do something. It has become indisp...</td>\n",
       "      <td>fear</td>\n",
       "      <td>happiness</td>\n",
       "    </tr>\n",
       "    <tr>\n",
       "      <th>96</th>\n",
       "      <td>Her daughter's shot.</td>\n",
       "      <td>fear</td>\n",
       "      <td>sadness</td>\n",
       "    </tr>\n",
       "    <tr>\n",
       "      <th>137</th>\n",
       "      <td>with quite dangerous.</td>\n",
       "      <td>fear</td>\n",
       "      <td>neutral</td>\n",
       "    </tr>\n",
       "    <tr>\n",
       "      <th>272</th>\n",
       "      <td>what my passion, not to lose theo,</td>\n",
       "      <td>fear</td>\n",
       "      <td>happiness</td>\n",
       "    </tr>\n",
       "    <tr>\n",
       "      <th>333</th>\n",
       "      <td>Well now if something bad happened to my daugh...</td>\n",
       "      <td>fear</td>\n",
       "      <td>sadness</td>\n",
       "    </tr>\n",
       "    <tr>\n",
       "      <th>487</th>\n",
       "      <td>They fuse my daughter, don't let her beat her.</td>\n",
       "      <td>fear</td>\n",
       "      <td>neutral</td>\n",
       "    </tr>\n",
       "    <tr>\n",
       "      <th>575</th>\n",
       "      <td>They kill the children. Please.</td>\n",
       "      <td>fear</td>\n",
       "      <td>anger</td>\n",
       "    </tr>\n",
       "    <tr>\n",
       "      <th>616</th>\n",
       "      <td>I am very conscientious that I took the dog,</td>\n",
       "      <td>fear</td>\n",
       "      <td>happiness</td>\n",
       "    </tr>\n",
       "    <tr>\n",
       "      <th>661</th>\n",
       "      <td>Another will continue to harass us.</td>\n",
       "      <td>fear</td>\n",
       "      <td>neutral</td>\n",
       "    </tr>\n",
       "    <tr>\n",
       "      <th>739</th>\n",
       "      <td>No. You will not take me Richie.</td>\n",
       "      <td>fear</td>\n",
       "      <td>sadness</td>\n",
       "    </tr>\n",
       "    <tr>\n",
       "      <th>746</th>\n",
       "      <td>No, please, Mom.</td>\n",
       "      <td>fear</td>\n",
       "      <td>sadness</td>\n",
       "    </tr>\n",
       "    <tr>\n",
       "      <th>751</th>\n",
       "      <td>Not, not, Mom.</td>\n",
       "      <td>fear</td>\n",
       "      <td>neutral</td>\n",
       "    </tr>\n",
       "    <tr>\n",
       "      <th>752</th>\n",
       "      <td>Not the dog.</td>\n",
       "      <td>fear</td>\n",
       "      <td>anger</td>\n",
       "    </tr>\n",
       "    <tr>\n",
       "      <th>926</th>\n",
       "      <td>Something that almost ruins the relationship w...</td>\n",
       "      <td>fear</td>\n",
       "      <td>neutral</td>\n",
       "    </tr>\n",
       "  </tbody>\n",
       "</table>\n",
       "</div>"
      ],
      "text/plain": [
       "                                           Translation adjusted_label  \\\n",
       "20   I prefer to be left without money than to figh...           fear   \n",
       "30          If this does not happen, we may be losses.           fear   \n",
       "61   You have to do something. It has become indisp...           fear   \n",
       "96                                Her daughter's shot.           fear   \n",
       "137                              with quite dangerous.           fear   \n",
       "272                 what my passion, not to lose theo,           fear   \n",
       "333  Well now if something bad happened to my daugh...           fear   \n",
       "487     They fuse my daughter, don't let her beat her.           fear   \n",
       "575                    They kill the children. Please.           fear   \n",
       "616       I am very conscientious that I took the dog,           fear   \n",
       "661                Another will continue to harass us.           fear   \n",
       "739                   No. You will not take me Richie.           fear   \n",
       "746                                   No, please, Mom.           fear   \n",
       "751                                     Not, not, Mom.           fear   \n",
       "752                                       Not the dog.           fear   \n",
       "926  Something that almost ruins the relationship w...           fear   \n",
       "\n",
       "    predicted_label  \n",
       "20        happiness  \n",
       "30          sadness  \n",
       "61        happiness  \n",
       "96          sadness  \n",
       "137         neutral  \n",
       "272       happiness  \n",
       "333         sadness  \n",
       "487         neutral  \n",
       "575           anger  \n",
       "616       happiness  \n",
       "661         neutral  \n",
       "739         sadness  \n",
       "746         sadness  \n",
       "751         neutral  \n",
       "752           anger  \n",
       "926         neutral  "
      ]
     },
     "execution_count": 104,
     "metadata": {},
     "output_type": "execute_result"
    }
   ],
   "source": [
    "fear_df.head(40)"
   ]
  },
  {
   "cell_type": "markdown",
   "id": "291f7bfb-2678-4bf1-af6e-81aa0dab6f04",
   "metadata": {},
   "source": [
    "### Check the incorrect predictions of sadness class"
   ]
  },
  {
   "cell_type": "code",
   "execution_count": 105,
   "id": "b5eaf1df-09db-4987-8838-bc82df001061",
   "metadata": {},
   "outputs": [
    {
     "data": {
      "text/html": [
       "<div>\n",
       "<style scoped>\n",
       "    .dataframe tbody tr th:only-of-type {\n",
       "        vertical-align: middle;\n",
       "    }\n",
       "\n",
       "    .dataframe tbody tr th {\n",
       "        vertical-align: top;\n",
       "    }\n",
       "\n",
       "    .dataframe thead th {\n",
       "        text-align: right;\n",
       "    }\n",
       "</style>\n",
       "<table border=\"1\" class=\"dataframe\">\n",
       "  <thead>\n",
       "    <tr style=\"text-align: right;\">\n",
       "      <th></th>\n",
       "      <th>Translation</th>\n",
       "      <th>adjusted_label</th>\n",
       "      <th>predicted_label</th>\n",
       "    </tr>\n",
       "  </thead>\n",
       "  <tbody>\n",
       "    <tr>\n",
       "      <th>252</th>\n",
       "      <td>You have some idea to be together.</td>\n",
       "      <td>happiness</td>\n",
       "      <td>neutral</td>\n",
       "    </tr>\n",
       "    <tr>\n",
       "      <th>277</th>\n",
       "      <td>You have to show him that</td>\n",
       "      <td>happiness</td>\n",
       "      <td>neutral</td>\n",
       "    </tr>\n",
       "    <tr>\n",
       "      <th>308</th>\n",
       "      <td>I've been a vacation for a long time.</td>\n",
       "      <td>happiness</td>\n",
       "      <td>neutral</td>\n",
       "    </tr>\n",
       "    <tr>\n",
       "      <th>362</th>\n",
       "      <td>A friend came to his guess to play.</td>\n",
       "      <td>happiness</td>\n",
       "      <td>neutral</td>\n",
       "    </tr>\n",
       "    <tr>\n",
       "      <th>595</th>\n",
       "      <td>I think of Velina</td>\n",
       "      <td>happiness</td>\n",
       "      <td>neutral</td>\n",
       "    </tr>\n",
       "    <tr>\n",
       "      <th>620</th>\n",
       "      <td>Velina falls into real euphoria.</td>\n",
       "      <td>happiness</td>\n",
       "      <td>neutral</td>\n",
       "    </tr>\n",
       "    <tr>\n",
       "      <th>777</th>\n",
       "      <td>admits that he needs help</td>\n",
       "      <td>happiness</td>\n",
       "      <td>neutral</td>\n",
       "    </tr>\n",
       "    <tr>\n",
       "      <th>912</th>\n",
       "      <td>Velina and Nicholas no longer quarrel.</td>\n",
       "      <td>happiness</td>\n",
       "      <td>neutral</td>\n",
       "    </tr>\n",
       "    <tr>\n",
       "      <th>921</th>\n",
       "      <td>But Mom is not to blame.</td>\n",
       "      <td>happiness</td>\n",
       "      <td>surprise</td>\n",
       "    </tr>\n",
       "    <tr>\n",
       "      <th>928</th>\n",
       "      <td>And he starts to act like a real parent.</td>\n",
       "      <td>happiness</td>\n",
       "      <td>neutral</td>\n",
       "    </tr>\n",
       "    <tr>\n",
       "      <th>932</th>\n",
       "      <td>There is a new friend,</td>\n",
       "      <td>happiness</td>\n",
       "      <td>neutral</td>\n",
       "    </tr>\n",
       "    <tr>\n",
       "      <th>935</th>\n",
       "      <td>And he starts to act like a real parent.</td>\n",
       "      <td>happiness</td>\n",
       "      <td>neutral</td>\n",
       "    </tr>\n",
       "    <tr>\n",
       "      <th>939</th>\n",
       "      <td>There is a new friend,</td>\n",
       "      <td>happiness</td>\n",
       "      <td>neutral</td>\n",
       "    </tr>\n",
       "  </tbody>\n",
       "</table>\n",
       "</div>"
      ],
      "text/plain": [
       "                                  Translation adjusted_label predicted_label\n",
       "252        You have some idea to be together.      happiness         neutral\n",
       "277                 You have to show him that      happiness         neutral\n",
       "308     I've been a vacation for a long time.      happiness         neutral\n",
       "362       A friend came to his guess to play.      happiness         neutral\n",
       "595                         I think of Velina      happiness         neutral\n",
       "620          Velina falls into real euphoria.      happiness         neutral\n",
       "777                 admits that he needs help      happiness         neutral\n",
       "912    Velina and Nicholas no longer quarrel.      happiness         neutral\n",
       "921                  But Mom is not to blame.      happiness        surprise\n",
       "928  And he starts to act like a real parent.      happiness         neutral\n",
       "932                    There is a new friend,      happiness         neutral\n",
       "935  And he starts to act like a real parent.      happiness         neutral\n",
       "939                    There is a new friend,      happiness         neutral"
      ]
     },
     "execution_count": 105,
     "metadata": {},
     "output_type": "execute_result"
    }
   ],
   "source": [
    "happiness_df.head(42)"
   ]
  },
  {
   "cell_type": "markdown",
   "id": "ad822a4d-6db7-45e1-9ba4-7a9eeb98056b",
   "metadata": {},
   "source": [
    "### Check the incorrect predictions of fear class"
   ]
  },
  {
   "cell_type": "code",
   "execution_count": 106,
   "id": "c2ec9c93-8158-49ed-99f9-575932749682",
   "metadata": {},
   "outputs": [
    {
     "data": {
      "text/html": [
       "<div>\n",
       "<style scoped>\n",
       "    .dataframe tbody tr th:only-of-type {\n",
       "        vertical-align: middle;\n",
       "    }\n",
       "\n",
       "    .dataframe tbody tr th {\n",
       "        vertical-align: top;\n",
       "    }\n",
       "\n",
       "    .dataframe thead th {\n",
       "        text-align: right;\n",
       "    }\n",
       "</style>\n",
       "<table border=\"1\" class=\"dataframe\">\n",
       "  <thead>\n",
       "    <tr style=\"text-align: right;\">\n",
       "      <th></th>\n",
       "      <th>Translation</th>\n",
       "      <th>adjusted_label</th>\n",
       "      <th>predicted_label</th>\n",
       "    </tr>\n",
       "  </thead>\n",
       "  <tbody>\n",
       "    <tr>\n",
       "      <th>764</th>\n",
       "      <td>is a very nasty postponement.</td>\n",
       "      <td>disgust</td>\n",
       "      <td>anger</td>\n",
       "    </tr>\n",
       "  </tbody>\n",
       "</table>\n",
       "</div>"
      ],
      "text/plain": [
       "                       Translation adjusted_label predicted_label\n",
       "764  is a very nasty postponement.        disgust           anger"
      ]
     },
     "execution_count": 106,
     "metadata": {},
     "output_type": "execute_result"
    }
   ],
   "source": [
    "disgust_df.head(16)"
   ]
  }
 ],
 "metadata": {
  "kernelspec": {
   "display_name": "Python 3 (ipykernel)",
   "language": "python",
   "name": "python3"
  },
  "language_info": {
   "codemirror_mode": {
    "name": "ipython",
    "version": 3
   },
   "file_extension": ".py",
   "mimetype": "text/x-python",
   "name": "python",
   "nbconvert_exporter": "python",
   "pygments_lexer": "ipython3",
   "version": "3.11.0rc1"
  }
 },
 "nbformat": 4,
 "nbformat_minor": 5
}
